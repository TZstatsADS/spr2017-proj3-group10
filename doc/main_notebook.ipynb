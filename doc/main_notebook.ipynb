{
 "cells": [
  {
   "cell_type": "markdown",
   "metadata": {},
   "source": [
    "# Project 3 | Group 10\n",
    "## Section I: Logistic Classifier, GBM (boosted trees), Random Forest Method Using Resized Images Without Filtering"
   ]
  },
  {
   "cell_type": "markdown",
   "metadata": {},
   "source": [
    "** Remember to run `detect_features.py` and `resize_images.py` to generate SFrame and image data necessary to execute notebook commands**"
   ]
  },
  {
   "cell_type": "markdown",
   "metadata": {},
   "source": [
    "**key to model variables**:\n",
    "   - model_1 : logistic classifier\n",
    "   - model_2 : boosted tree classifier\n",
    "   - model_3 : random forest method"
   ]
  },
  {
   "cell_type": "markdown",
   "metadata": {},
   "source": [
    "**Step 1**: Import all necessary packages for performing analysis"
   ]
  },
  {
   "cell_type": "code",
   "execution_count": 24,
   "metadata": {
    "collapsed": true
   },
   "outputs": [],
   "source": [
    "import graphlab as gl\n",
    "import numpy as np\n",
    "from os import listdir\n",
    "from os.path import isfile, join\n",
    "import cv2"
   ]
  },
  {
   "cell_type": "markdown",
   "metadata": {},
   "source": [
    "**Step 2:** Set the base image directory and the path to the csv file containing the raw image labels.  We will use these directories for importing info into the IPython Notebook"
   ]
  },
  {
   "cell_type": "code",
   "execution_count": 3,
   "metadata": {
    "collapsed": false
   },
   "outputs": [],
   "source": [
    "base_dir = '/Users/galen/Desktop/image_classification/'\n",
    "\n",
    "sframe_dir = join(base_dir, 'data/sframe')\n",
    "img_dir = join(base_dir, 'data')\n",
    "feature_dir = join(base_dir, 'data/csv_features')\n",
    "figure_dir = join(base_dir,'figs')\n",
    "model_dir = join(base_dir,'output/trained_model')\n",
    "\n",
    "label_file = join(base_dir, 'data/csv_labels/labels.csv')\n",
    "sift_file = join(feature_dir,'sift_features.csv')\n",
    "submission_file = join(base_dir, 'output/contest_submission.csv')"
   ]
  },
  {
   "cell_type": "markdown",
   "metadata": {},
   "source": [
    "**Step 3:** We are given sift features in a csv.  We use a script called `generate_sframe.py` to generate an SFrame which we will use for our analysis."
   ]
  },
  {
   "cell_type": "code",
   "execution_count": 4,
   "metadata": {
    "collapsed": false
   },
   "outputs": [
    {
     "name": "stdout",
     "output_type": "stream",
     "text": [
      "This non-commercial license of GraphLab Create for academic use is assigned to gsimmons17@gsb.columbia.edu and will expire on December 07, 2017.\n"
     ]
    },
    {
     "name": "stderr",
     "output_type": "stream",
     "text": [
      "[INFO] graphlab.cython.cy_server: GraphLab Create v2.1 started. Logging: /tmp/graphlab_server_1490376349.log\n"
     ]
    }
   ],
   "source": [
    "sf = gl.load_sframe(join(sframe_dir,'sift_features'))"
   ]
  },
  {
   "cell_type": "markdown",
   "metadata": {},
   "source": [
    "We can see from the stucture of the SFrame that the given sift features and labels are loaded, as well as the images that have been resized with the `resize_images.py` script we wrote"
   ]
  },
  {
   "cell_type": "code",
   "execution_count": 5,
   "metadata": {
    "collapsed": false
   },
   "outputs": [
    {
     "data": {
      "text/html": [
       "<div style=\"max-height:1000px;max-width:1500px;overflow:auto;\"><table frame=\"box\" rules=\"cols\">\n",
       "    <tr>\n",
       "        <th style=\"padding-left: 1em; padding-right: 1em; text-align: center\">id</th>\n",
       "        <th style=\"padding-left: 1em; padding-right: 1em; text-align: center\">sift_features</th>\n",
       "        <th style=\"padding-left: 1em; padding-right: 1em; text-align: center\">label</th>\n",
       "        <th style=\"padding-left: 1em; padding-right: 1em; text-align: center\">image</th>\n",
       "    </tr>\n",
       "    <tr>\n",
       "        <td style=\"padding-left: 1em; padding-right: 1em; text-align: center; vertical-align: top\">0</td>\n",
       "        <td style=\"padding-left: 1em; padding-right: 1em; text-align: center; vertical-align: top\">[0.0, 0.0, 0.0, 0.0,<br>0.000635729986243, ...</td>\n",
       "        <td style=\"padding-left: 1em; padding-right: 1em; text-align: center; vertical-align: top\">chicken</td>\n",
       "        <td style=\"padding-left: 1em; padding-right: 1em; text-align: center; vertical-align: top\">Height: 256 Width: 256</td>\n",
       "    </tr>\n",
       "    <tr>\n",
       "        <td style=\"padding-left: 1em; padding-right: 1em; text-align: center; vertical-align: top\">1</td>\n",
       "        <td style=\"padding-left: 1em; padding-right: 1em; text-align: center; vertical-align: top\">[0.0, 0.0, 0.0, 0.0,<br>0.000626179971732, ...</td>\n",
       "        <td style=\"padding-left: 1em; padding-right: 1em; text-align: center; vertical-align: top\">chicken</td>\n",
       "        <td style=\"padding-left: 1em; padding-right: 1em; text-align: center; vertical-align: top\">Height: 256 Width: 256</td>\n",
       "    </tr>\n",
       "    <tr>\n",
       "        <td style=\"padding-left: 1em; padding-right: 1em; text-align: center; vertical-align: top\">2</td>\n",
       "        <td style=\"padding-left: 1em; padding-right: 1em; text-align: center; vertical-align: top\">[0.000846739974804, 0.0,<br>0.0, 0.0, ...</td>\n",
       "        <td style=\"padding-left: 1em; padding-right: 1em; text-align: center; vertical-align: top\">chicken</td>\n",
       "        <td style=\"padding-left: 1em; padding-right: 1em; text-align: center; vertical-align: top\">Height: 256 Width: 256</td>\n",
       "    </tr>\n",
       "    <tr>\n",
       "        <td style=\"padding-left: 1em; padding-right: 1em; text-align: center; vertical-align: top\">3</td>\n",
       "        <td style=\"padding-left: 1em; padding-right: 1em; text-align: center; vertical-align: top\">[0.0, 0.0, 0.0, 0.0,<br>0.000565610011108, ...</td>\n",
       "        <td style=\"padding-left: 1em; padding-right: 1em; text-align: center; vertical-align: top\">chicken</td>\n",
       "        <td style=\"padding-left: 1em; padding-right: 1em; text-align: center; vertical-align: top\">Height: 256 Width: 256</td>\n",
       "    </tr>\n",
       "    <tr>\n",
       "        <td style=\"padding-left: 1em; padding-right: 1em; text-align: center; vertical-align: top\">4</td>\n",
       "        <td style=\"padding-left: 1em; padding-right: 1em; text-align: center; vertical-align: top\">[0.0, 0.0, 0.0, 0.0, 0.0,<br>0.00277010002173, 0.0, ...</td>\n",
       "        <td style=\"padding-left: 1em; padding-right: 1em; text-align: center; vertical-align: top\">chicken</td>\n",
       "        <td style=\"padding-left: 1em; padding-right: 1em; text-align: center; vertical-align: top\">Height: 256 Width: 256</td>\n",
       "    </tr>\n",
       "    <tr>\n",
       "        <td style=\"padding-left: 1em; padding-right: 1em; text-align: center; vertical-align: top\">5</td>\n",
       "        <td style=\"padding-left: 1em; padding-right: 1em; text-align: center; vertical-align: top\">[0.0, 0.0, 0.0, 0.0,<br>0.000596660014708, ...</td>\n",
       "        <td style=\"padding-left: 1em; padding-right: 1em; text-align: center; vertical-align: top\">chicken</td>\n",
       "        <td style=\"padding-left: 1em; padding-right: 1em; text-align: center; vertical-align: top\">Height: 256 Width: 256</td>\n",
       "    </tr>\n",
       "    <tr>\n",
       "        <td style=\"padding-left: 1em; padding-right: 1em; text-align: center; vertical-align: top\">6</td>\n",
       "        <td style=\"padding-left: 1em; padding-right: 1em; text-align: center; vertical-align: top\">[0.000898469996173, 0.0,<br>0.0, 0.0, 0.0, ...</td>\n",
       "        <td style=\"padding-left: 1em; padding-right: 1em; text-align: center; vertical-align: top\">chicken</td>\n",
       "        <td style=\"padding-left: 1em; padding-right: 1em; text-align: center; vertical-align: top\">Height: 256 Width: 256</td>\n",
       "    </tr>\n",
       "    <tr>\n",
       "        <td style=\"padding-left: 1em; padding-right: 1em; text-align: center; vertical-align: top\">7</td>\n",
       "        <td style=\"padding-left: 1em; padding-right: 1em; text-align: center; vertical-align: top\">[0.0, 0.0, 0.0, 0.0, 0.0,<br>0.0, 0.0, 0.0, ...</td>\n",
       "        <td style=\"padding-left: 1em; padding-right: 1em; text-align: center; vertical-align: top\">chicken</td>\n",
       "        <td style=\"padding-left: 1em; padding-right: 1em; text-align: center; vertical-align: top\">Height: 256 Width: 256</td>\n",
       "    </tr>\n",
       "    <tr>\n",
       "        <td style=\"padding-left: 1em; padding-right: 1em; text-align: center; vertical-align: top\">8</td>\n",
       "        <td style=\"padding-left: 1em; padding-right: 1em; text-align: center; vertical-align: top\">[0.0, 0.0, 0.0,<br>0.00112869997974, 0.0, ...</td>\n",
       "        <td style=\"padding-left: 1em; padding-right: 1em; text-align: center; vertical-align: top\">chicken</td>\n",
       "        <td style=\"padding-left: 1em; padding-right: 1em; text-align: center; vertical-align: top\">Height: 256 Width: 256</td>\n",
       "    </tr>\n",
       "    <tr>\n",
       "        <td style=\"padding-left: 1em; padding-right: 1em; text-align: center; vertical-align: top\">9</td>\n",
       "        <td style=\"padding-left: 1em; padding-right: 1em; text-align: center; vertical-align: top\">[0.0, 0.0, 0.0, 0.0, 0.0,<br>0.00160600000527, 0.0, ...</td>\n",
       "        <td style=\"padding-left: 1em; padding-right: 1em; text-align: center; vertical-align: top\">chicken</td>\n",
       "        <td style=\"padding-left: 1em; padding-right: 1em; text-align: center; vertical-align: top\">Height: 256 Width: 256</td>\n",
       "    </tr>\n",
       "</table>\n",
       "[10 rows x 4 columns]<br/>\n",
       "</div>"
      ],
      "text/plain": [
       "Columns:\n",
       "\tid\tint\n",
       "\tsift_features\tarray\n",
       "\tlabel\tstr\n",
       "\timage\tImage\n",
       "\n",
       "Rows: 10\n",
       "\n",
       "Data:\n",
       "+----+-------------------------------+---------+------------------------+\n",
       "| id |         sift_features         |  label  |         image          |\n",
       "+----+-------------------------------+---------+------------------------+\n",
       "| 0  | [0.0, 0.0, 0.0, 0.0, 0.000... | chicken | Height: 256 Width: 256 |\n",
       "| 1  | [0.0, 0.0, 0.0, 0.0, 0.000... | chicken | Height: 256 Width: 256 |\n",
       "| 2  | [0.000846739974804, 0.0, 0... | chicken | Height: 256 Width: 256 |\n",
       "| 3  | [0.0, 0.0, 0.0, 0.0, 0.000... | chicken | Height: 256 Width: 256 |\n",
       "| 4  | [0.0, 0.0, 0.0, 0.0, 0.0, ... | chicken | Height: 256 Width: 256 |\n",
       "| 5  | [0.0, 0.0, 0.0, 0.0, 0.000... | chicken | Height: 256 Width: 256 |\n",
       "| 6  | [0.000898469996173, 0.0, 0... | chicken | Height: 256 Width: 256 |\n",
       "| 7  | [0.0, 0.0, 0.0, 0.0, 0.0, ... | chicken | Height: 256 Width: 256 |\n",
       "| 8  | [0.0, 0.0, 0.0, 0.00112869... | chicken | Height: 256 Width: 256 |\n",
       "| 9  | [0.0, 0.0, 0.0, 0.0, 0.0, ... | chicken | Height: 256 Width: 256 |\n",
       "+----+-------------------------------+---------+------------------------+\n",
       "[10 rows x 4 columns]"
      ]
     },
     "execution_count": 5,
     "metadata": {},
     "output_type": "execute_result"
    }
   ],
   "source": [
    "sf.head()"
   ]
  },
  {
   "cell_type": "markdown",
   "metadata": {},
   "source": [
    "*side note:* We'll save a copy of the id and label columns for later use (we will construct other SFrame's using different image data)"
   ]
  },
  {
   "cell_type": "code",
   "execution_count": 6,
   "metadata": {
    "collapsed": false
   },
   "outputs": [],
   "source": [
    "general_sframe = sf.select_columns(['id','label'])"
   ]
  },
  {
   "cell_type": "markdown",
   "metadata": {},
   "source": [
    "**Step 4:** In general, it is a good idea to randomly split data into a training and validation set.  We do this to make sure that our models are not overfitting. "
   ]
  },
  {
   "cell_type": "code",
   "execution_count": 7,
   "metadata": {
    "collapsed": true
   },
   "outputs": [],
   "source": [
    "train, validation = sf.random_split(.5, seed = 0) # returns 50% training, 50% validation from sf"
   ]
  },
  {
   "cell_type": "markdown",
   "metadata": {},
   "source": [
    "**Step 5:** We train the models and calculate accuracy on our validation sets."
   ]
  },
  {
   "cell_type": "code",
   "execution_count": 8,
   "metadata": {
    "collapsed": false,
    "scrolled": true
   },
   "outputs": [
    {
     "data": {
      "text/html": [
       "<pre>WARNING: The number of feature dimensions in this problem is very large in comparison with the number of examples. Unless an appropriate regularization value is set, this model may not provide accurate predictions for a validation/test set.</pre>"
      ],
      "text/plain": [
       "WARNING: The number of feature dimensions in this problem is very large in comparison with the number of examples. Unless an appropriate regularization value is set, this model may not provide accurate predictions for a validation/test set."
      ]
     },
     "metadata": {},
     "output_type": "display_data"
    },
    {
     "data": {
      "text/html": [
       "<pre>Logistic regression:</pre>"
      ],
      "text/plain": [
       "Logistic regression:"
      ]
     },
     "metadata": {},
     "output_type": "display_data"
    },
    {
     "data": {
      "text/html": [
       "<pre>--------------------------------------------------------</pre>"
      ],
      "text/plain": [
       "--------------------------------------------------------"
      ]
     },
     "metadata": {},
     "output_type": "display_data"
    },
    {
     "data": {
      "text/html": [
       "<pre>Number of examples          : 2000</pre>"
      ],
      "text/plain": [
       "Number of examples          : 2000"
      ]
     },
     "metadata": {},
     "output_type": "display_data"
    },
    {
     "data": {
      "text/html": [
       "<pre>Number of classes           : 2</pre>"
      ],
      "text/plain": [
       "Number of classes           : 2"
      ]
     },
     "metadata": {},
     "output_type": "display_data"
    },
    {
     "data": {
      "text/html": [
       "<pre>Number of feature columns   : 1</pre>"
      ],
      "text/plain": [
       "Number of feature columns   : 1"
      ]
     },
     "metadata": {},
     "output_type": "display_data"
    },
    {
     "data": {
      "text/html": [
       "<pre>Number of unpacked features : 5000</pre>"
      ],
      "text/plain": [
       "Number of unpacked features : 5000"
      ]
     },
     "metadata": {},
     "output_type": "display_data"
    },
    {
     "data": {
      "text/html": [
       "<pre>Number of coefficients    : 5001</pre>"
      ],
      "text/plain": [
       "Number of coefficients    : 5001"
      ]
     },
     "metadata": {},
     "output_type": "display_data"
    },
    {
     "data": {
      "text/html": [
       "<pre>Starting L-BFGS</pre>"
      ],
      "text/plain": [
       "Starting L-BFGS"
      ]
     },
     "metadata": {},
     "output_type": "display_data"
    },
    {
     "data": {
      "text/html": [
       "<pre>--------------------------------------------------------</pre>"
      ],
      "text/plain": [
       "--------------------------------------------------------"
      ]
     },
     "metadata": {},
     "output_type": "display_data"
    },
    {
     "data": {
      "text/html": [
       "<pre>+-----------+----------+-----------+--------------+-------------------+---------------------+</pre>"
      ],
      "text/plain": [
       "+-----------+----------+-----------+--------------+-------------------+---------------------+"
      ]
     },
     "metadata": {},
     "output_type": "display_data"
    },
    {
     "data": {
      "text/html": [
       "<pre>| Iteration | Passes   | Step size | Elapsed Time | Training-accuracy | Validation-accuracy |</pre>"
      ],
      "text/plain": [
       "| Iteration | Passes   | Step size | Elapsed Time | Training-accuracy | Validation-accuracy |"
      ]
     },
     "metadata": {},
     "output_type": "display_data"
    },
    {
     "data": {
      "text/html": [
       "<pre>+-----------+----------+-----------+--------------+-------------------+---------------------+</pre>"
      ],
      "text/plain": [
       "+-----------+----------+-----------+--------------+-------------------+---------------------+"
      ]
     },
     "metadata": {},
     "output_type": "display_data"
    },
    {
     "data": {
      "text/html": [
       "<pre>| 1         | 4        | 0.000250  | 3.342107     | 0.701000          | 0.702891            |</pre>"
      ],
      "text/plain": [
       "| 1         | 4        | 0.000250  | 3.342107     | 0.701000          | 0.702891            |"
      ]
     },
     "metadata": {},
     "output_type": "display_data"
    },
    {
     "data": {
      "text/html": [
       "<pre>| 2         | 6        | 1.000000  | 5.023788     | 0.834000          | 0.836491            |</pre>"
      ],
      "text/plain": [
       "| 2         | 6        | 1.000000  | 5.023788     | 0.834000          | 0.836491            |"
      ]
     },
     "metadata": {},
     "output_type": "display_data"
    },
    {
     "data": {
      "text/html": [
       "<pre>| 3         | 7        | 1.000000  | 6.136171     | 0.843000          | 0.844467            |</pre>"
      ],
      "text/plain": [
       "| 3         | 7        | 1.000000  | 6.136171     | 0.843000          | 0.844467            |"
      ]
     },
     "metadata": {},
     "output_type": "display_data"
    },
    {
     "data": {
      "text/html": [
       "<pre>| 4         | 8        | 1.000000  | 7.292614     | 0.631000          | 0.631107            |</pre>"
      ],
      "text/plain": [
       "| 4         | 8        | 1.000000  | 7.292614     | 0.631000          | 0.631107            |"
      ]
     },
     "metadata": {},
     "output_type": "display_data"
    },
    {
     "data": {
      "text/html": [
       "<pre>| 5         | 10       | 1.000000  | 8.948609     | 0.916000          | 0.915254            |</pre>"
      ],
      "text/plain": [
       "| 5         | 10       | 1.000000  | 8.948609     | 0.916000          | 0.915254            |"
      ]
     },
     "metadata": {},
     "output_type": "display_data"
    },
    {
     "data": {
      "text/html": [
       "<pre>| 6         | 11       | 1.000000  | 10.056612    | 0.952500          | 0.952144            |</pre>"
      ],
      "text/plain": [
       "| 6         | 11       | 1.000000  | 10.056612    | 0.952500          | 0.952144            |"
      ]
     },
     "metadata": {},
     "output_type": "display_data"
    },
    {
     "data": {
      "text/html": [
       "<pre>| 7         | 12       | 1.000000  | 11.127705    | 0.955000          | 0.953141            |</pre>"
      ],
      "text/plain": [
       "| 7         | 12       | 1.000000  | 11.127705    | 0.955000          | 0.953141            |"
      ]
     },
     "metadata": {},
     "output_type": "display_data"
    },
    {
     "data": {
      "text/html": [
       "<pre>| 8         | 13       | 1.000000  | 12.230333    | 0.960500          | 0.959123            |</pre>"
      ],
      "text/plain": [
       "| 8         | 13       | 1.000000  | 12.230333    | 0.960500          | 0.959123            |"
      ]
     },
     "metadata": {},
     "output_type": "display_data"
    },
    {
     "data": {
      "text/html": [
       "<pre>| 9         | 14       | 1.000000  | 13.401165    | 0.986500          | 0.987039            |</pre>"
      ],
      "text/plain": [
       "| 9         | 14       | 1.000000  | 13.401165    | 0.986500          | 0.987039            |"
      ]
     },
     "metadata": {},
     "output_type": "display_data"
    },
    {
     "data": {
      "text/html": [
       "<pre>| 10        | 15       | 1.000000  | 14.527657    | 0.997500          | 0.998006            |</pre>"
      ],
      "text/plain": [
       "| 10        | 15       | 1.000000  | 14.527657    | 0.997500          | 0.998006            |"
      ]
     },
     "metadata": {},
     "output_type": "display_data"
    },
    {
     "data": {
      "text/html": [
       "<pre>+-----------+----------+-----------+--------------+-------------------+---------------------+</pre>"
      ],
      "text/plain": [
       "+-----------+----------+-----------+--------------+-------------------+---------------------+"
      ]
     },
     "metadata": {},
     "output_type": "display_data"
    },
    {
     "data": {
      "text/html": [
       "<pre>TERMINATED: Iteration limit reached.</pre>"
      ],
      "text/plain": [
       "TERMINATED: Iteration limit reached."
      ]
     },
     "metadata": {},
     "output_type": "display_data"
    },
    {
     "data": {
      "text/html": [
       "<pre>This model may not be optimal. To improve it, consider increasing `max_iterations`.</pre>"
      ],
      "text/plain": [
       "This model may not be optimal. To improve it, consider increasing `max_iterations`."
      ]
     },
     "metadata": {},
     "output_type": "display_data"
    },
    {
     "data": {
      "text/html": [
       "<pre>WARNING: The number of feature dimensions in this problem is very large in comparison with the number of examples. Unless an appropriate regularization value is set, this model may not provide accurate predictions for a validation/test set.</pre>"
      ],
      "text/plain": [
       "WARNING: The number of feature dimensions in this problem is very large in comparison with the number of examples. Unless an appropriate regularization value is set, this model may not provide accurate predictions for a validation/test set."
      ]
     },
     "metadata": {},
     "output_type": "display_data"
    },
    {
     "data": {
      "text/html": [
       "<pre>Boosted trees classifier:</pre>"
      ],
      "text/plain": [
       "Boosted trees classifier:"
      ]
     },
     "metadata": {},
     "output_type": "display_data"
    },
    {
     "data": {
      "text/html": [
       "<pre>--------------------------------------------------------</pre>"
      ],
      "text/plain": [
       "--------------------------------------------------------"
      ]
     },
     "metadata": {},
     "output_type": "display_data"
    },
    {
     "data": {
      "text/html": [
       "<pre>Number of examples          : 2000</pre>"
      ],
      "text/plain": [
       "Number of examples          : 2000"
      ]
     },
     "metadata": {},
     "output_type": "display_data"
    },
    {
     "data": {
      "text/html": [
       "<pre>Number of classes           : 2</pre>"
      ],
      "text/plain": [
       "Number of classes           : 2"
      ]
     },
     "metadata": {},
     "output_type": "display_data"
    },
    {
     "data": {
      "text/html": [
       "<pre>Number of feature columns   : 1</pre>"
      ],
      "text/plain": [
       "Number of feature columns   : 1"
      ]
     },
     "metadata": {},
     "output_type": "display_data"
    },
    {
     "data": {
      "text/html": [
       "<pre>Number of unpacked features : 5000</pre>"
      ],
      "text/plain": [
       "Number of unpacked features : 5000"
      ]
     },
     "metadata": {},
     "output_type": "display_data"
    },
    {
     "data": {
      "text/html": [
       "<pre>+-----------+--------------+-------------------+---------------------+-------------------+---------------------+</pre>"
      ],
      "text/plain": [
       "+-----------+--------------+-------------------+---------------------+-------------------+---------------------+"
      ]
     },
     "metadata": {},
     "output_type": "display_data"
    },
    {
     "data": {
      "text/html": [
       "<pre>| Iteration | Elapsed Time | Training-accuracy | Validation-accuracy | Training-log_loss | Validation-log_loss |</pre>"
      ],
      "text/plain": [
       "| Iteration | Elapsed Time | Training-accuracy | Validation-accuracy | Training-log_loss | Validation-log_loss |"
      ]
     },
     "metadata": {},
     "output_type": "display_data"
    },
    {
     "data": {
      "text/html": [
       "<pre>+-----------+--------------+-------------------+---------------------+-------------------+---------------------+</pre>"
      ],
      "text/plain": [
       "+-----------+--------------+-------------------+---------------------+-------------------+---------------------+"
      ]
     },
     "metadata": {},
     "output_type": "display_data"
    },
    {
     "data": {
      "text/html": [
       "<pre>| 1         | 0.645099     | 0.821000          | 0.821535            | 0.586456          | 0.585334            |</pre>"
      ],
      "text/plain": [
       "| 1         | 0.645099     | 0.821000          | 0.821535            | 0.586456          | 0.585334            |"
      ]
     },
     "metadata": {},
     "output_type": "display_data"
    },
    {
     "data": {
      "text/html": [
       "<pre>| 2         | 1.155072     | 0.859500          | 0.873380            | 0.506409          | 0.501208            |</pre>"
      ],
      "text/plain": [
       "| 2         | 1.155072     | 0.859500          | 0.873380            | 0.506409          | 0.501208            |"
      ]
     },
     "metadata": {},
     "output_type": "display_data"
    },
    {
     "data": {
      "text/html": [
       "<pre>| 3         | 1.626021     | 0.887500          | 0.894317            | 0.461361          | 0.455981            |</pre>"
      ],
      "text/plain": [
       "| 3         | 1.626021     | 0.887500          | 0.894317            | 0.461361          | 0.455981            |"
      ]
     },
     "metadata": {},
     "output_type": "display_data"
    },
    {
     "data": {
      "text/html": [
       "<pre>| 4         | 2.126045     | 0.910000          | 0.917248            | 0.411537          | 0.404149            |</pre>"
      ],
      "text/plain": [
       "| 4         | 2.126045     | 0.910000          | 0.917248            | 0.411537          | 0.404149            |"
      ]
     },
     "metadata": {},
     "output_type": "display_data"
    },
    {
     "data": {
      "text/html": [
       "<pre>| 5         | 2.626388     | 0.931500          | 0.939182            | 0.365725          | 0.357199            |</pre>"
      ],
      "text/plain": [
       "| 5         | 2.626388     | 0.931500          | 0.939182            | 0.365725          | 0.357199            |"
      ]
     },
     "metadata": {},
     "output_type": "display_data"
    },
    {
     "data": {
      "text/html": [
       "<pre>| 6         | 3.164676     | 0.954000          | 0.956132            | 0.322381          | 0.316077            |</pre>"
      ],
      "text/plain": [
       "| 6         | 3.164676     | 0.954000          | 0.956132            | 0.322381          | 0.316077            |"
      ]
     },
     "metadata": {},
     "output_type": "display_data"
    },
    {
     "data": {
      "text/html": [
       "<pre>| 10        | 5.143115     | 0.986500          | 0.990030            | 0.226565          | 0.221397            |</pre>"
      ],
      "text/plain": [
       "| 10        | 5.143115     | 0.986500          | 0.990030            | 0.226565          | 0.221397            |"
      ]
     },
     "metadata": {},
     "output_type": "display_data"
    },
    {
     "data": {
      "text/html": [
       "<pre>+-----------+--------------+-------------------+---------------------+-------------------+---------------------+</pre>"
      ],
      "text/plain": [
       "+-----------+--------------+-------------------+---------------------+-------------------+---------------------+"
      ]
     },
     "metadata": {},
     "output_type": "display_data"
    },
    {
     "data": {
      "text/html": [
       "<pre>WARNING: The number of feature dimensions in this problem is very large in comparison with the number of examples. Unless an appropriate regularization value is set, this model may not provide accurate predictions for a validation/test set.</pre>"
      ],
      "text/plain": [
       "WARNING: The number of feature dimensions in this problem is very large in comparison with the number of examples. Unless an appropriate regularization value is set, this model may not provide accurate predictions for a validation/test set."
      ]
     },
     "metadata": {},
     "output_type": "display_data"
    },
    {
     "data": {
      "text/html": [
       "<pre>Random forest classifier:</pre>"
      ],
      "text/plain": [
       "Random forest classifier:"
      ]
     },
     "metadata": {},
     "output_type": "display_data"
    },
    {
     "data": {
      "text/html": [
       "<pre>--------------------------------------------------------</pre>"
      ],
      "text/plain": [
       "--------------------------------------------------------"
      ]
     },
     "metadata": {},
     "output_type": "display_data"
    },
    {
     "data": {
      "text/html": [
       "<pre>Number of examples          : 2000</pre>"
      ],
      "text/plain": [
       "Number of examples          : 2000"
      ]
     },
     "metadata": {},
     "output_type": "display_data"
    },
    {
     "data": {
      "text/html": [
       "<pre>Number of classes           : 2</pre>"
      ],
      "text/plain": [
       "Number of classes           : 2"
      ]
     },
     "metadata": {},
     "output_type": "display_data"
    },
    {
     "data": {
      "text/html": [
       "<pre>Number of feature columns   : 1</pre>"
      ],
      "text/plain": [
       "Number of feature columns   : 1"
      ]
     },
     "metadata": {},
     "output_type": "display_data"
    },
    {
     "data": {
      "text/html": [
       "<pre>Number of unpacked features : 5000</pre>"
      ],
      "text/plain": [
       "Number of unpacked features : 5000"
      ]
     },
     "metadata": {},
     "output_type": "display_data"
    },
    {
     "data": {
      "text/html": [
       "<pre>+-----------+--------------+-------------------+---------------------+-------------------+---------------------+</pre>"
      ],
      "text/plain": [
       "+-----------+--------------+-------------------+---------------------+-------------------+---------------------+"
      ]
     },
     "metadata": {},
     "output_type": "display_data"
    },
    {
     "data": {
      "text/html": [
       "<pre>| Iteration | Elapsed Time | Training-accuracy | Validation-accuracy | Training-log_loss | Validation-log_loss |</pre>"
      ],
      "text/plain": [
       "| Iteration | Elapsed Time | Training-accuracy | Validation-accuracy | Training-log_loss | Validation-log_loss |"
      ]
     },
     "metadata": {},
     "output_type": "display_data"
    },
    {
     "data": {
      "text/html": [
       "<pre>+-----------+--------------+-------------------+---------------------+-------------------+---------------------+</pre>"
      ],
      "text/plain": [
       "+-----------+--------------+-------------------+---------------------+-------------------+---------------------+"
      ]
     },
     "metadata": {},
     "output_type": "display_data"
    },
    {
     "data": {
      "text/html": [
       "<pre>| 1         | 0.611459     | 0.776000          | 0.767697            | 0.503612          | 0.508251            |</pre>"
      ],
      "text/plain": [
       "| 1         | 0.611459     | 0.776000          | 0.767697            | 0.503612          | 0.508251            |"
      ]
     },
     "metadata": {},
     "output_type": "display_data"
    },
    {
     "data": {
      "text/html": [
       "<pre>| 2         | 1.028728     | 0.795000          | 0.787637            | 0.479073          | 0.482462            |</pre>"
      ],
      "text/plain": [
       "| 2         | 1.028728     | 0.795000          | 0.787637            | 0.479073          | 0.482462            |"
      ]
     },
     "metadata": {},
     "output_type": "display_data"
    },
    {
     "data": {
      "text/html": [
       "<pre>| 3         | 1.438116     | 0.820500          | 0.819541            | 0.466991          | 0.470894            |</pre>"
      ],
      "text/plain": [
       "| 3         | 1.438116     | 0.820500          | 0.819541            | 0.466991          | 0.470894            |"
      ]
     },
     "metadata": {},
     "output_type": "display_data"
    },
    {
     "data": {
      "text/html": [
       "<pre>| 4         | 1.884437     | 0.842000          | 0.833499            | 0.450955          | 0.459278            |</pre>"
      ],
      "text/plain": [
       "| 4         | 1.884437     | 0.842000          | 0.833499            | 0.450955          | 0.459278            |"
      ]
     },
     "metadata": {},
     "output_type": "display_data"
    },
    {
     "data": {
      "text/html": [
       "<pre>| 5         | 2.286205     | 0.855000          | 0.842473            | 0.448245          | 0.455400            |</pre>"
      ],
      "text/plain": [
       "| 5         | 2.286205     | 0.855000          | 0.842473            | 0.448245          | 0.455400            |"
      ]
     },
     "metadata": {},
     "output_type": "display_data"
    },
    {
     "data": {
      "text/html": [
       "<pre>| 6         | 2.714018     | 0.873500          | 0.864407            | 0.439090          | 0.443162            |</pre>"
      ],
      "text/plain": [
       "| 6         | 2.714018     | 0.873500          | 0.864407            | 0.439090          | 0.443162            |"
      ]
     },
     "metadata": {},
     "output_type": "display_data"
    },
    {
     "data": {
      "text/html": [
       "<pre>| 10        | 4.507262     | 0.887500          | 0.888335            | 0.429688          | 0.429739            |</pre>"
      ],
      "text/plain": [
       "| 10        | 4.507262     | 0.887500          | 0.888335            | 0.429688          | 0.429739            |"
      ]
     },
     "metadata": {},
     "output_type": "display_data"
    },
    {
     "data": {
      "text/html": [
       "<pre>+-----------+--------------+-------------------+---------------------+-------------------+---------------------+</pre>"
      ],
      "text/plain": [
       "+-----------+--------------+-------------------+---------------------+-------------------+---------------------+"
      ]
     },
     "metadata": {},
     "output_type": "display_data"
    }
   ],
   "source": [
    "model_1 = gl.logistic_classifier.create(sf, target='label', features=['sift_features'], validation_set=validation)\n",
    "model_2 = gl.boosted_trees_classifier.create(sf, target='label', features=['sift_features'], validation_set=validation)\n",
    "model_3 = gl.random_forest_classifier.create(sf, target='label', features=['sift_features'], validation_set=validation)"
   ]
  },
  {
   "cell_type": "code",
   "execution_count": 9,
   "metadata": {
    "collapsed": false
   },
   "outputs": [],
   "source": [
    "acc_1 = model_1.evaluate(validation)\n",
    "acc_2 = model_2.evaluate(validation)\n",
    "acc_3 = model_3.evaluate(validation)"
   ]
  },
  {
   "cell_type": "markdown",
   "metadata": {},
   "source": [
    "*Below we print the confusion matrices for each model and the validation accuracy*"
   ]
  },
  {
   "cell_type": "code",
   "execution_count": 10,
   "metadata": {
    "collapsed": false
   },
   "outputs": [
    {
     "data": {
      "text/plain": [
       "(Columns:\n",
       " \ttarget_label\tstr\n",
       " \tpredicted_label\tstr\n",
       " \tcount\tint\n",
       " \n",
       " Rows: 4\n",
       " \n",
       " Data:\n",
       " +--------------+-----------------+-------+\n",
       " | target_label | predicted_label | count |\n",
       " +--------------+-----------------+-------+\n",
       " |     dog      |       dog       |  505  |\n",
       " |   chicken    |     chicken     |  496  |\n",
       " |     dog      |     chicken     |   1   |\n",
       " |   chicken    |       dog       |   1   |\n",
       " +--------------+-----------------+-------+\n",
       " [4 rows x 3 columns], Columns:\n",
       " \ttarget_label\tstr\n",
       " \tpredicted_label\tstr\n",
       " \tcount\tint\n",
       " \n",
       " Rows: 4\n",
       " \n",
       " Data:\n",
       " +--------------+-----------------+-------+\n",
       " | target_label | predicted_label | count |\n",
       " +--------------+-----------------+-------+\n",
       " |   chicken    |       dog       |   5   |\n",
       " |     dog      |       dog       |  501  |\n",
       " |   chicken    |     chicken     |  492  |\n",
       " |     dog      |     chicken     |   5   |\n",
       " +--------------+-----------------+-------+\n",
       " [4 rows x 3 columns], Columns:\n",
       " \ttarget_label\tstr\n",
       " \tpredicted_label\tstr\n",
       " \tcount\tint\n",
       " \n",
       " Rows: 4\n",
       " \n",
       " Data:\n",
       " +--------------+-----------------+-------+\n",
       " | target_label | predicted_label | count |\n",
       " +--------------+-----------------+-------+\n",
       " |   chicken    |       dog       |   32  |\n",
       " |     dog      |       dog       |  426  |\n",
       " |   chicken    |     chicken     |  465  |\n",
       " |     dog      |     chicken     |   80  |\n",
       " +--------------+-----------------+-------+\n",
       " [4 rows x 3 columns])"
      ]
     },
     "execution_count": 10,
     "metadata": {},
     "output_type": "execute_result"
    }
   ],
   "source": [
    "acc_1['confusion_matrix'], acc_2['confusion_matrix'], acc_3['confusion_matrix']"
   ]
  },
  {
   "cell_type": "code",
   "execution_count": 11,
   "metadata": {
    "collapsed": false
   },
   "outputs": [
    {
     "name": "stdout",
     "output_type": "stream",
     "text": [
      "Model 1 Validation Accuracy: 0.9980\n",
      "Model 2 Validation Accuracy: 0.9900\n",
      "Model 3 Validation Accuracy: 0.8883\n"
     ]
    }
   ],
   "source": [
    "print(\"Model 1 Validation Accuracy: %.4f\" % acc_1['accuracy'])\n",
    "print(\"Model 2 Validation Accuracy: %.4f\" % acc_2['accuracy'])\n",
    "print(\"Model 3 Validation Accuracy: %.4f\" % acc_3['accuracy'])"
   ]
  },
  {
   "cell_type": "markdown",
   "metadata": {},
   "source": [
    "**From this information, we can conclude that model 1, the logistic classifier has the best results on the given sift features**"
   ]
  },
  {
   "cell_type": "markdown",
   "metadata": {},
   "source": [
    "**Step 6:** We can now store our predictions from each model in columns in the original SFrame"
   ]
  },
  {
   "cell_type": "code",
   "execution_count": 19,
   "metadata": {
    "collapsed": true
   },
   "outputs": [],
   "source": [
    "sf['m1_label'] = model_1.predict(sf)\n",
    "sf['m2_label'] = model_2.predict(sf)\n",
    "sf['m3_label'] = model_3.predict(sf)"
   ]
  },
  {
   "cell_type": "markdown",
   "metadata": {},
   "source": [
    "We also save our predictions in csv for the contest"
   ]
  },
  {
   "cell_type": "code",
   "execution_count": 20,
   "metadata": {
    "collapsed": true
   },
   "outputs": [],
   "source": [
    "contest_predictions = sf['m1_label'].apply(lambda x: 0 if x=='chicken' else 1)\n",
    "gl.SFrame({'predictions': contest_predictions}).export_csv(submission_file)"
   ]
  },
  {
   "cell_type": "markdown",
   "metadata": {},
   "source": [
    "It would be interesting to see an example of an image where the models disagree.  Let's find one."
   ]
  },
  {
   "cell_type": "code",
   "execution_count": 21,
   "metadata": {
    "collapsed": false
   },
   "outputs": [],
   "source": [
    "disagree = sf[sf['m2_label']!=sf['m3_label']]"
   ]
  },
  {
   "cell_type": "markdown",
   "metadata": {},
   "source": [
    "Let's have a look at some disagreements"
   ]
  },
  {
   "cell_type": "code",
   "execution_count": 22,
   "metadata": {
    "collapsed": false
   },
   "outputs": [
    {
     "data": {
      "text/html": [
       "<div style=\"max-height:1000px;max-width:1500px;overflow:auto;\"><table frame=\"box\" rules=\"cols\">\n",
       "    <tr>\n",
       "        <th style=\"padding-left: 1em; padding-right: 1em; text-align: center\">id</th>\n",
       "        <th style=\"padding-left: 1em; padding-right: 1em; text-align: center\">sift_features</th>\n",
       "        <th style=\"padding-left: 1em; padding-right: 1em; text-align: center\">label</th>\n",
       "        <th style=\"padding-left: 1em; padding-right: 1em; text-align: center\">image</th>\n",
       "        <th style=\"padding-left: 1em; padding-right: 1em; text-align: center\">m1_label</th>\n",
       "        <th style=\"padding-left: 1em; padding-right: 1em; text-align: center\">m2_label</th>\n",
       "        <th style=\"padding-left: 1em; padding-right: 1em; text-align: center\">m3_label</th>\n",
       "    </tr>\n",
       "    <tr>\n",
       "        <td style=\"padding-left: 1em; padding-right: 1em; text-align: center; vertical-align: top\">25</td>\n",
       "        <td style=\"padding-left: 1em; padding-right: 1em; text-align: center; vertical-align: top\">[0.0, 0.0,<br>0.00256410008296, 0.0, ...</td>\n",
       "        <td style=\"padding-left: 1em; padding-right: 1em; text-align: center; vertical-align: top\">chicken</td>\n",
       "        <td style=\"padding-left: 1em; padding-right: 1em; text-align: center; vertical-align: top\">Height: 256 Width: 256</td>\n",
       "        <td style=\"padding-left: 1em; padding-right: 1em; text-align: center; vertical-align: top\">chicken</td>\n",
       "        <td style=\"padding-left: 1em; padding-right: 1em; text-align: center; vertical-align: top\">chicken</td>\n",
       "        <td style=\"padding-left: 1em; padding-right: 1em; text-align: center; vertical-align: top\">dog</td>\n",
       "    </tr>\n",
       "    <tr>\n",
       "        <td style=\"padding-left: 1em; padding-right: 1em; text-align: center; vertical-align: top\">27</td>\n",
       "        <td style=\"padding-left: 1em; padding-right: 1em; text-align: center; vertical-align: top\">[0.0, 0.0, 0.0, 0.0, 0.0,<br>0.000759869988542, 0.0, ...</td>\n",
       "        <td style=\"padding-left: 1em; padding-right: 1em; text-align: center; vertical-align: top\">chicken</td>\n",
       "        <td style=\"padding-left: 1em; padding-right: 1em; text-align: center; vertical-align: top\">Height: 256 Width: 256</td>\n",
       "        <td style=\"padding-left: 1em; padding-right: 1em; text-align: center; vertical-align: top\">chicken</td>\n",
       "        <td style=\"padding-left: 1em; padding-right: 1em; text-align: center; vertical-align: top\">chicken</td>\n",
       "        <td style=\"padding-left: 1em; padding-right: 1em; text-align: center; vertical-align: top\">dog</td>\n",
       "    </tr>\n",
       "    <tr>\n",
       "        <td style=\"padding-left: 1em; padding-right: 1em; text-align: center; vertical-align: top\">46</td>\n",
       "        <td style=\"padding-left: 1em; padding-right: 1em; text-align: center; vertical-align: top\">[0.0, 0.0, 0.0, 0.0, 0.0,<br>0.0024037999101, 0.0, ...</td>\n",
       "        <td style=\"padding-left: 1em; padding-right: 1em; text-align: center; vertical-align: top\">chicken</td>\n",
       "        <td style=\"padding-left: 1em; padding-right: 1em; text-align: center; vertical-align: top\">Height: 256 Width: 256</td>\n",
       "        <td style=\"padding-left: 1em; padding-right: 1em; text-align: center; vertical-align: top\">chicken</td>\n",
       "        <td style=\"padding-left: 1em; padding-right: 1em; text-align: center; vertical-align: top\">chicken</td>\n",
       "        <td style=\"padding-left: 1em; padding-right: 1em; text-align: center; vertical-align: top\">dog</td>\n",
       "    </tr>\n",
       "    <tr>\n",
       "        <td style=\"padding-left: 1em; padding-right: 1em; text-align: center; vertical-align: top\">59</td>\n",
       "        <td style=\"padding-left: 1em; padding-right: 1em; text-align: center; vertical-align: top\">[0.0, 0.0, 0.0, 0.0, 0.0,<br>0.00466360012069, 0.0, ...</td>\n",
       "        <td style=\"padding-left: 1em; padding-right: 1em; text-align: center; vertical-align: top\">chicken</td>\n",
       "        <td style=\"padding-left: 1em; padding-right: 1em; text-align: center; vertical-align: top\">Height: 256 Width: 256</td>\n",
       "        <td style=\"padding-left: 1em; padding-right: 1em; text-align: center; vertical-align: top\">chicken</td>\n",
       "        <td style=\"padding-left: 1em; padding-right: 1em; text-align: center; vertical-align: top\">chicken</td>\n",
       "        <td style=\"padding-left: 1em; padding-right: 1em; text-align: center; vertical-align: top\">dog</td>\n",
       "    </tr>\n",
       "    <tr>\n",
       "        <td style=\"padding-left: 1em; padding-right: 1em; text-align: center; vertical-align: top\">60</td>\n",
       "        <td style=\"padding-left: 1em; padding-right: 1em; text-align: center; vertical-align: top\">[0.0, 0.0, 0.0, 0.0, 0.0,<br>0.0, 0.0, 0.0, 0.0, 0.0, ...</td>\n",
       "        <td style=\"padding-left: 1em; padding-right: 1em; text-align: center; vertical-align: top\">chicken</td>\n",
       "        <td style=\"padding-left: 1em; padding-right: 1em; text-align: center; vertical-align: top\">Height: 256 Width: 256</td>\n",
       "        <td style=\"padding-left: 1em; padding-right: 1em; text-align: center; vertical-align: top\">chicken</td>\n",
       "        <td style=\"padding-left: 1em; padding-right: 1em; text-align: center; vertical-align: top\">chicken</td>\n",
       "        <td style=\"padding-left: 1em; padding-right: 1em; text-align: center; vertical-align: top\">dog</td>\n",
       "    </tr>\n",
       "    <tr>\n",
       "        <td style=\"padding-left: 1em; padding-right: 1em; text-align: center; vertical-align: top\">63</td>\n",
       "        <td style=\"padding-left: 1em; padding-right: 1em; text-align: center; vertical-align: top\">[0.0, 0.0, 0.0, 0.0, 0.0,<br>0.00221730000339, 0.0, ...</td>\n",
       "        <td style=\"padding-left: 1em; padding-right: 1em; text-align: center; vertical-align: top\">chicken</td>\n",
       "        <td style=\"padding-left: 1em; padding-right: 1em; text-align: center; vertical-align: top\">Height: 256 Width: 256</td>\n",
       "        <td style=\"padding-left: 1em; padding-right: 1em; text-align: center; vertical-align: top\">chicken</td>\n",
       "        <td style=\"padding-left: 1em; padding-right: 1em; text-align: center; vertical-align: top\">chicken</td>\n",
       "        <td style=\"padding-left: 1em; padding-right: 1em; text-align: center; vertical-align: top\">dog</td>\n",
       "    </tr>\n",
       "    <tr>\n",
       "        <td style=\"padding-left: 1em; padding-right: 1em; text-align: center; vertical-align: top\">66</td>\n",
       "        <td style=\"padding-left: 1em; padding-right: 1em; text-align: center; vertical-align: top\">[0.0, 0.0, 0.0, 0.0, 0.0,<br>0.0, 0.0, 0.0, ...</td>\n",
       "        <td style=\"padding-left: 1em; padding-right: 1em; text-align: center; vertical-align: top\">chicken</td>\n",
       "        <td style=\"padding-left: 1em; padding-right: 1em; text-align: center; vertical-align: top\">Height: 256 Width: 256</td>\n",
       "        <td style=\"padding-left: 1em; padding-right: 1em; text-align: center; vertical-align: top\">chicken</td>\n",
       "        <td style=\"padding-left: 1em; padding-right: 1em; text-align: center; vertical-align: top\">chicken</td>\n",
       "        <td style=\"padding-left: 1em; padding-right: 1em; text-align: center; vertical-align: top\">dog</td>\n",
       "    </tr>\n",
       "    <tr>\n",
       "        <td style=\"padding-left: 1em; padding-right: 1em; text-align: center; vertical-align: top\">70</td>\n",
       "        <td style=\"padding-left: 1em; padding-right: 1em; text-align: center; vertical-align: top\">[0.0, 0.0,<br>0.00244499999098, 0.0, ...</td>\n",
       "        <td style=\"padding-left: 1em; padding-right: 1em; text-align: center; vertical-align: top\">chicken</td>\n",
       "        <td style=\"padding-left: 1em; padding-right: 1em; text-align: center; vertical-align: top\">Height: 256 Width: 256</td>\n",
       "        <td style=\"padding-left: 1em; padding-right: 1em; text-align: center; vertical-align: top\">chicken</td>\n",
       "        <td style=\"padding-left: 1em; padding-right: 1em; text-align: center; vertical-align: top\">chicken</td>\n",
       "        <td style=\"padding-left: 1em; padding-right: 1em; text-align: center; vertical-align: top\">dog</td>\n",
       "    </tr>\n",
       "    <tr>\n",
       "        <td style=\"padding-left: 1em; padding-right: 1em; text-align: center; vertical-align: top\">100</td>\n",
       "        <td style=\"padding-left: 1em; padding-right: 1em; text-align: center; vertical-align: top\">[0.0, 0.0, 0.0, 0.0, 0.0,<br>0.00733500020579, 0.0, ...</td>\n",
       "        <td style=\"padding-left: 1em; padding-right: 1em; text-align: center; vertical-align: top\">chicken</td>\n",
       "        <td style=\"padding-left: 1em; padding-right: 1em; text-align: center; vertical-align: top\">Height: 256 Width: 256</td>\n",
       "        <td style=\"padding-left: 1em; padding-right: 1em; text-align: center; vertical-align: top\">chicken</td>\n",
       "        <td style=\"padding-left: 1em; padding-right: 1em; text-align: center; vertical-align: top\">chicken</td>\n",
       "        <td style=\"padding-left: 1em; padding-right: 1em; text-align: center; vertical-align: top\">dog</td>\n",
       "    </tr>\n",
       "    <tr>\n",
       "        <td style=\"padding-left: 1em; padding-right: 1em; text-align: center; vertical-align: top\">108</td>\n",
       "        <td style=\"padding-left: 1em; padding-right: 1em; text-align: center; vertical-align: top\">[0.0, 0.0, 0.0, 0.0, 0.0,<br>0.0053619001992, 0.0, ...</td>\n",
       "        <td style=\"padding-left: 1em; padding-right: 1em; text-align: center; vertical-align: top\">chicken</td>\n",
       "        <td style=\"padding-left: 1em; padding-right: 1em; text-align: center; vertical-align: top\">Height: 256 Width: 256</td>\n",
       "        <td style=\"padding-left: 1em; padding-right: 1em; text-align: center; vertical-align: top\">chicken</td>\n",
       "        <td style=\"padding-left: 1em; padding-right: 1em; text-align: center; vertical-align: top\">chicken</td>\n",
       "        <td style=\"padding-left: 1em; padding-right: 1em; text-align: center; vertical-align: top\">dog</td>\n",
       "    </tr>\n",
       "</table>\n",
       "[10 rows x 7 columns]<br/>\n",
       "</div>"
      ],
      "text/plain": [
       "Columns:\n",
       "\tid\tint\n",
       "\tsift_features\tarray\n",
       "\tlabel\tstr\n",
       "\timage\tImage\n",
       "\tm1_label\tstr\n",
       "\tm2_label\tstr\n",
       "\tm3_label\tstr\n",
       "\n",
       "Rows: 10\n",
       "\n",
       "Data:\n",
       "+-----+-------------------------------+---------+------------------------+\n",
       "|  id |         sift_features         |  label  |         image          |\n",
       "+-----+-------------------------------+---------+------------------------+\n",
       "|  25 | [0.0, 0.0, 0.0025641000829... | chicken | Height: 256 Width: 256 |\n",
       "|  27 | [0.0, 0.0, 0.0, 0.0, 0.0, ... | chicken | Height: 256 Width: 256 |\n",
       "|  46 | [0.0, 0.0, 0.0, 0.0, 0.0, ... | chicken | Height: 256 Width: 256 |\n",
       "|  59 | [0.0, 0.0, 0.0, 0.0, 0.0, ... | chicken | Height: 256 Width: 256 |\n",
       "|  60 | [0.0, 0.0, 0.0, 0.0, 0.0, ... | chicken | Height: 256 Width: 256 |\n",
       "|  63 | [0.0, 0.0, 0.0, 0.0, 0.0, ... | chicken | Height: 256 Width: 256 |\n",
       "|  66 | [0.0, 0.0, 0.0, 0.0, 0.0, ... | chicken | Height: 256 Width: 256 |\n",
       "|  70 | [0.0, 0.0, 0.0024449999909... | chicken | Height: 256 Width: 256 |\n",
       "| 100 | [0.0, 0.0, 0.0, 0.0, 0.0, ... | chicken | Height: 256 Width: 256 |\n",
       "| 108 | [0.0, 0.0, 0.0, 0.0, 0.0, ... | chicken | Height: 256 Width: 256 |\n",
       "+-----+-------------------------------+---------+------------------------+\n",
       "+----------+----------+----------+\n",
       "| m1_label | m2_label | m3_label |\n",
       "+----------+----------+----------+\n",
       "| chicken  | chicken  |   dog    |\n",
       "| chicken  | chicken  |   dog    |\n",
       "| chicken  | chicken  |   dog    |\n",
       "| chicken  | chicken  |   dog    |\n",
       "| chicken  | chicken  |   dog    |\n",
       "| chicken  | chicken  |   dog    |\n",
       "| chicken  | chicken  |   dog    |\n",
       "| chicken  | chicken  |   dog    |\n",
       "| chicken  | chicken  |   dog    |\n",
       "| chicken  | chicken  |   dog    |\n",
       "+----------+----------+----------+\n",
       "[10 rows x 7 columns]"
      ]
     },
     "execution_count": 22,
     "metadata": {},
     "output_type": "execute_result"
    }
   ],
   "source": [
    "disagree.head()"
   ]
  },
  {
   "cell_type": "markdown",
   "metadata": {},
   "source": [
    "We can see that for id==72, model 2 predicts chicken, but model 3 predicts dog.  Let's look at that image:"
   ]
  },
  {
   "cell_type": "code",
   "execution_count": 163,
   "metadata": {
    "collapsed": false
   },
   "outputs": [
    {
     "data": {
      "application/javascript": [
       "$(\"head\").append($(\"<link/>\").attr({\n",
       "  rel:  \"stylesheet\",\n",
       "  type: \"text/css\",\n",
       "  href: \"//cdnjs.cloudflare.com/ajax/libs/font-awesome/4.1.0/css/font-awesome.min.css\"\n",
       "}));\n",
       "$(\"head\").append($(\"<link/>\").attr({\n",
       "  rel:  \"stylesheet\",\n",
       "  type: \"text/css\",\n",
       "  href: \"https://static.turi.com/products/graphlab-create/2.1/canvas/css/canvas.css\"\n",
       "}));\n",
       "\n",
       "            (function(){\n",
       "\n",
       "                var e = null;\n",
       "                if (typeof element == 'undefined') {\n",
       "                    var scripts = document.getElementsByTagName('script');\n",
       "                    var thisScriptTag = scripts[scripts.length-1];\n",
       "                    var parentDiv = thisScriptTag.parentNode;\n",
       "                    e = document.createElement('div');\n",
       "                    parentDiv.appendChild(e);\n",
       "                } else {\n",
       "                    e = element[0];\n",
       "                }\n",
       "\n",
       "                if (typeof requirejs !== 'undefined') {\n",
       "                    // disable load timeout; ipython_app.js is large and can take a while to load.\n",
       "                    requirejs.config({waitSeconds: 0});\n",
       "                }\n",
       "\n",
       "                require(['https://static.turi.com/products/graphlab-create/2.1/canvas/js/ipython_app.js'], function(IPythonApp){\n",
       "                    var app = new IPythonApp();\n",
       "                    app.attachView('sarray','Images', {\"ipython\": true, \"rows\": [{\"format\": \"jpeg\", \"value\": \"image/jpeg;base64,/9j/4AAQSkZJRgABAQAAAQABAAD/2wBDAAIBAQEBAQIBAQECAgICAgQDAgICAgUEBAMEBgUGBgYFBgYGBwkIBgcJBwYGCAsICQoKCgoKBggLDAsKDAkKCgr/2wBDAQICAgICAgUDAwUKBwYHCgoKCgoKCgoKCgoKCgoKCgoKCgoKCgoKCgoKCgoKCgoKCgoKCgoKCgoKCgoKCgoKCgr/wAARCAEAAQADASIAAhEBAxEB/8QAHwAAAQUBAQEBAQEAAAAAAAAAAAECAwQFBgcICQoL/8QAtRAAAgEDAwIEAwUFBAQAAAF9AQIDAAQRBRIhMUEGE1FhByJxFDKBkaEII0KxwRVS0fAkM2JyggkKFhcYGRolJicoKSo0NTY3ODk6Q0RFRkdISUpTVFVWV1hZWmNkZWZnaGlqc3R1dnd4eXqDhIWGh4iJipKTlJWWl5iZmqKjpKWmp6ipqrKztLW2t7i5usLDxMXGx8jJytLT1NXW19jZ2uHi4+Tl5ufo6erx8vP09fb3+Pn6/8QAHwEAAwEBAQEBAQEBAQAAAAAAAAECAwQFBgcICQoL/8QAtREAAgECBAQDBAcFBAQAAQJ3AAECAxEEBSExBhJBUQdhcRMiMoEIFEKRobHBCSMzUvAVYnLRChYkNOEl8RcYGRomJygpKjU2Nzg5OkNERUZHSElKU1RVVldYWVpjZGVmZ2hpanN0dXZ3eHl6goOEhYaHiImKkpOUlZaXmJmaoqOkpaanqKmqsrO0tba3uLm6wsPExcbHyMnK0tPU1dbX2Nna4uPk5ebn6Onq8vP09fb3+Pn6/9oADAMBAAIRAxEAPwD9eKKAQeRRQAUUUUAFFFFABRRRQAUUUjuFGc0ALRVGXVEj/i7006qpGA3agC8744HpWffSgtx60j6geDnmoJJhK3/16AJLcMz7wOCcNWhaoFQKOgrOtiA4OMZPNaVsylQM0AS0UUUAFFFFABRRRQAUUUUAFFFFABRRRQAUUUUAFFFFAEdvMsqBlOQakqtpkRjtlDdcVZoAKRgT0NLRQAUUUUAFFFBIHU0AFVdSnENuzE/SrLHC5rG1+/KRlEPQUAZ8lwWBO7Jz60sc+UO7qO9U1m3qS3rnIqSORmQkJke1AFoTqQOp4qSJs5xVdFyobBHGcGpYH2uVI5PagC5FIMj8avW86J8pPJ5FZhdlUEnPPepY5Nkwm5OBggUAbAkGMmlDA9Ko2t5DOmUfnglSatRNzgdqAJaKKKACiiigAooooAKKKKACiiigAooooAKKKKAEVQowKWiigAoopruFBycYoAdR0qD7dCTjeKSW+hhQlpB0oAn3LjOagubuOFRuYZ+tZV54oihyA46ccVj3euO65EhJOSM+lAG9da7tUoje1YOq37yuVLdazrvWBAklzc3aRJGpZ5JWwqqBkkk8DA71xviv9o74K+FfC1z441X4l6RJYWrskjWl7HKzOpUMqhTyQWGfTOTigDvY5FW3LlsAd6+Xf2kf+Cnnwv8AhJqupeDPA90mtapaxSQuIThYJ1I3Nuwcqq7skjAKjkjNfOX7XX/BSj4j/EbXdQt/2bL++tdC0eytZJopVVHubgFZHDZH7vaZAOGO7ygRlckfE/ifxHrs/iw69DNd+XeKYxCMtKJcFpNuBzw+7BPRiPTAB9b/ABB/4KOfHLw/pvhvxbpfxNvp7q8AuL61tnVA0LIcOwKlSilmHfoCQOCKui/t3ftRDxRJ490P4mazc2Gj/wCk39reXqNEUKgnr8rqQBgDp14zXyN40+JulX2i6P4UvkWwlismtkaBTh4njWMjLdPuewHmE4xXoWneMfDfg7wjefD+18Pv/ZiXaC4sZLty0oZ9oCtnO0ZI5O0gCgD9QP2dP+Cn3gv4s+Jl0Dx/oMfh63vIgdNvfMeRHcuF2MdvH3l5HAzzX0jr3xT+G/hHQG8UeKPHGl2mniQJ9sa9Uq0n9wYPLewya/DvX/F+meExpE3gIzSwXF+8trZtdAy7CRlGXJHyhHGR1APWrWq+OfGGs+JpP7O155NOjm8tbNycLMwYuQhPyghSc+qnnigD90dG1HQvElhFrvh3VYriCYERzQtlWrWtUePnzCea/L/9hr9qLx18OPiNofw91TxOZfDkd6i3di0mdgkBiD9cllBBx04B61+ncEzEB93D8pz1FAGkrZ4NLUURY4ye9S0AFFFFABRRRQAUUUUAFFFFABRRRQAUUUUAFFFNkkVBuLYAPNAClgBkmud8UeJIrIGFZAp9zirHiDXorWAiOQA/WvhT/gq/+1ppnw/8A23w68JeJZE8Tz38V1PDZTlZ7S2QM3mMAPultvH/ANY0AfXNv4+srrWJtGgv1N1BGsssODkI2cH36dquXGtzyJ81wqEZxubGa/ML4I/tSeKW02TUPij8QL62nNrJHYa6g83awnykbEHfsfywQ6g4JGRg5qTwn/wUy+JPh74hKniPWoNV0WO9SO4aSSM5QELtGQCpcDOcZ659gD6f+D37f/hPxh8bPiJ8KPivcReE5fDGoqNLi1krE0lsqoshZgSCS7CRR/FHKCMhSa88+OX/AAVI1b4Lftn2XwQ1TwbBJ4TkjtkbUIm8x7qKRd73sTr8pRBuULk5Mb5wcY+F/wBqX4pS/G74z3vxMuNNttNuNQuz5T6S8i3N1AihIFkUsQrBFCnbnhyCWwpHF3Px81q3fQv+Ep0U+TYJJDamY/vLYNIQwRuTGobJIz/HnucgH0L+1R+2nrHj74w6/rWkeLdV0Lwxq15bQQxQTyEXsEalckAgIHVSpUZ5J9Dnxs+I4NcW88W6XeyQRWjr9tsnG77RGzqcIAc/KN3c8Yryn4j/ABJvLyzMNjqkV1bLDhIW8xng2OWxuwATljjBOAMZGK6OLx5aR+C40hvorq4vbVZZLqO5Ku/moqvGScncjZHPIJJyRg0Ab+n+N/Ffgrxf/Y82pww29/dvBdxSxuxs2PymVl4GMEkjdgjORSa14cN1dS6vFLbmCFmCvGQwZSuNw4wVwVHB/lUNnqkXjf4Yad4kvB9ritFnN3O4jEow7bc5GQF2r0/h46cVi6K051qLR7YLbrrSJNDbIxcvuDsnB6EnC/8AAlBPSgDmPFmp+GdSkgPim2S3e2v5GkvCBnIP3DjkI2dw9PlA99/wz8S4rWO+OlymeCa2C2Ksg3W5in2+WXJwVO4E+meMcmuI8eeF31rxNrESaaVa0Xy5beZz8xyc7tvUjA49gK4rw1qGqaAz+GZp/s/muZbL7PHyCxXljjpgBcD+8fSgD3f4keJbe0stNuLW9ml0u28m3litAIsSupM0qqRlSuIxjocn1OU03xPC98NM+2vvtYJM3BGxyS5ZQM/MOSQc8ge1cGvxAsrbT9OsBcWN1JLI73DylggwqjYdvzE9FA6n3Iro/hP4J1uPX4vEt14WuZbe2kgkMV+2RMgQMcKAuQ7liB1A4O45oA+yv+CdPwP8S/Hn4g29x4djeCHTpIZ9SurmF/L2I4bhu5PQDuTX7BWm+CVAsh2qCBmvjb/gnr+2L8DB8OrL4darpVh4SvmuEis/9GZBfkqPnlfbgOSGPJxtKgHivrOTxt4Sg1SHR28SWZvJ7kwQ2q3CtI0gUMV2g5yFwT6A5NAHSwSpu2hhz71ZVhjkisyFtrKcY9auRTK3BPQUAWKKasgPJP0pwIPQ0AFFFFABRRRQAUUUUAFFFFABRRRQAHJHBrL8R3jWVk0m7AHJNalYfjad4NLZ47USnn5ScUAfG37WX/BUX4G/BTw5eJ4b1qHxB4jiv47W20JRLEZi20s4cphlCk8jOSMetfk7+0F8YPiT8TNQ1XxzDPJfXplge6Mlx+9t4irfdLHJACovHbaBwM1e/b11m30v9sjxj4d86fz7TxFqZtbW2dcRLuZkR2xnKsenPysBXjvw2v8AWdY+KTeINQvrea0sdOO20M4LXUL7sIAfmbGeuMAgZ60Adr8N/HN7d6Hb6XqeoXK5SMxlZW2xJIOckHnDDA453EE4C1v+EbzwX52s6xPdLeXZkkiEMi7RIvTzFHY4GT2ya5q38QWLaK2sJoxSCxv2sr23kGw7SSQWX7ykE8dgc1yPg7ULeDxNPHb3cbyRTlgJZC0Z3l1IBXPIOMDvQB2fifxJZ33jptD8MxXBsbW5RdqMCW3dWznrxww64APY1FfRWT6teaVdwQvNJdjLz3LkMocqd20HjBySDnA/LnvD8dppnjddXtXC7g6iFBwigLsHP06/T1zV/U5NTstcCeV5kbTiRTExOB6AjkdTj0oAv6polmstzpMAzNKRCioowWzgHg4yCMe+eteea9qev/DjX7W6mmkntljWby7j5hC4JXCg9BgbfXj2rpdf1qLSVvLTSpJI0a3DSSytvXK5ZQncZJxzkjJPfi1q/hh/i0t54fsI41Nug8m6uiUWQsm5DxuY7huOMYGOtAFX4P8Aju+vfC1/4W0q4uIp5ZjIViUEMNuMDnow4IHp71V8beO7G90q31zQopEnt1WyuY3JXzB5Y3lcEbQxJOSOOg6Vu2H7FnxOt9OtZbnVLXTbz7XF96aSXy1YEZcxoVAYjpn7p571u/8ADGnxXhtZmsrnTdYheJJIGtG8maXIAACOMEgc7s9BwckZAPP5viPGND8nTrkG5e4VrxpFObjPP3z8zYIJP4cnNeb6x8SdAuNdtdEs0NyQ+yFoyT5XmNhgXB5A4wMGl/aG+Hnx/wDh74kGgeJfC97ZWNzaBrG9t4i0TqEBmHmRgjKHIYdVyM9jXGeHNO+yy/aJJI9hiDR7iTt2gnAwO+MA/wD66APfPhvp0Ojr/Yep6K3mtdMxWSIOWbOwAHP9449ASfSvoPwt4zKaRDFeaIqeUDi4lZjiRdqgk9QcjnH96vjzwJ4rlG25tporh1bbJZSyZGA3AAyM5O31J5r6w8LXLar4OFwiASAQyzInJUkK0jjGCVORx7e9AHTeEvEv9l+M7TSr23utkryu11G5AZ2kYFeeigGPBxj5WBznj1X4efE7XvDXiu2v9P8AiVqU2owySTS+TcMs0MjhQXjOfm4QIehwp65rwbwpq+h6jep9lNzaz29x5cN6clRtZWKgY46Dn8Pau58LHR59Wt7qXVILa/hmbMUEwbeWbJBBPUAtwMHOPegD7f8A2fP+ChHinwdraD4qeLLzWdJuyRPI8QZowB8rqSdw4H3ehwTxXqq/8FSfBcfip7P/AIQe/OkFEMN5JhWcEKdwxlTkMCBuB/nX53+P/GGheG9BCXkkflMfmuoYy7wAAFFODtGd3p3IOMVxmhftKGPxDb6bd3TXuiwbDPL9nzArBCq7UHQHK5UnoOoNAH7YfCD9qH4afGWxa78LamBIkzRm0uHVJeOQduTwRz/PFd7Dr1o4+bcM+1fjJ8Nf2j30DxZZanolz/Z8El5u3W8O2NSp3BgceuBjsVzwDX6kfs9/Eub4qfDKz8TzmN5MmKSaJwRIVVTuI/hPPIoA9eh1C1mXKyfnUokQjIYH6GuYindej8CrUd/JgAHnHagDeyO1G4V5t8aPj14W+AvgW48d+Mr91t4TsgijXc00pBIQdhnB5OAK8Q+Cv/BUnwX41nvB470BrCBEM9vd2beaix/3Xx3HHPfPQUAfXG8ehpQc18j+OP8Agrj8DvDXiWbw/omny6gYLNzKTKqFbncRGmQSCrKu44yRnkCm+DP+CqHgS2+Gqa78R9Ekh1o3jRmwtUZUkVo3kjZWYYAJAU5PfPJIBAPrkMG6UtfNPwT/AOChHgXxdqk+m/EvU7XR57mNJtKh2HDoS2QWyQCAvfA96+hbTxX4evwhsdZtp95UKIZlYncMjoe4OaANGigHIzRQAm4etc745vhHamJHXnI5qy/ieDyd6sPauR8Wax9rzg5BJx70Afgp/wAFgPC8Hhf9vnx1pel6ZMTqd3aXschOGRprSJ32BCch3DDkZ7c4rwLwJ4i8Pz+LD4bm0yOxubG080XryJ5ssuTiPzAuUJXHygkZHHXNft3+1l/wTf8A2dv2n/EWo/Fjx5o+uS+IG0NrW3GmaoIQ7IjCJgGGN6knGSFJPzAgDH4F3/inVvD2s6n4VvtLtoJobh47u6QkSbo227AQcYHPbue3AAPTfEl+llqFykCn7NfWwkVCc5ZWGc+5+VufSuS8HHTtN8UXen38j2VyxQxGWMqvJ4bIPHGDk8cdeK6C8P8AwmHg7zYJEluraMPaT2WxgCq/Op29cZBzjsx7Vw2g6ncwa8LLV9VZPOBjlW5kx82cAhsEgYycdPl684oA9U0/ytNi+yGySSSdw8Um9h5YDA5HY8AjFS/8JVAdajs7iJowsZi25zh85zg9uAfwNYFv47gltEsMYuo5cRskOUdcNuZeAehB2ng4Ncv4r8WTq0GrgIJHQs2DjkEgj65z+lAHo095pOuXYsZzGYLp0jdUG1hwMkZGRjJ4Pp0r0j4d23hqWWHw6j2qBF2TOXVhvHIbjudoPU4LcYHFfMcfjmWxlje+ugjLN5jSvHuKDcGDc8Hn1/vV33ww8X32o6pJfaZcoWQoJJQchUz8pK9MHigD608PadeQabPDf3UV8Hz+5sZt5mKMSG+Y9AHIHUcn+7XV2WoN4dYWurWDae6DzEe+AVUQthSCnBG7K4HoQTkYrwTWPizZ+GoUl8PBra7kEBaaK6bPlEZcgj7pbGc843ZFdL4M/aPS71WDXRqk00EEa20tnMzOk5cESGQMQcZbgD+6p65NAHZftd6ZrMnwT1W502HypI9OuZhFAm5llNvLhRnj5iSoPU7sY54/K7S9c+yoLl5hhwFVTJyvJ6DvjkV+tWu/ETw7408F6pod3JpzAadPbuk8oZcmIqgIHLZIwOeuc1+Xf7Tfwy1L4afES4Ol+Db208NXEzrpOoTQs1vdH70nkyY2squSu0E428k0AM8Na1LHfA27DMaA5U9Tnj+VfS3wx+JmrWvh2Kysb9IJLGHLXEbEyEtzzuPBACjj04r488F6ndNfy2EM8abY3kjldgMbRu69+9eyaH408RXWhWWtWtsjwXEHkyGKZW+dR8xYfeUkgcYxg0Ae3X/jS6uJ7rxBeyvBHI7BZbZSF87co2ttI4wW796p6b481W6KafpVpDHKCZUu1kBJYH+EgcnkZHPA7Yrxi7+IF863Gm2epSPaMwae3jfKqyqwD/gTnirvgrx1FZWMOsTSKltHPmRVkJnyRtLKRxgckDr19DQB9PeHruSfw5s1DVYyhvg19KVy8RIwCq55VApI9/wrz/xq+jpqll4f0OSRrNFUxyFAgkYIQCVJJBB65JzwapeE/ixE2kS2sVskzjywskThhIjscFFPHQcZH8XTNJrureD75Vk068uzcJdskfmRBfn3fxkt8pG4HgY7Zx0APQtNvm8LeH4rH7cZJIlzKPMJBc7SWAPQngfh1r6m/Zd/be8d/Db4V3XiHwtrzedpsjvNb3EjGAxOVR8J91mDbHBION57cV8UeN9R0+b7Bb6Da3dvKLdUvftLZMmABuGOCMfTPU9RXTfszfEW00zUbzQPEV48ltPa/ZXtJCxWRDvlJIUZwNgHB78UAfuB+yR+0j/wvbwLLqmttBHdWsUc0koIQPC6khiMADGOSOK5b9qz/goj8IfgX4JvH8I+KbPWvEDTvZWVjYuJdk/l8MccEBiOM87WHavz2+JH7SvjX4S+HrXw94ECaZpWswLb3zJO+xLdYWJj4OWORlcjGUUZ9fk7WfiJ4xutWvtZvbqOHzG3RmfDDnJ3eucHrxwcH2APrv8AaZ/bV+JvjDwXaWWt+JJr6MvNqElpdBE2S53bsL1IDhcHoAMYzXmMvxvki8N2el+CL7bHqGmxieO2ZiqSOmWDDqxZiFzzye+MV5p4V8ZX3jTwZqtrq9wLh4ImgjZ1Ayv7sgLg/eCh254ABPauztPC3hdNCsfFuoa+j6xayxr/AGTa23yzCM/KMjB3YG7AHJwDySaAOg1/4w+ErSJNP1DRNLvNYurmNnvls9piukUq8asfuqBtB5wxz6cbUHxQmPhrTh4lmjuJV8yUXE0u4xgKGVehwwO7B/2iK818IeGNZ8N+PIPHfiqe1u9PvNT/AH6+WszwsWw8JX+EMGPzeiH6HsNR8LxeH9aFheJZzQSTI1oZ5yfkKj5GB5HJI9tp7AZANPwZ4zv/ABXYNfaZq3l3lvdorQPJiWOOSQIzRkfeXkn1G5vYV6J8G/2h/iF4c+JlvfaJf35/sq+Mk2JSzlEbYsnAyVxnI5HBryTwd4T0S01t9V8PLLbyLG0Qi3/L5hOWwuTgjZn6c12Wm+IYvC+s3Ot2wmkuEs3jBuAzbVYBQoAIIPJHoKAP1d/ZD/agv/2g4bw6xLp1s9pGkcNlG7G4lIHzzHIwI27d8gjtXuFfmp/wTt/ap8EeDvHBl1ezMFtqVqbaKXyQojbzQdze/O0kY7jmv0e0XXtN12xj1DTbkSwyjKODwaAPL49VmKFd5xn+VUbm5e6+QE8dxURdgSSuPbNNNyq/LnHtQAuqavovh/TpdV17UoLW3hAaW4uplSNPQktgD8a/n9/b88cfDH44ftZeNPinZx/bdG1ieWLTZLGKKAxRpDHBFINgYMUMYOerKCMjcSv7Yftc/Czw38Xvgl4j0rWrUTzW3h+/fT0Y/KJzA2xiOhwwBGeMgV+BOseGrXRdWGheJtSFi5EUSyybZgu9A+7KHa2Qyt16NyRzgA8x+FPifxjpXjB7Tw481x9glM9s6RsEZVyHG3+6V5PIOAfWt7xLrmk3dldaq8klvNLOzTaW6grFsxjBGMqzEjHB4JxxgX9d+E+o6Tpt1pME5Ie4H721kyjhmBz75HY98elT6n+z8ZtOi077bPI/k+ZI4Xdh+N+SOuNrDNAHC6Z8RGmsjpsVwBgnypnUcKGyAv8AdPyjkepqlrOs6lqmrR6Vp8n2h5GDhAflAbBZuvA9/bNfZH7M/wCxh+xH8cv2c/H198VNb17wv478D6NJctqFvqMEVjf+aQbbbHIpLSB0MLBcA+ehBLNx8lW/hvR/D+t3en2d9JGmSpN1Lud9ueCRjvgYH14oAu6boGgW0IfU9Tlnklt3hVQ2Vh3bl6ADcwDewyKoeD9e1XwT4hEMN2TFCxRXDYJUdGIHXHBGazNYl+wXL2llKxXaJCwfktnoMdPXGfxrF1qe4EkM055QFGkQH0z/APWoA9e8P/Em1upvPhuWYJIysdx+dd3Rs5OPf3r1XwNrNpFdNZXFnEwnt/kkE4O2QYK46EkY+h3Y9K+XPC/jGys5Ybe/ieONXYEqcfMRjPvzg/hXtvw71q4vpLafRmaSJZQtu0kYw+4ngN0I4P06dqAPqXwfp8mnaSlw8xlnaRHjKcbWyQN3vk18sftfeKni+Edxpl34bWSObXYvJuJXb/RGUTDcmSNxYKy5wRtY9Divo/w5r9xfeBftCXiqFgYPlgRI2MAdRjJyB7818m/tgqNS+H0Tf2ZEr6ZqqxGdnO4LhxsXkgjOD+ZoA+e4dVgicXFva4UdPmw2fXI9s/nXo/wo8Z6omjSaHp9lBGLubZHcSqGZGbA/75wO/fmvL7ZZotsLtgAhx+Ne8fsrfDS6+K/j3Qfh7YSJFJrevW1qbpzhYN5wZDjsF3GgDd8E/sx/tFfEq0ln+GHwc8QeKY2siHfwzpc90sGQWLSeWp2ng5HTg9a7n4gfsBftVfss+F9K8e/tM/DuXw34bvkgZHubuDzZnmVmEGwMXWRQhZ0KgoBzglQf3/8A2ZfhP8N/2dvhVonwn+G2n21vZaXYxQyXMcCJLeSKuGnlKgbpGOWJ9TX5qf8AB0P4d8U3sfw68ZWeoSNo4s7u0ni8xNkNyHV1IG7cS6lgTtAHlrySQAAfn1p/jfwj451hbU2f2VVt1tbNLckCGNSSrADhmzuJyD1OBV/xL4a1fwzq5h0CGTUIp5/NIjulkbeWI2hU5YnbkAD2rxP4S63Cut3a3Wpi1c6dJ9neaIurNkcZHTIyAcHrWvonxh8XaPqrTidrh1WREdG6ErggMO3H0oA9n8OeObfVLV5JXCXEG2PyxLtZcfx7evQ4x6jr2rpPhtrCeFtUm1hrJbpJJkIk6yQ7RksoHrnr7V87adrviPxNMNS0mJEv2uWe8MaBSowR0HuD178133wm8SeM9Xjk/shFn+ymJJnwCxLPg4Uj1IBz3OO9AH1r4s+JkPxG0n/hGbTWTbx2OmpcOsUCcSltm18nOSu3gdMng9a8t+IYTS9OEV2LKaO5kCNcwoGAIyAMA8AFB1HT8qh07QrbSvEZ0291d7ZY5JElCkCUng7Sx4dvmPr0+gGp48fQbPT5NU0i+WV0UxNKkxkaGQMd0jFlxhwynA6Fc8UAcD4N0oS+GdR1S3a7W8t9Pm8iKx4LNuXG4k8hskcZPT0ruPFN5e2Xk2susTReVDbAvCdtzhFTZLnBKhyQT0GQB14qr4MudHs9R0/RtVWCVZLN4LpbhSksZZ3cOuMHcMBhk9BgZzzteNPEusQQR+H7zVorTUmuEiYW0rGO/gVUCqfUqynIOVBcc5yCAXH06/8AD41DS4tZ3FYIrqKR3IYhuj9jj5ww6EFjxxUer/EmbWLCHV7540uYzt8yOXqOU+YE9yD+FcJ4++J8tpBd6Tc3avd2iqrv5m47WCjbwBu+YqwGOOazbfXLxLOGwh0eN5hCrwIrElM84Y9Mct359qAPXpfidHo8UWsWd3c/aI1xcWjx4WF2TJKk5PLbz7bvrmfSP2ktbTxJYaJfFZTOkcIK5DIGznpySOMZ/ug1S+EnwN/aI+K/w6vPGPw8+FOp6jbaZHLFqd5Z6Y80Shcy/MdpG4Jk7evI9QD4zDqevad4st1guDGYrrfGmzkvztPuM8UAfcv7Ouv+HfEN6JtP2WzJG6zBo8P5hkQ7CpxkY3ck9B9TX6w/se/Eyx+I3wigaEkS6dcSWkmTgtghgQOvRgK/C/8AZl8R6zefFQyxzrHFJIkrgRAYdUZcj+7nc351+q//AATj8RXdh8Q9R0e5tJJH1bSY3Mdso8u2EbE+a/IHzBowSByxHuaAPY7i8G7hvwqlPfgEksOenNVby82ZJbpxzWF4k1q9ttLuZtOjEk6QO0EZOA7hTtGfc4FAHhH/AAUC/bk0r4B+BdU8DeB/Egt/HN1YpJpji2inS3VpMMzq5IDbASAynJZSAQGx+TI8K2fiu/e41y1V5I7YlgqFUeQMTwV5xtOTz07jitf40fFnxp48+I+pa543v5NR1hrlheo5BzMCWkVVUDEakDA7BeTWR4cmub+7XEMi2u0DEnAWTOG+Yfhk/wCFAFjwnAdYhufMuFsonbZExiOdv3dwzk9s57Ennmut0vQdN0aza5jv2u4ixKIr7ZWI7E85B54B7+wrm/Euu3k+om9095CylYEUnfuRcAgg9TyTn1PtXTWE39gWBs9UtmWd05Xg7W7YJ+9wcHB60AeYfGrx34nsPBtx4Ms7oLY31/HeCMsqMGVHRSRxnHzAZ6fMB95q8kOnXszTtqdkRLIo2Lk5Vf4SSO/Oea9X/aX1K0Gq2em2mj24W0s2YvC7lpG45ctn+IngDAzj3ridO06507w9CZrYtMwEjCRQwAwcjnvn+VAHD6tpbwjfFGsgVMkqOnrn9a5DW9Qu5CEd28uPO9Twe3P8jXpfjyxsLSNpIgVypVlRvunnr+OOK8j1vU5La7e1KKA42+YRyPcUAWbSEXEy27MpEg2xuxwEJ7k/pXrXwrv9H0Tw/YahcavbytYX7nUo3nYIYT5W1QByW3CTOOvHXpXhtrqLxZjLZG3DD056iuk8MPamNoXZneWM+WcjHUdc/wAx6UAfUvhv4nn+y49Jiglh87DwxBwNodSVGCPmGdn4V5J+0ZevrkNjFLvG0zSLEhwCw2qMjvxu568961/hxf2l5bvNrF+ZbtbY/ZzuP7uNIvl6Hkk5BB749TWL8V0s7mGCOKR5JYmyHBzkEcnJ9+n1oA8XlsZYZi7NhGfkgdD3HtX1H/wTZ0rV9T/aJ8M6rpOtJZxaDqEOoXksgJEkKSKGQAdSwIHsCTXgtt4av9btbgRRqFiuFMkkrBQMqQevU8dB6V7L+z3c6/8ABdZfF2hTbp5rfyVa5jCjbkE7UznqOCe4GRQB+3h/bo+BXw60WTVvFfxY0iJLeea3aMagjO08MZkkhCg53gYGP7zKpwSBX5hf8FPP2sfhp+2B478H+KvBnijVdT8SnQU0XU9JfRBHYbEnuWMsb795aRmVvLKnAkX5wV2jwPxtHrmtXb390nm/a7pp7tvMZj58knmMx9PmB6dcVgabpupaR4gsdZt9trukwHlkxhiSDwBwOMn6e9AHL+KJ7a70e4063jRbm3bdGBGI1jHBIAA6HFW/CPhTUo9PtxdXTGCMOl/ErgeUWVyrjH3l5DHv2ruvEOjaXqmky6+2nG6eZfKjJfbGRuXex+hOfx96t6n4N1U+Jwvh/TsQysJo44QQhk2AncBn5eSBzjjGTjNAGN4a+Gmp6Dr6eLbq4jEVzdSC1EY3LMccq2f4WHmHPUHbjHWvQ/DHhi00jxTa+IJNHki02/05n1RY4sOzq5DAgqA3MiMe+AKgvbuSLw9NaahZr5q7ZvKMbCRJFOd+fT5SOMZ3+1aOleMdPWG1Mdt9oVSy28LyEJNG2cFuvI2AEd9tAHQ67qFzdaVH4xlVGZpfLvBFYJGuMnbgIoAOAoJ9d34v0vTtL0XS2sdbj81r1UkazUkCSRzwjcg42r1HOTjIrC8aa5I+jPootXi+23Ed7HbS2rDylZtyAjHKtGQwK8EOPTjmPiV41vbPRHsNZvbrTNSijS3s7i4tHjljcIqsrqTkBV+63U7V7k4AN/4o6noPw58IWfjO3lTUbW7l8tLfziZvPByIlbA2jyx94992BlefI/CXjr4meJdbfxd4isBdCPzzZWsakAs0hc4xnOd5BJHKoBxit+30zxBrOl6LZXUsE6LbvI6rCSzSuoJOW6EMNuRyASeQa77wP8IPHena5pY07QZrqS8lWOwlgtz5ZYkblJII45B7fjxQBwtjczW+uQ3vjLQH1HE/n3UNtcC2mZMHMYbDJgHByUY8YFfWX7Kfxb/Zk8OeE11f4q2q+MbTTNCRLrwP4ljuYp4/3jszWdxAjxJiWTKqzKCJWzh+a8M+Knw8Xwb4n1fS/GNx9nv7KC3SWOCTzFZ3XPBHXHTjgHIz1Jp/De78HSwtFNcbbiZCCxBAK5LbD7Zwce3OelAH7n/8E9v2u/2Yfjz4EfwP+zr4Um8MW/hqFFk8N3VmkLQxtwZF2MwkBfcGYncW5b7wJ+av+Civ/BJPQ729v/jH+zJ4HktoEspL3WdNhuVZPOEu5hbxn50G0uxGdowoUAAivEv+CU3hrxfcftU6Le+FNXvIbWESXGpklkSWAIVdWUAZXlQM/wARU+gP7F+HzNdLgn5T1XHFAH40/s8/sJ/HseMbW3/4VHqst09mLqWykiMe+KObaXy3GCyYBPdeK/Xb9mP9nvwh8DPCNvcaVp92uq39hD/aUt/LulUgFvLwGZU27tuFJB2jk4zXodtbNEoURqABgVYUk9vpQB826tesGIB4rmtb1cxxtscYA71r66/ko2a888b3iS6fcWryMoliZCUcqeR2I5H1oA/Hj40HUrX48+JtRk1KO6YeKbwPdOpIlj+0ODITubh+ccngnkg5Oj4gjvL/AMI/YtIs4I4xdb7gwvkKWyRn1wNx9Bn3rn/HWkWBvb3Qngmht7K5ZHldxmUo2OccEn+8c9fcUsvilrOR9NkufPiEu3MSDEoAwB9eSM8dvegCe2jvNGtmt1SWS5aQqrRDdznqMc9h+lej6LLaTaFa293aiW+imRoo2xh2bJwSQSCOBtx1z3HPndtrUNl4ng1GKdk8rYsMEkRU7ypywKg/xkgc9F6iuznltVurbULi0eDzoRJHC68KR0ceoPX1P48gGJ8S/gR4w+IN4JNGmt445BuUytl8nrkKWPqOAQSuc+vI2Pwy8YeH9D8zxBpiLGE2SoyBXhfHKyLnKkZxkjByMHkV7L4XvNT1TUY9Ss5CyR3B+R3IPy7eOTyCMdPX3rYu82a3EHiO3Nwt02GhlX7rDgDGMjGDx9PSgD4q8fWCaWLm3ii3RlTJHg/gfrg4ryTV9POoXwlkQBFjwvGS7H09ulfoT8Uf2c7D4q+AriDStNs7XU2iZjd20S5cRhikZyRjc3l5Pavkb4h/AvX/AIVeNL7SL+ye8trW0hdbyCM7G3/IMbsEEuGGOSNjHkDNAHjer6c8Ei3EkeCCBIuMEGtWC2vNCuhYapZPHLbSFJredCGRs5wR1r6u+B3wv8MnSrWW7js/7YLLIbm/thIYJBuwDkHACNnIyc+4FWviF+zf8NfiJr9j4gaaSGR7iabWrm3BZryZ2diWZiT87lSCeVDMMHigDzP4drpVron9uNNJ5eUVHji5GfmPHtzxWJ4w8nVdcOnWF5ncN5dhjeRzuHsR+ua+gLL4B/DmORbi0k1RrCS4YR6fDcARIu/d8uFB6HHUEge2T1Gufs7+BNZ8O3Wk6Bp9jBcXoEtnfxxIkkLKpUI5wcBsHPQnJPvQB84eG9A0mHSoxawyttucqW+YOobr7Z5zXW+Hfsu+9iQJs8nCRTE4VmIP/sprasfg3r+iyTafPdWKXCp+7hE5HmMXwoBxtIK/Nu4x0OCcUtl4cg8NCC5u/Ka+WSRnh3bd/Kj7wPPBTAwOcmgB+j/CLxd4iRbrw7qkNxEzhrgzoU2NtDBMAMW3cqCO45GMVZ+IP7P1/pRuLOXTxIVuhLNZW8+GWMhyhBPYgAnBOMEZ4rY03xlpJ8S2lsdHlWWKcRBYWAb5lYIFbonBX5sdm6Cr2ueKtfk1a4uPFTS/arWaMTusbhlRiGRT0+RgWIxwQRigCr4R+AXgXX9Lh06bX5rVzaRyIsyfu4pX+8hHJK52ck9ASRxiuyj8AeHfC2o2+vEx3lsAFnMsAWKEnPlxjkjIOcE4H3ehrzzTJ7zw78QbbVJWjks4Y55PJi+Ta7AsA2ScoMggjHB9jXo6eM/B0dw/heSdrj+07RpJLNFTdEShZNkg4yv3uRjheCRkAGHrfw81zWtfj1HQrTT7aOG1VPs12x/eMIcnnaRtd/lzxy3Yc1J4Z/Z48N2Xh1NY197j7Vpt2ZGsYJI32jbv2Hgl1yScDj8M1LNBruieJbfSr1CI0aFJDdNhnyCVJJ6Esp57HqK6PX/GFloLyeIDBIIy0ipa3aHCswRJFOCORhv16UAZ3i7xtbaHquk6xb6Isd9JZRgzmGMLJEGKhQMfdwoUA/wrjgddTxL4E+C3xBe3uvFeiNeyLeG+8gXborTuFjUMEIbZ5cIGMkDnH3ucWMaJ428Kz2FzCwkhbGnSzAgRMFLbQ2BwdjrtOSSMjHBPRf2Fb6P8PLS702B5ry2jX7V5S7lC7/vFgDjA49OlAF/w78FPhhqmlPHFpd8I0aFmtrq4dm8vOdww6jBHABGQAM9Dn03wB4SsvDjPZaZN9jtkV47W7aEpsjkGVkwp4PbHQgZOSa5jRtP1HTdM0XxERma6xDIiyFGMQw2PxBOD/KvVdWtNOvfCdrremRXW+2cx3FvM7ERqecehXAGM98g+tAHzv8U/gJ4V8Sve/wDCM2xtdashJKbCUMyXJBDBUz93PzEHJGWAwOtfOljo2oeAtTNn4o097GeeRltWaMrJvKqNhA5AG7r9RX6BHWLLWNRaZdJSeXfGyCJ9plKoAfu4JyAB6nYnXGK8r+OHwT8LfFzw5PrVrp0VtPp0U32WWRGJEiKSFLqMnp8oPTnJOaAPR/8AgkPrniK1+P2mWrJJJ9rhFmkG9izROhaR8dgAqH8j6Cv2M8G6Oy4MnIAz0r8uP+CPug3ug/GbTpIdBS8v5tNkivJXJDWwKBzJyvynBK47nAzyDX6xaHAIUIAA9vSgC4bSIrgqKqT2iq2U/KtCmSoGXpQB8heK5BGGOa8h+IeurZ2s8jvgKjMfyr1fx7+6RgCeh5xXgPxcvnFlcpG43eWwX64oA/LHxtrVpqPi/UWsLZ44lnkWV34Z1dyyg8DttFctLZXeoaht0eRZcQcid9qxgsF3MPqwx9c12HiezvND8Wy+D77TGsr6S2BmgvgWE8yyY8wAgbBjABGfu89TXD6vPfeGbi9W/ZRNLIIHkjfAQkMSO3v/AJ6gHXzanbxRWiaveFYYbF8RROWBYuh6nsSD+fvmpPFXjHVvs9osV7mNGwpdMAY5A+mP5e1c94ctL3X7GPXbmyk8pYswC4AwP3hI292yWJGeo+ldHAmjebbajqsDG2+0CWZFjPl5HITODx0B+tAHXfB/xvLotvcLq2ozwm6SN1hj+cFC43oc/dZhtYFeRgV6trj+HvEsN1qWntuhi3fZ0EgDtyAwBHXAxz714bB4h0/XEXT72WXZLGHt2t0wEPmY2sOpPfjtj8Ou0vX4LS3g0DQ4gxjYhpZWyRluT0GTgD8ulAHf+EPEU9zOtjp+lIIFcLPLvPyrg/u/m9T0HX5frVT4g+D/AArfaE1nq+gQ38tqhu4opsjfJu+c/J3C5wCDnjpms/RF1DStVki0uQJLAfP/ANIONwUHDD69PYnFdHp+p2+v6ctw4WGQQ+XLO0R4+YkHHPcgE8HCjHWgDwT4jyS/DvxzbWunaWtvbyJ5lvHG7MIB8wUsSMkYXJB6AZzitbwNr0uo6OLW4DwrdaisirEA0b8fN8xzjIyM45H0rvf2k/g7pfibw83j3wnLALvSdHY6mEG5b+3WL78Y/vfKv/fR5JxXgvw/1S00fSdROq34hkXypIofJJLgZBAYH5eoH40AepeGfFOnx+L3s9MuSYrdNsccKBg52gBFPQHJb5j234HNdRd3t5pVtcXckyjTL24R/IVAywlFI2diG27gemfavK/CekQJ43j1TSFkmkngEyOD8pO51Y4HXOP511XxN8Sx6X4PYR2xLxkeYwxgqW4OCPm5wBx/F7UAY/jPUtOs9Xsr2LVjLEsyqyTRANHhzmPIzyfXv7Vl+JdOsLvUTr8LQmKKw2z2iSfNyWy+CewIJxyDg9gRyV74gTWvCU1xexRpcWtwskMyINwUFtytwM/w9en6HX8JXN14/wBWktL4pZSGKRJ96bSpAIC9DyGOAeuOOBzQA/R/D2mjW7jxRe6xYzNLqCFrTDo8UchChlXodpbqOmRV7xHeW9/atqM2pXLwXtrFcTyZDbNsmBuAyB2HYfyrifFXgTxF4Q8d2+lfbZHaRhJDLgqZQJCASOcHK5IyQK7vwr4Lv/Dt1HawX8N4j6fOl1HdwBkRNzqWGT0JBIGO35AF+38MprtzpLaXJG4d3VprhV23hRnMhQH5tuxGCrjqQOrCkgsrDQfFhm8SkxXGl6jHOyQsGSaNW3Iw4x8ynqDjtjuL3jPwb4jsSl/ol1AIPD0Rt445ZfnlVpMeYi4xg7l4z3qp4rtPEF941t9Q1O1lW1V2SS3iXOUJZUjJYkc9SOg3HgUAdx4o07V/H/hSbxsJ4QsdwyymP5QpxwhRhkAjnPXOeBWHr8Oo+IvAgF1mG6Ul4kfBMqLtO7jpxJnpzggdMV2Pgv8AsHw7o2t219qVo+n6wvk2cYzugkZUI3LgEAZJLYxg8E8iu38KeAraxsD/AG9dvcTwqwjtXhVvLAcEkN35ZeeSFXAI6EA8P8I6NcJp8Nu1tI0AjDW7qSVSRsbsjGQeMc+nvXR+DfEOrWfiq60nUG/d6jbtbzwuNhWMhtu3PHJJGO4PvXWQ/Dpo/EGo6bbS2/nWN8+yFPu3LPyFySAAA2Qf9kDjFZmoeHI/E9hbeILSSOCC3sGSZXGHeMHCuO56kde2aANv4can4lk1t/DGraiRc6XG4uJXl3qrL3Qg45OP09a9LsNX1ZtTSO51KeKFLIByiffckBgQD3GPxHHWuU+H3wt1rT9CuPG8+q/brW8j3XMGzbIH3ByVbOWA2gHtz3FbGkXt/oMU9/bwy3HnBZLi0ljHmxxjdJuB65+8eB0XHagCPxz4S8ReDNH/ALema4iW3mhfT5ra4XYwU/KzAEMrFTIcYH3R1r0XwzNolzpUFnd6rG1pqdskk9m8YYv1LkEjPXOOo5rzH4h6npfifwDL4nubueWQSxIw83btOBGNuBxwoOCDyCehrrPCWreHvEVjpWubGjmjDxBc52jaAAw9Ad+D9B2xQB+mH7D9j8PbL4IabceCbDSkmw66hLYRossjByEabbyHKBTjoM4AAxXudhKN3PfmvgD9hb4n618LfiDpfgG7uY00rxNcKkqXEeGiIQpCFJOR+9+Xpg7wfevvO3lKgfN06UAbSMCKdVOxufM4J+mauAg8igD48+ISfuJPYGvnH4plsyknjJ4r6V+JFvugYgfSvnH4sWxzICeuc0AfEf7ZXgGe41e0+KmlNEJLazeyv4SDumiY/Lt4wCpLnP05r5g8SWd78Q9Uu/tskylJGdpWTO4DaMMw6E88n14r7J/auvG0r4XatfbRmJUYbl6fvFzj3xnFfKGhvf6je3enQyRwrM6u7uMDaQTtBHQ5I4z2xmgCXw3YXVnZ6ckNtPPC0UsgVWOAitl+f4eQ3P07V2dnDoetWM9voVyVtZJ/MlS4wWj+UgDcBkr74/LpWHoE97Z+HLm3v4MIZJPsbRkK8DCQbue54IHoCeoNJokV5olhZ67cyRMsjOIIADmRc7g5xwPvKB34HpQBFPpQiWS4NtKrRkC3XoHUkdfTpWz4M8R2ums8+tQNG2WxJDGN0b53I4/4FjPsMcVrWd7B4qshYzX8cU8vmx2e8cnoxU88dfp1qLSfCunRW92Jb1EFiY5FAcFdxJHJzyPr+VAHYaT4juPEHhW0kZIkbTXbCooJcNlSQ55GQCcdOfauq1H4gJbeBJtP0Xw9aLKtuEdnUAurHAbocttJ7YHUelcv8O9KeSCOxeS0dZXb7JEbrJTAX5to5IxvA7dTXZL4e07Vr67t9McRW8CRrdboSUEefvL6kEEcdR9aAKfhS28Qa34NljmSS4hZ5IJtP8sFlR1I3KOOFO0MPf2NeGeJvhhqvw01i3t/EV2t4NShdppURgiOJMFR6/L5Z9i2O1fSulaLpsGrRw6ZmV0hRjChYKCozuznBBIU/j9a8v8A21IpNE0/RLjy+JZZ54miYEKG2/IT25OfwoA5j4b/AGXTtcg1a1gAs7K3OyNW3Fj0JOemc57D5u1SfEbXtFF5pdrqzloBCJJ/JGAWOenHzbTtYjnrXP8Aw4xB4Rn16W5SWNnFu1uWO/dgO5H0BTpyOfxf4wtLKPVbS+0yGaW3iQ73lABickqCSc56d/Tt0oAXWfCumeIPBN74gfRojdsVBugoHnocLjAxzuQ8+oHqaj8A6tJbavc6zJpG+eQux81ckllyM8884/r6U3RtWks1t9IFxmJgWwclcc44HUZPPtn8auoR6vpXiCGW2WSWC8u5GjVmG6NVYfKy9ufwoA9D8YX2l+MLyw0CGAK91oq7/LwGt2UnA3Y+UEhRn3zz3zrTVLvS/DoEV+9xNpV+tsyTFSixMuI5M9QCoYc5BYk8EVh3uo/8I/ew+J7VFuAIDFeQGXJZSACuAR23Aj61d0rSifC1w16GVZbINCYGJ/ctKNqEn7xWRjnuOR2oA172OPVr+aK9aeO0kG9XiUneu3O489jtB69PXNOih1GXUP7Oij85JhhnvG3IpxnJPBOCxOfxNVNFP9nSyQahePNPZ2ypbRoThs58wZ9eOh4OT34q/ZR2s2kvrOnRtDPcqsc6O45ZUfG0DnnAz9Md6AOwnn8MeHbyy0TWZ4rnT47OOOV4oyCZlCsQOODnI79PSup1TxLfaIsM+jwMdPi0+S4W3P3GbgryoHRGOen48GvKtQljnvmmvrzNypSZWkjOJSAewPy9jj/J3/8AhKW1q2eW0shpclyhguo4rhnTBJ3cEZXA429cr0NADtP1jV08SWuo6ndrLb6rpqSK4lIk8xVznBHB2qR7kCrllpCW17dafbym4ufLWGzAk427WcbAf7wJBGPpVJdWuPEep2SwziO00q0VJpY0J2RqgY5UZPLMQD6sD2p+p+I5PD/iaLxgmmxRRSeahh3lmjkDMAdvXADDvzigDr/DOqroOi3Op2KhRb6am7zJ2IcMASvXgg549O3FdD8Lr7UtcSHXL1klhuN+WAG6MZxkj6LgDByDiuY+G8ulX/iuTwz4vhvJ01A+bbSWpUL90MWIYFSCuQTnp0Gei+Hda/smC48G3esLafYdQ+zzzrISyIJEGcZGVBz9CDmgDq/ij/Z1r8Lzotvax+ZFqCsTGmMAO3GMnjBGB1GTWl8IINOfwxbW0uDcQbJPLb5QArkk8+q4HrVLStMt7qw1bQbi8a8hef5XEW7fbl8x3Ckg/e2HocjBHfBoXeoN4YjuBFdRgRQusEiKAQQenHJ47+9AHt/wy+LP/CKeOtG8ZXeli/stOvopbuNyP9UsysWjOME5Cn2/A1+o2kana61pdvrenSFra7t0mgfP3kdQwP5EV+LWhx3mo+AHtB4uktYr5hLFHtJdIhKWYL8w5JQHkc5xg1+rv7GfxAb4ifs8aDfmxmgFhbLYAzS7zL5Kqm/PvgjnnINAHrenMTOBmtVPuisjT8rOD61roQVBBoA+VvHtlvhkDjoDXzv8VdKLNKAvcgV9N+NbXzEb0xXgvxO0wlnbHAzQB8c/tGeFrPxB4R1PSL+1eaKSBi0Uf3mI5AHvkV8XW+myWVlqHiC0DiS2doRMyY+YKGJxjpyMf0r9A/i5p0ccUpdeMEnNfAvit9YtfFereHcqdNe6e5SHd8xZ227QR14RR6AZ9RQASeLni06JIQR57glnAJLYAyB6HI575+tW7HxH4c8MWEUHmtc20keAzQrhWb5mwPYnH4Dp253UprOwtPsc7Nm1unAkD8nDKOB29fzrT1BPDkV9d6Na6eWTiayyx2hSQWAz6joc/wD1gC6L46pcx3+l/uZN/wArhSCnOQ38/eui8NaPfTbbaOed5LmZIbmUAKsLMfk9Sexz/hmsHQ0i1vxIt6sEVqY7gvLEI8oFAKlQMepOPfvxW1eCbTI2udNWaCaOTLPGCAyg/LkZGSMmgDb8KeJbfwf9huYpknewvmM5U7XZCWGOcjgAkYHevU9Ojm1jxYL/AMO60URQWnTY0XnRZztOR0CjJ7ZNeLQSWzWVvY2mkMLoxM97qMr83BcE8Lj5VA2gY6kE55GPYdDstQTQrJtPQRy3SeW0uTlIggBAPqR1+qigDuvD2l6hqsNnrdnGI2NwVjiOQpibHyk9RwuPXg14P+3XqL2WkaN4cvmKT28v7s+e2I1VSCPm6nleTknJr6W+Fhu9XtjLcxlmsUYSIFG3II5555AJ46Zr5Z/btki8R6lAmnhWuNNtXubgGLJCeY8ajOOeQw+vpQB5Z4T8Q6l4euPsN7bM+nywMXuHhyscjBNrq2MqMqB7gmu41C7traytXSVZjcK3kx+YGMUZyDk8+/J659jXlkOoRS+Ev7Ot5Ve8AiOWJzDtBGMEc/w9K9B8T7rm1bU7a58wyaeHaSAZGXUOVIHT+I59c9aAL3geKLUPEUWltpiD7LbP5rqzZnZXBVifbKjAwDj/AGs10vh3RdN1W+n1We1uFtbPMeUAYOVbOST0yxC57/QVy/wu1qFtN1zU7h1Nw8aRWwdjxJ5ij5RjnORj0IBPFdjaLdaPZTaMkaLBPILgMkoePLDAwRjqMEZ5xQBxnid7JvGV1YNdeVbMeINuXSMLlgQDwADnPsR61v8AgTTJYdDaPU9PmhbehlmMJIaHBIVT0BbBz2G3muA+KIhg8Ubr0OHkwm4sQc4zuIA9xkd67DSvEV9B4Y36hNKyxWqL5qOREwzwFUdBgqPlHODnvQB0tkLa9t9UnkiaJo5BMjGMAlmOY884Vcvgkd2T8EnvLKG2vpLlWS5NyY7MEkDcp+X7vck7Qfc+lZUhkl8NTQ3VrOlysS/aFXIV2Zguw4GBhYt3Pv3GTBF5zeFVt55EIXaVcZDgb+N2c5OQMDp70AaHiNZBEt7Bb+VZpfLbq0mEIZUDNgk/dOTgk9MdMYra1LxlBd2scun6WxuFWJrm43bTK0kfmMxycAuJMYHAwOprmPHF4YPCaXl1GJZptx8xiFVTgKAqjABxitz4bajYn4e3fiXWiiI3+i2IkbCvKiDnrnkqOPTtgUAdN4c0O7t/FM9/pEVvJpeoaY727+YwbA4JkwVZcMQOeBketZs2sJ4os59TuLFYk8pZrIRONoixvYc/3c4P496n+EfibxF4PuFvJLB57O4eW3lieHdFJGcK2RnhgRuGOH6HuKr6zqdhr/g6HQdAaC3kt9OWSZ3u1jefau3aFwWbJweTycnBAoA6T4SapNq3iHw/qj2aMYVm8udRh5EZogGwc5wXdVJxny/9nNZfi/XNB0f4o6zqmtX09pEl7dLaz20m4PPhwi8YyA7LuYcYX1Nafwo0G4+H2lpdaaYotWu45CLraZVtsKRHw5OfvDaQduST0FR2HwU8VfErxDLZXdhLJDprhE1LDYvZH+aSRc9QWGc4ycnPQUAUrP4keN9Lv77VL/xLp19badAkMUzufKuFXbmLjk7csOMckkdKzdR+J954w1O41qLVbZo9g/0O2geNFGE3sTjHHTBPbjpXvXgT9gifUY0aSxJUgdVr2DwF/wAE1fC94iDWNHjYHG4bMZFAHzz8ANB1f4u+IrPwz4b0S9ur54ZIoraO3ZiCHPJUjKgDp7jnFfsp+zH8C9O+Bfwi07wPYvK8gzcXskp+Z53ALnAJA6AYBxx715X+yx+yx4M+Cd1HeeHdJjt5sAPKq8kema+m9LkM0G7ySgDcZ7igAitNhHoKsxjAwKdgdcUjcKcUAfOviyOOUPGMZXqPSvHPiNpqvHL8mfevYteOL6UMeHJByK878a6buVwy9qAPjX9p20u7Pw9cvZIQ7EKWXsO9fCvxC0qWHUpbj7MXNuN6k9EO9Tnt9Pxr9D/2nNHneH7OpIikViygcEj/APXXwl8etCnsZpFgkaPzm2MVJHBx+fOKAPIPEkJhuFmvYCyXitNB8+cgnk8Hg5GD9fpWlYXNr/osmqIsEsVmYZAshJfBLJ0yAcbfypJ7eCW5tLPVbFRE9wBxkBMlFYn0yFycehq9p8tpNeT6hBaLIUQFVmVWYbQF5HOc8nHv7UAdX8DLi1k1e5N9biRvsw8p3GdrFs5/EAj/AIEa6jxhDHADrVrZkwQRKskqn5VbqFyep4/nXEeFNb1Tw5drrWn2sYklgxi4iO0gEENgY64P0BrprrXBf+Gmtri1YtvDzKTlS3XP64/4EaAKdtrkz6UbAyQu6wrFbTyD5ypYEJ77QT79q9E+EN94gurhbjVp5IxbQgxRscIQx2/L6jPWvNpdH0l0OqX10UTZtjRBgqwKtkA9uCM+jV7z8FvBmm+I9GWCwvHVkjEloryBlCk5kUMeevQfzoA9C8FTLo9xMk1sEmuLdjF5TllZR1PPf5gB3/WvjT9pHx3qWqfGPWPClsBDpGkWjadbRRktvBy7szk5LeYxye2wDtX2T411rSPh14SttX1y7khswcbliywcuFOOM4Geev6V+a/jLxxr7eIZ77VfDssL3l9dS3V49wxJE0rP93aBwDj8yMZxQB0nhbw9nU286BTBNJgTmP5ggbIK/gD+Y9K15tMu9FU2UszLHKixurMQCB6c89a5zwTrusx3FpLD5zyW7lYot3394yoUHt0b8K67WNRtL2/htL2MxmKMpMJuC0gxk/TJGD3waAG2mowpqVxpumAQQBCqsxHzy8AkHHAyeB/s12lvPc6THa3mpuwS2kSOZd+WbAwuPYL61x948Vp5FxcXGZZYMRRAYyPNKgn8vw/lsf2lFqWmiVZRJP5m14QpBGACSQeAOw/E8cZAMP42WZfTTq9gWluFO/arAgtkH5m9hgf/AKqm8E6ld3Hh1dJukieR7iNoXdizqmCNn54I447dan8TXJXwLdpe27RXswQRBIV2uC6luc54JwTjpgVW+Ew1rw/pz+LLqzSb5JEQmL/UncF3g9MjaetAHT+IvHXinWNHaPXdUMrQSFzdTkM0zAnHzfxjLE4549s1ZsbyHStQSfXbSVYjZrIqwEDdciMMoyPujcSc+2PasXV7UeIdMFlY8JaWnmvuXcJFXHmOCOM7QW+YjhcDoBWn4YfSPE3gbVP7T1pdR1CbUS+mKMhySxjQYJGN3zfK3txQBX8Y6nPqOi2VvDp8TSiR38hSSeSNqtg+xP41ev8AxH/aOh2Ph218K5P9pm+eQb1VSxx5Sq3CrnBJ6nIxndWn4B+HnivW7aCc6GEuBwzOPl6jII78qR6c17R8P/2a9Y1TyrnVXmlfbtcMx2lcg424wBx+vtQBwlzYahrtjF4Y0ewlt7SIrujinBZ8BfmZwuC3UccdyPTqvDvwNm8RahFdnR/JjSGOKOPG4hUAAJPcnGSfevovwB+zPFEIv9BHb+GvZPB37PtnZBN1mB06rQB4f8Lv2eYWhiFzaFjjjdzXv3w++BdhAIs2C/L0G0V6J4V+F1nYIirbqCPau/0HwtDaKHWMZ7DFAGF4S+Glhp0KlbRQf90V2+keG7e3C4gA49Kt6bpIAU7eelb2n6WTg7eh5yKAL/hTRo0CEx49a6yNAihV6Vl6LC0a4x061qjkUAFNkOFp1I67higD528R2+4M+OvQ1yviizFxa+ftzuTNdxrkJKEbfwrmNRhSS3e1YYI5X6elAHzH+0P4e+02okEfKhwP0r4V/aP8OkxTSJFl0JZFPQsOn61+lfxh8LrqGkzLt+6CxOOcV8NftI+EZoFlVoCpZSR8vXmgD40tNMuPFM7S2F6FtbdFQx4O5fmIKntx3I9R60WRSwu5WkkB3YKuY8l+nAI4HB/StrWra2sbu3jWMxLp1yC9vExUzKzlj06919uK2ItJttW0q2uPIUbAMNt2qfcev6GgCfTr2R9KFzf6U0S+Z5VuwYMNu0Z78cnPStfS9LP9ltZpN50dy5EWRghQc8/X/Go49LW91CHTmUCJp0SUxKOh4JHBPY9O9dx4U8FTadps2p3rAJE4aNduVKk9/ryKAODh0fXNE1tJraDzjNaCMpOcYV8qdvpx/OvpX9nfSLK10H7dqdlJ5Cw7IkUYVHBIB9eCT+lcxJoGiXzabOlmjOrNvDR8soI9e2Qa7P4faLr3ifXI9C8LRTTrHL5kkUbFVUZP3sjAz/SgDutY+Hem/FbwxbaRLZh008skZL56gHp2614/8TP2ELDXLeRIdJwT0Kr3r7Y+EPwag8M6KkdzEHvJsNdSDpn0HoB+tdyfhtYzr+8tlOeTxQB+NPj79hj4meFtQF1oZuHSM5RXywGOACpyCAB0qno/wd+LFhCXk8JK11EW2NLBuRsoFxg9uNwHXPcV+y978CNC1If6TpyEH/YFUB+y94TPznSYzk55jFAH49N8LPiYuoRa7qvw/M06xSiYwxbFDsDtZV6Dbwe3I6c5qD4b/Bf4j6vqM1vcWeoRtLclzGqH7uCMMfXk/ma/Y+X9mHwnIgU6NDgnn90P8KTTv2X/AAnpspltNGhQk84iAz+lAH5Tat+xF4q1oR3tzazedGuEfJyoyTwc8VVi/Yr+MtmkcOi6leQRR2rW6Rx4C+WSSVK9G5OcnnpzwK/XWD4B6H91rBB/wCtGw+Bnh6EBhYRkg9NgoA/NL4WfsK+JNR8Kf2F4itNvmLEryRghnCjBzjuTyT+Fem/D/wD4JneE9N1hdWa3dZGdWkI5ZmXocnvX37pvwr0W3UBbFFx0AUVsWHgawtjhLVeuR8tAHzR4Z/ZT0qzKJBpqKq4x8lel+FvgRpmnBQLRRgf3a9htPDFvET+5H5Vet9AjK4CHj0FAHG6J8O7SyRAtuAB3210um+GYosEIMduK3oNHO0EJj2xWhaaMNwby+e1AGXZaKYwAiD3NbFhpbLjC556Vp2WhNJjzFwPpW1p2ghUGE4z1oAoaXopABZCTXQ6dpUezcR+dT2mmxxKCo6GraqF6UAMS3WMYQAVIOBiiigAooooA8V1m1BZ0I6E44964/X7ORVJXj3Fega3bfvnJXqcg1zWsWG8FiM57HtQB5h4rs4bq0aKQANt5z3r5T/ar8ExXcfnW6qzKjDAHT/PNfYfivQvPjdVBxya8Q+K/gL7fDKZIidwI5oA/Lf4zeBbm21KSRISpBJDDgj3rG+Huv6hayx6VcWscyI+BERjzAScg++T19OK+rPjd8G/PmmdbTJyTnbXz5rnwp1HTNQ8yGBlIfIYDpQBtWujaVdamzC6ns7g/Kbd5MgnAI5+hU4+tel6Tqcdx4bTTZYD5jLsZVXAJBBU9ee/HFeV6T4E1TUryCeW7mWaKfzA+c4JOSfqfWu8+HPwT8d3HiYXr38r2iMDF5kmA5JGDtHYe5oA9G8B+AT4z1iDT7MPEq7RJKcEQg8nA6AnJ/OvqL4J/B7Q/AcbLpMDtPNt+0TSvuZ8dvYcmuM+B/wAK5PDthm8lM885BnlK459B7CvoLwR4eNvEhEZ4HGaAOi8N6QY1H7vgj0rorbTFGBsBz6inaTp5WMDb2rZs7TacuuR2oAqw6SjPgKPpirK6NDnnBP0rRt7XcNwQ1ajsVJyyc9+KAMdNGiY/cH5U8aJF3jH5VtpbIpBAFSeSo6H86AMSPQ4dvywg1LBo0IXAi+hFbSwKE4Gfc06OEc4UcdMUAZMekRIPuYqxDo6EZKe1acVqZTtC5zxWjYaHLJgsOKAMGPR2Jwq5zWhZaDK5GE49cV1GneG4yAzpgfStS30u3hwNnNAHM2vhobRuyTn0rUtfDyrtBQY9a20to0HCjNPVcdaAKdppcMagFQcVajhWP5VHFPooAKKKKACiiigAooqK5ukgj3saAPP9asvNiE2w5HBz6Vz17phdtgXALcGvQZtJaePY469qy77w4ynAXp7UAeZappCzRlwuRntXC+LfBhvY3PlZOOOK98uPCME9ooWEKyDA2ise/wDAPmxsTFyR/doA+NviD8HxfB1az5OedteN+Kf2c2uLot9hJHpsr9B9W+Ef2sEG2zn2rIb9nyK5bLWYPrxQB8CaR+zbJ9pAFgQCevl16p4C+Aklj5Z+ydO22vrLS/2dLSKUObUf9811OlfA6ztlG63UEenagDwTwl8Nms41HkHt/DXovhvwm0KjEJ4HBxXoy/C2C2I2Q1saX4GSHaph/DFAHH6Z4cm2ZKYwOMitGPSTApBH1rurPwtHCoUxjmm6n4aRYSyqPwoA4mO2UcKD19KsQxkcHPPtVm5txDKYwM4OKn0yAbizDoePagCoYiOp/SlA4xWrLbJcD5uxzmmHTYXBAUoPUHNAGcUxjA/+tT0iIz61eXSoxnfLnjjAqRdLVW5kzQAzS7MTzY69K6uw02OCEMF5+lZehaesUqkcmuhUYAFAAEAxiloooAKKKKACiiigAooooAKCcDNNkkWNdzHAzWZqviGC1Q7HHT1oAt3upRWqkk9ulc9e6zPqVybeJiBn5vYVnXmr3eqT+VAx5PWrmnWRtkwWBLH5jQB//9k=\\n\", \"height\": 256, \"channels\": 3, \"width\": 256, \"type\": \"image\", \"id\": 4964411728}], \"selected_variable\": {\"name\": [\"<SArray>\"], \"dtype\": \"Image\", \"view_component\": \"Images\", \"view_file\": \"sarray\", \"descriptives\": {\"rows\": 1}, \"type\": \"SArray\", \"view_components\": [\"Images\"]}}, e);\n",
       "                });\n",
       "            })();\n",
       "        "
      ]
     },
     "metadata": {},
     "output_type": "display_data"
    }
   ],
   "source": [
    "gl.canvas.set_target('ipynb')\n",
    "disagree[disagree['id']==72]['image'].show()"
   ]
  },
  {
   "cell_type": "markdown",
   "metadata": {},
   "source": [
    "For id==121, model 2 predicts dog, but model 3 predicts chicken.  Let's show that image too:"
   ]
  },
  {
   "cell_type": "code",
   "execution_count": 164,
   "metadata": {
    "collapsed": false,
    "scrolled": true
   },
   "outputs": [
    {
     "data": {
      "application/javascript": [
       "$(\"head\").append($(\"<link/>\").attr({\n",
       "  rel:  \"stylesheet\",\n",
       "  type: \"text/css\",\n",
       "  href: \"//cdnjs.cloudflare.com/ajax/libs/font-awesome/4.1.0/css/font-awesome.min.css\"\n",
       "}));\n",
       "$(\"head\").append($(\"<link/>\").attr({\n",
       "  rel:  \"stylesheet\",\n",
       "  type: \"text/css\",\n",
       "  href: \"https://static.turi.com/products/graphlab-create/2.1/canvas/css/canvas.css\"\n",
       "}));\n",
       "\n",
       "            (function(){\n",
       "\n",
       "                var e = null;\n",
       "                if (typeof element == 'undefined') {\n",
       "                    var scripts = document.getElementsByTagName('script');\n",
       "                    var thisScriptTag = scripts[scripts.length-1];\n",
       "                    var parentDiv = thisScriptTag.parentNode;\n",
       "                    e = document.createElement('div');\n",
       "                    parentDiv.appendChild(e);\n",
       "                } else {\n",
       "                    e = element[0];\n",
       "                }\n",
       "\n",
       "                if (typeof requirejs !== 'undefined') {\n",
       "                    // disable load timeout; ipython_app.js is large and can take a while to load.\n",
       "                    requirejs.config({waitSeconds: 0});\n",
       "                }\n",
       "\n",
       "                require(['https://static.turi.com/products/graphlab-create/2.1/canvas/js/ipython_app.js'], function(IPythonApp){\n",
       "                    var app = new IPythonApp();\n",
       "                    app.attachView('sarray','Images', {\"ipython\": true, \"rows\": [{\"format\": \"jpeg\", \"value\": \"image/jpeg;base64,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\\n\", \"height\": 256, \"channels\": 3, \"width\": 256, \"type\": \"image\", \"id\": 4776686352}], \"selected_variable\": {\"name\": [\"<SArray>\"], \"dtype\": \"Image\", \"view_component\": \"Images\", \"view_file\": \"sarray\", \"descriptives\": {\"rows\": 1}, \"type\": \"SArray\", \"view_components\": [\"Images\"]}}, e);\n",
       "                });\n",
       "            })();\n",
       "        "
      ]
     },
     "metadata": {},
     "output_type": "display_data"
    }
   ],
   "source": [
    "disagree[disagree['id']==121]['image'].show()"
   ]
  },
  {
   "cell_type": "markdown",
   "metadata": {},
   "source": [
    "We can also look at examples of images that were dogs but were incorrectly predicted to be chicken"
   ]
  },
  {
   "cell_type": "code",
   "execution_count": 165,
   "metadata": {
    "collapsed": false
   },
   "outputs": [
    {
     "data": {
      "text/html": [
       "<div style=\"max-height:1000px;max-width:1500px;overflow:auto;\"><table frame=\"box\" rules=\"cols\">\n",
       "    <tr>\n",
       "        <th style=\"padding-left: 1em; padding-right: 1em; text-align: center\">id</th>\n",
       "        <th style=\"padding-left: 1em; padding-right: 1em; text-align: center\">sift_features</th>\n",
       "        <th style=\"padding-left: 1em; padding-right: 1em; text-align: center\">label</th>\n",
       "        <th style=\"padding-left: 1em; padding-right: 1em; text-align: center\">image</th>\n",
       "        <th style=\"padding-left: 1em; padding-right: 1em; text-align: center\">m1_label</th>\n",
       "        <th style=\"padding-left: 1em; padding-right: 1em; text-align: center\">m2_label</th>\n",
       "        <th style=\"padding-left: 1em; padding-right: 1em; text-align: center\">m3_label</th>\n",
       "    </tr>\n",
       "    <tr>\n",
       "        <td style=\"padding-left: 1em; padding-right: 1em; text-align: center; vertical-align: top\">1900</td>\n",
       "        <td style=\"padding-left: 1em; padding-right: 1em; text-align: center; vertical-align: top\">[0.0, 0.0, 0.0, 0.0, 0.0,<br>0.0, 0.0, 0.0, 0.0, 0.0, ...</td>\n",
       "        <td style=\"padding-left: 1em; padding-right: 1em; text-align: center; vertical-align: top\">dog</td>\n",
       "        <td style=\"padding-left: 1em; padding-right: 1em; text-align: center; vertical-align: top\">Height: 256 Width: 256</td>\n",
       "        <td style=\"padding-left: 1em; padding-right: 1em; text-align: center; vertical-align: top\">dog</td>\n",
       "        <td style=\"padding-left: 1em; padding-right: 1em; text-align: center; vertical-align: top\">dog</td>\n",
       "        <td style=\"padding-left: 1em; padding-right: 1em; text-align: center; vertical-align: top\">chicken</td>\n",
       "    </tr>\n",
       "    <tr>\n",
       "        <td style=\"padding-left: 1em; padding-right: 1em; text-align: center; vertical-align: top\">1913</td>\n",
       "        <td style=\"padding-left: 1em; padding-right: 1em; text-align: center; vertical-align: top\">[0.0, 0.0, 0.0,<br>0.00112230004743, ...</td>\n",
       "        <td style=\"padding-left: 1em; padding-right: 1em; text-align: center; vertical-align: top\">dog</td>\n",
       "        <td style=\"padding-left: 1em; padding-right: 1em; text-align: center; vertical-align: top\">Height: 256 Width: 256</td>\n",
       "        <td style=\"padding-left: 1em; padding-right: 1em; text-align: center; vertical-align: top\">dog</td>\n",
       "        <td style=\"padding-left: 1em; padding-right: 1em; text-align: center; vertical-align: top\">dog</td>\n",
       "        <td style=\"padding-left: 1em; padding-right: 1em; text-align: center; vertical-align: top\">chicken</td>\n",
       "    </tr>\n",
       "    <tr>\n",
       "        <td style=\"padding-left: 1em; padding-right: 1em; text-align: center; vertical-align: top\">1916</td>\n",
       "        <td style=\"padding-left: 1em; padding-right: 1em; text-align: center; vertical-align: top\">[0.0, 0.0, 0.0, 0.0, 0.0,<br>0.00387350004166, ...</td>\n",
       "        <td style=\"padding-left: 1em; padding-right: 1em; text-align: center; vertical-align: top\">dog</td>\n",
       "        <td style=\"padding-left: 1em; padding-right: 1em; text-align: center; vertical-align: top\">Height: 256 Width: 256</td>\n",
       "        <td style=\"padding-left: 1em; padding-right: 1em; text-align: center; vertical-align: top\">dog</td>\n",
       "        <td style=\"padding-left: 1em; padding-right: 1em; text-align: center; vertical-align: top\">dog</td>\n",
       "        <td style=\"padding-left: 1em; padding-right: 1em; text-align: center; vertical-align: top\">chicken</td>\n",
       "    </tr>\n",
       "    <tr>\n",
       "        <td style=\"padding-left: 1em; padding-right: 1em; text-align: center; vertical-align: top\">1917</td>\n",
       "        <td style=\"padding-left: 1em; padding-right: 1em; text-align: center; vertical-align: top\">[0.0, 0.0, 0.0, 0.0, 0.0,<br>0.0, 0.0, 0.0, 0.0, 0.0, ...</td>\n",
       "        <td style=\"padding-left: 1em; padding-right: 1em; text-align: center; vertical-align: top\">dog</td>\n",
       "        <td style=\"padding-left: 1em; padding-right: 1em; text-align: center; vertical-align: top\">Height: 256 Width: 256</td>\n",
       "        <td style=\"padding-left: 1em; padding-right: 1em; text-align: center; vertical-align: top\">dog</td>\n",
       "        <td style=\"padding-left: 1em; padding-right: 1em; text-align: center; vertical-align: top\">dog</td>\n",
       "        <td style=\"padding-left: 1em; padding-right: 1em; text-align: center; vertical-align: top\">chicken</td>\n",
       "    </tr>\n",
       "    <tr>\n",
       "        <td style=\"padding-left: 1em; padding-right: 1em; text-align: center; vertical-align: top\">1926</td>\n",
       "        <td style=\"padding-left: 1em; padding-right: 1em; text-align: center; vertical-align: top\">[0.000745150027797, 0.0,<br>0.0, 0.000745150027797, ...</td>\n",
       "        <td style=\"padding-left: 1em; padding-right: 1em; text-align: center; vertical-align: top\">dog</td>\n",
       "        <td style=\"padding-left: 1em; padding-right: 1em; text-align: center; vertical-align: top\">Height: 256 Width: 256</td>\n",
       "        <td style=\"padding-left: 1em; padding-right: 1em; text-align: center; vertical-align: top\">dog</td>\n",
       "        <td style=\"padding-left: 1em; padding-right: 1em; text-align: center; vertical-align: top\">dog</td>\n",
       "        <td style=\"padding-left: 1em; padding-right: 1em; text-align: center; vertical-align: top\">chicken</td>\n",
       "    </tr>\n",
       "    <tr>\n",
       "        <td style=\"padding-left: 1em; padding-right: 1em; text-align: center; vertical-align: top\">1931</td>\n",
       "        <td style=\"padding-left: 1em; padding-right: 1em; text-align: center; vertical-align: top\">[0.00173709995579, 0.0,<br>0.0, 0.000579030020162, ...</td>\n",
       "        <td style=\"padding-left: 1em; padding-right: 1em; text-align: center; vertical-align: top\">dog</td>\n",
       "        <td style=\"padding-left: 1em; padding-right: 1em; text-align: center; vertical-align: top\">Height: 256 Width: 256</td>\n",
       "        <td style=\"padding-left: 1em; padding-right: 1em; text-align: center; vertical-align: top\">dog</td>\n",
       "        <td style=\"padding-left: 1em; padding-right: 1em; text-align: center; vertical-align: top\">dog</td>\n",
       "        <td style=\"padding-left: 1em; padding-right: 1em; text-align: center; vertical-align: top\">chicken</td>\n",
       "    </tr>\n",
       "    <tr>\n",
       "        <td style=\"padding-left: 1em; padding-right: 1em; text-align: center; vertical-align: top\">1933</td>\n",
       "        <td style=\"padding-left: 1em; padding-right: 1em; text-align: center; vertical-align: top\">[0.0, 0.0,<br>0.00079616997391, 0.0, ...</td>\n",
       "        <td style=\"padding-left: 1em; padding-right: 1em; text-align: center; vertical-align: top\">dog</td>\n",
       "        <td style=\"padding-left: 1em; padding-right: 1em; text-align: center; vertical-align: top\">Height: 256 Width: 256</td>\n",
       "        <td style=\"padding-left: 1em; padding-right: 1em; text-align: center; vertical-align: top\">dog</td>\n",
       "        <td style=\"padding-left: 1em; padding-right: 1em; text-align: center; vertical-align: top\">dog</td>\n",
       "        <td style=\"padding-left: 1em; padding-right: 1em; text-align: center; vertical-align: top\">chicken</td>\n",
       "    </tr>\n",
       "    <tr>\n",
       "        <td style=\"padding-left: 1em; padding-right: 1em; text-align: center; vertical-align: top\">1945</td>\n",
       "        <td style=\"padding-left: 1em; padding-right: 1em; text-align: center; vertical-align: top\">[0.0, 0.0, 0.0, 0.0,<br>0.00107120000757, ...</td>\n",
       "        <td style=\"padding-left: 1em; padding-right: 1em; text-align: center; vertical-align: top\">dog</td>\n",
       "        <td style=\"padding-left: 1em; padding-right: 1em; text-align: center; vertical-align: top\">Height: 256 Width: 256</td>\n",
       "        <td style=\"padding-left: 1em; padding-right: 1em; text-align: center; vertical-align: top\">dog</td>\n",
       "        <td style=\"padding-left: 1em; padding-right: 1em; text-align: center; vertical-align: top\">dog</td>\n",
       "        <td style=\"padding-left: 1em; padding-right: 1em; text-align: center; vertical-align: top\">chicken</td>\n",
       "    </tr>\n",
       "    <tr>\n",
       "        <td style=\"padding-left: 1em; padding-right: 1em; text-align: center; vertical-align: top\">1972</td>\n",
       "        <td style=\"padding-left: 1em; padding-right: 1em; text-align: center; vertical-align: top\">[0.0, 0.0, 0.0, 0.0, 0.0,<br>0.00548439985141, 0.0, ...</td>\n",
       "        <td style=\"padding-left: 1em; padding-right: 1em; text-align: center; vertical-align: top\">dog</td>\n",
       "        <td style=\"padding-left: 1em; padding-right: 1em; text-align: center; vertical-align: top\">Height: 256 Width: 256</td>\n",
       "        <td style=\"padding-left: 1em; padding-right: 1em; text-align: center; vertical-align: top\">dog</td>\n",
       "        <td style=\"padding-left: 1em; padding-right: 1em; text-align: center; vertical-align: top\">dog</td>\n",
       "        <td style=\"padding-left: 1em; padding-right: 1em; text-align: center; vertical-align: top\">chicken</td>\n",
       "    </tr>\n",
       "    <tr>\n",
       "        <td style=\"padding-left: 1em; padding-right: 1em; text-align: center; vertical-align: top\">1995</td>\n",
       "        <td style=\"padding-left: 1em; padding-right: 1em; text-align: center; vertical-align: top\">[0.0, 0.0, 0.0, 0.0, 0.0,<br>0.00189389998559, 0.0, ...</td>\n",
       "        <td style=\"padding-left: 1em; padding-right: 1em; text-align: center; vertical-align: top\">dog</td>\n",
       "        <td style=\"padding-left: 1em; padding-right: 1em; text-align: center; vertical-align: top\">Height: 256 Width: 256</td>\n",
       "        <td style=\"padding-left: 1em; padding-right: 1em; text-align: center; vertical-align: top\">dog</td>\n",
       "        <td style=\"padding-left: 1em; padding-right: 1em; text-align: center; vertical-align: top\">dog</td>\n",
       "        <td style=\"padding-left: 1em; padding-right: 1em; text-align: center; vertical-align: top\">chicken</td>\n",
       "    </tr>\n",
       "</table>\n",
       "[10 rows x 7 columns]<br/>\n",
       "</div>"
      ],
      "text/plain": [
       "Columns:\n",
       "\tid\tint\n",
       "\tsift_features\tarray\n",
       "\tlabel\tstr\n",
       "\timage\tImage\n",
       "\tm1_label\tstr\n",
       "\tm2_label\tstr\n",
       "\tm3_label\tstr\n",
       "\n",
       "Rows: 10\n",
       "\n",
       "Data:\n",
       "+------+-------------------------------+-------+------------------------+----------+\n",
       "|  id  |         sift_features         | label |         image          | m1_label |\n",
       "+------+-------------------------------+-------+------------------------+----------+\n",
       "| 1900 | [0.0, 0.0, 0.0, 0.0, 0.0, ... |  dog  | Height: 256 Width: 256 |   dog    |\n",
       "| 1913 | [0.0, 0.0, 0.0, 0.00112230... |  dog  | Height: 256 Width: 256 |   dog    |\n",
       "| 1916 | [0.0, 0.0, 0.0, 0.0, 0.0, ... |  dog  | Height: 256 Width: 256 |   dog    |\n",
       "| 1917 | [0.0, 0.0, 0.0, 0.0, 0.0, ... |  dog  | Height: 256 Width: 256 |   dog    |\n",
       "| 1926 | [0.000745150027797, 0.0, 0... |  dog  | Height: 256 Width: 256 |   dog    |\n",
       "| 1931 | [0.00173709995579, 0.0, 0.... |  dog  | Height: 256 Width: 256 |   dog    |\n",
       "| 1933 | [0.0, 0.0, 0.0007961699739... |  dog  | Height: 256 Width: 256 |   dog    |\n",
       "| 1945 | [0.0, 0.0, 0.0, 0.0, 0.001... |  dog  | Height: 256 Width: 256 |   dog    |\n",
       "| 1972 | [0.0, 0.0, 0.0, 0.0, 0.0, ... |  dog  | Height: 256 Width: 256 |   dog    |\n",
       "| 1995 | [0.0, 0.0, 0.0, 0.0, 0.0, ... |  dog  | Height: 256 Width: 256 |   dog    |\n",
       "+------+-------------------------------+-------+------------------------+----------+\n",
       "+----------+----------+\n",
       "| m2_label | m3_label |\n",
       "+----------+----------+\n",
       "|   dog    | chicken  |\n",
       "|   dog    | chicken  |\n",
       "|   dog    | chicken  |\n",
       "|   dog    | chicken  |\n",
       "|   dog    | chicken  |\n",
       "|   dog    | chicken  |\n",
       "|   dog    | chicken  |\n",
       "|   dog    | chicken  |\n",
       "|   dog    | chicken  |\n",
       "|   dog    | chicken  |\n",
       "+----------+----------+\n",
       "[10 rows x 7 columns]"
      ]
     },
     "execution_count": 165,
     "metadata": {},
     "output_type": "execute_result"
    }
   ],
   "source": [
    "disagree.tail()"
   ]
  },
  {
   "cell_type": "code",
   "execution_count": 69,
   "metadata": {
    "collapsed": false
   },
   "outputs": [
    {
     "data": {
      "application/javascript": [
       "$(\"head\").append($(\"<link/>\").attr({\n",
       "  rel:  \"stylesheet\",\n",
       "  type: \"text/css\",\n",
       "  href: \"//cdnjs.cloudflare.com/ajax/libs/font-awesome/4.1.0/css/font-awesome.min.css\"\n",
       "}));\n",
       "$(\"head\").append($(\"<link/>\").attr({\n",
       "  rel:  \"stylesheet\",\n",
       "  type: \"text/css\",\n",
       "  href: \"https://static.turi.com/products/graphlab-create/2.1/canvas/css/canvas.css\"\n",
       "}));\n",
       "\n",
       "            (function(){\n",
       "\n",
       "                var e = null;\n",
       "                if (typeof element == 'undefined') {\n",
       "                    var scripts = document.getElementsByTagName('script');\n",
       "                    var thisScriptTag = scripts[scripts.length-1];\n",
       "                    var parentDiv = thisScriptTag.parentNode;\n",
       "                    e = document.createElement('div');\n",
       "                    parentDiv.appendChild(e);\n",
       "                } else {\n",
       "                    e = element[0];\n",
       "                }\n",
       "\n",
       "                if (typeof requirejs !== 'undefined') {\n",
       "                    // disable load timeout; ipython_app.js is large and can take a while to load.\n",
       "                    requirejs.config({waitSeconds: 0});\n",
       "                }\n",
       "\n",
       "                require(['https://static.turi.com/products/graphlab-create/2.1/canvas/js/ipython_app.js'], function(IPythonApp){\n",
       "                    var app = new IPythonApp();\n",
       "                    app.attachView('sarray','Images', {\"ipython\": true, \"rows\": [{\"format\": \"jpeg\", \"value\": \"image/jpeg;base64,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\\n\", \"height\": 256, \"channels\": 3, \"width\": 256, \"type\": \"image\", \"id\": 4411094224}], \"selected_variable\": {\"name\": [\"<SArray>\"], \"dtype\": \"Image\", \"view_component\": \"Images\", \"view_file\": \"sarray\", \"descriptives\": {\"rows\": 1}, \"type\": \"SArray\", \"view_components\": [\"Images\"]}}, e);\n",
       "                });\n",
       "            })();\n",
       "        "
      ]
     },
     "metadata": {},
     "output_type": "display_data"
    }
   ],
   "source": [
    "disagree[disagree['id']==1887]['image'].show()"
   ]
  },
  {
   "cell_type": "markdown",
   "metadata": {},
   "source": [
    "## Section II: Using Filtered Images And Training Models with Limited Data"
   ]
  },
  {
   "cell_type": "markdown",
   "metadata": {},
   "source": [
    "In the previous section, we were able to train an accurate classifier using 1000 training set images (50% of 2000).  In this section, we explore how we might extract image features from filtered images to train a model with high accuracy using more limited image data.  In the `resize_images.py` script, we generated two sets of transformed images that were generated using `opencv`."
   ]
  },
  {
   "cell_type": "markdown",
   "metadata": {},
   "source": [
    "We load the filtered images into SFrames that we will use for our analysis"
   ]
  },
  {
   "cell_type": "code",
   "execution_count": 11,
   "metadata": {
    "collapsed": false
   },
   "outputs": [],
   "source": [
    "edge_sf = gl.load_sframe(join(sframe_dir,'edge_sf'))\n",
    "sobel_sf = gl.load_sframe(join(sframe_dir,'edge_sf'))"
   ]
  },
  {
   "cell_type": "markdown",
   "metadata": {},
   "source": [
    "Let's inspect an example of how the images were transformed.  We look at `id==1887` which is the same image we looked at in the previous section:"
   ]
  },
  {
   "cell_type": "code",
   "execution_count": 13,
   "metadata": {
    "collapsed": false,
    "scrolled": true
   },
   "outputs": [
    {
     "data": {
      "application/javascript": [
       "$(\"head\").append($(\"<link/>\").attr({\n",
       "  rel:  \"stylesheet\",\n",
       "  type: \"text/css\",\n",
       "  href: \"//cdnjs.cloudflare.com/ajax/libs/font-awesome/4.1.0/css/font-awesome.min.css\"\n",
       "}));\n",
       "$(\"head\").append($(\"<link/>\").attr({\n",
       "  rel:  \"stylesheet\",\n",
       "  type: \"text/css\",\n",
       "  href: \"https://static.turi.com/products/graphlab-create/2.1/canvas/css/canvas.css\"\n",
       "}));\n",
       "\n",
       "            (function(){\n",
       "\n",
       "                var e = null;\n",
       "                if (typeof element == 'undefined') {\n",
       "                    var scripts = document.getElementsByTagName('script');\n",
       "                    var thisScriptTag = scripts[scripts.length-1];\n",
       "                    var parentDiv = thisScriptTag.parentNode;\n",
       "                    e = document.createElement('div');\n",
       "                    parentDiv.appendChild(e);\n",
       "                } else {\n",
       "                    e = element[0];\n",
       "                }\n",
       "\n",
       "                if (typeof requirejs !== 'undefined') {\n",
       "                    // disable load timeout; ipython_app.js is large and can take a while to load.\n",
       "                    requirejs.config({waitSeconds: 0});\n",
       "                }\n",
       "\n",
       "                require(['https://static.turi.com/products/graphlab-create/2.1/canvas/js/ipython_app.js'], function(IPythonApp){\n",
       "                    var app = new IPythonApp();\n",
       "                    app.attachView('sarray','Images', {\"ipython\": true, \"rows\": [{\"format\": \"jpeg\", \"value\": \"image/jpeg;base64,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\\n\", \"height\": 256, \"channels\": 1, \"width\": 256, \"type\": \"image\", \"id\": 4637822736}], \"selected_variable\": {\"name\": [\"<SArray>\"], \"dtype\": \"Image\", \"view_component\": \"Images\", \"view_file\": \"sarray\", \"descriptives\": {\"rows\": 1}, \"type\": \"SArray\", \"view_components\": [\"Images\"]}}, e);\n",
       "                });\n",
       "            })();\n",
       "        "
      ]
     },
     "metadata": {},
     "output_type": "display_data"
    },
    {
     "data": {
      "application/javascript": [
       "$(\"head\").append($(\"<link/>\").attr({\n",
       "  rel:  \"stylesheet\",\n",
       "  type: \"text/css\",\n",
       "  href: \"//cdnjs.cloudflare.com/ajax/libs/font-awesome/4.1.0/css/font-awesome.min.css\"\n",
       "}));\n",
       "$(\"head\").append($(\"<link/>\").attr({\n",
       "  rel:  \"stylesheet\",\n",
       "  type: \"text/css\",\n",
       "  href: \"https://static.turi.com/products/graphlab-create/2.1/canvas/css/canvas.css\"\n",
       "}));\n",
       "\n",
       "            (function(){\n",
       "\n",
       "                var e = null;\n",
       "                if (typeof element == 'undefined') {\n",
       "                    var scripts = document.getElementsByTagName('script');\n",
       "                    var thisScriptTag = scripts[scripts.length-1];\n",
       "                    var parentDiv = thisScriptTag.parentNode;\n",
       "                    e = document.createElement('div');\n",
       "                    parentDiv.appendChild(e);\n",
       "                } else {\n",
       "                    e = element[0];\n",
       "                }\n",
       "\n",
       "                if (typeof requirejs !== 'undefined') {\n",
       "                    // disable load timeout; ipython_app.js is large and can take a while to load.\n",
       "                    requirejs.config({waitSeconds: 0});\n",
       "                }\n",
       "\n",
       "                require(['https://static.turi.com/products/graphlab-create/2.1/canvas/js/ipython_app.js'], function(IPythonApp){\n",
       "                    var app = new IPythonApp();\n",
       "                    app.attachView('sarray','Images', {\"ipython\": true, \"rows\": [{\"format\": \"jpeg\", \"value\": \"image/jpeg;base64,/9j/4AAQSkZJRgABAQAAAQABAAD/2wBDAAIBAQEBAQIBAQECAgICAgQDAgICAgUEBAMEBgUGBgYFBgYGBwkIBgcJBwYGCAsICQoKCgoKBggLDAsKDAkKCgr/wAALCAEAAQABAREA/8QAHwAAAQUBAQEBAQEAAAAAAAAAAAECAwQFBgcICQoL/8QAtRAAAgEDAwIEAwUFBAQAAAF9AQIDAAQRBRIhMUEGE1FhByJxFDKBkaEII0KxwRVS0fAkM2JyggkKFhcYGRolJicoKSo0NTY3ODk6Q0RFRkdISUpTVFVWV1hZWmNkZWZnaGlqc3R1dnd4eXqDhIWGh4iJipKTlJWWl5iZmqKjpKWmp6ipqrKztLW2t7i5usLDxMXGx8jJytLT1NXW19jZ2uHi4+Tl5ufo6erx8vP09fb3+Pn6/9oACAEBAAA/AP5/6KKKKKKKKKK6Dw78J/in4v8AAniP4peE/hp4g1Twx4P+x/8ACW+I9O0aeew0T7XKYbX7ZcIhjtvOlUxx+Yy+YwKrkjFc/RRRRRRRRRRRRRRRRRRRRRRRRRRRRRRXqH7K37TOo/s0+KvERvPB2n+JfCnjzwfd+EviD4Zv7a3Lalo108Mr/Zp54JxZX0Fxb2t5a3ixuYLq0gkaOZFeGQ/bQ/Zm1H9jz9qDxf8As7XnjHT/ABLaaBqCP4e8V6Tc28tr4h0a6hju9M1WE2088Yiu7Ge1ulRZXKLOFY7lNeX0V9P/ALJX/BPT/hoDwd8KviLrup+IP7I+Lfxg1/4TaXcaXpXl2eieKv7H02Xw9Je3zCRVtrnUNVQzxLF54s9MvXgEsmFj+cPFnhPxV4C8Van4F8deGdQ0XW9F1Caw1nRtWsntrqwuoXMctvNFIA8UqOrIyMAyspBAIrPooooooooooooooooooooooooorsPhx8AfjL8YfCvifxj8KPh7qHiS08F6eNR8Uw6IgubrTdOCSvJqMtrGTOLGEQkT3mw29u0kCzSRtcQiT2/4ofFLx3+1z/wTj8FyeKNd/wCEh8T/ALOHiC60S/vb+1ik1WHwPqkdkNGhWaNTPPpum6ja6jbs1ywjs38Q6ZbwlhdCOL5w0bwn4q8R6dq2seHvDOoX9poGnrf67dWVk8senWrXENqtxOygiGI3Fzbwh3wpkniTO51Bz6+j/wBjLxZ4qtf2Vf2ovDGmeJtQsLTTPhfpXiizGmXr2si6mviPTPDhkMsRWR4n0jxTr9lJbsxglj1F/MjdkiZD/gq/4m1Hx7+2ZP8AFPxDbaeut+Nvhf8AD7xV4oudM0m3sY7/AFnVfBmi6jqN6YbaOOJJbi8uri4kKIoaSZ2xljXzhRRRRRRRRRRXsH7Kf7Jv/DVtr4pstK+L3h/wjqHhb+wry9vvGkn2PRINKv8AXLHQ5r25vwzNbfZ7vVtNkZTCyG2+2SmWN7eOG5z/ANsnwn8M/h5+0PrHwy+FfhnUNKtPCen6VoGuW+p2V7bST6/Yaba2etXQgvwt1BFPqsN9cRxTxwyxxzIj29symCPy+iiiiivUP2Q/2VvFX7Z/xlg+AHw7+Ivg/QvFerafO3hDT/GWrvYR+JdTQAwaNa3HlNBHfXJykAunggkk2xmZXkjV/T/iv+yr471z/gn3ofx5sfgv/ZXiD4J/EDW/h18bdPsLCK1v9Che4gvdHv8AXLM/6XFcz3t9remfa5lWHbo9laYSWL998wUV0HxL+Fvjv4P+I7bwn8RdC/s7ULvw/pOt29v9qim32Gp6db6lYzbomZR5lpd28u0ncnmbXCurKOfor1D9jb9o3Tv2U/2h9H+M3iH4Vaf450SLT9V0fxR4O1PUriyj1rRtU0260vUbQXNsyy2sslneXCxzpkxSFJNjhSje/wCgeGdR/wCCN/8AwUV1z4afH+58YeIPhP4v8H654c1DxB8PdWt7JviB8PPEGn3Vjb67pkgkuLO8ieKWHUYIXklh+1WSQySJJCzx8f8A8E2bP/hTf/Cw/wDgob4l8OeH9d8P/BPw/FbW/hHxNrf2Wz8Xa7rvnaXY6LPFFcxXF5bG2bVNQubSNZIrqz0e6tLjZFdtIvIfHT4B/AL4BfALwtY+I/iF4wvvjl4m0/RPEmoeFI/D9rDoHhvQNQtby7t0kvhdSS399dWc2hXyCKKKK3ivJoZWe4Vo4M/Tfil4E8LfsC6z8FNP137f4n8d/GDTNb1fTPsssX9hWGhaVfwWc3mFTHdfbpfEd8u1WVrb+xssHF2hjPjl+0J4E+Nn7OPwp8Kar4D8r4m+BP7V0TxF41USl/EPhtVsW0KG5kkuH865ss6lZqwiiCWMWm24Mi26rH4/RRRRRRRRRRXoHwO+On/CofDnxH8Fah4W/tXSPiX8P5PDGrpDffZrm22ajYarZ3EMhSRRs1DS7FpUaNvNt/tEKtBJKlzD3/8AwVi/5Sm/tLf9nAeMv/T5eV4BRRRRRRX3f8Hv28vh78bfFWjfF34ia1qCftMDT9J0PX9f+MGo2GvfDr4yadZvJ5Wm+KbW9jiOnSm3tNDtY755Z7d7iwhvLl9PnEmqxZ//AAU6/wCCYv8Awpb/AISj9pD9m/4YeIPDXhLw14gh0j4x/BzxHefbNd+Cuu3HMFjdzjP9o6Jd5D6XraZiuomSKVhcAGf5Q+MnwB+Mv7Pmo6Bpfxm+HuoeH5fFXg/S/FXhpr1AY9U0bUbdbizvYJEJSWJ0bBKklJI5YnCSxSIvr/8AwUT1nTvFmnfs/wDjbU/Cen6H4y1H9nDw9b+OtOspLhZDJp9xf6To9zPBcSyNbS3Hh3T9AugFEcc0dzFcxoEuVZvnCiivq+5tvhn+1x/wTHsryz1nT9D+KX7Kmn3Kahp8mmXu3xZ4C1XxDAbeWO4E0sC32n65rl0rxNDb+da6pCyyStaMp9w8T/C/9lhvFvwy/wCCSekfGf4wXfwi8Gf8JZ8b/it45i0uxspvGltJ4Si1uym0bRftcsVrv8PaVbi1m1CdriKbW7ozW9vse1b4Q/aF+Nfir9pT4++OP2jPHWn6faa34/8AGGp+JNZtdJieO1hur66kupUhWR3dYg8rBQzuwUAFmPJ4+ivcP2+/ht8GvCHxl0v4l/sy+CdQ8PfC34oeD9P8X+AdF1PXDqMmmxzB7bUtOFxJHFNLFY6zaatp0ck8aySx2CTZlWVJ5fD6KKKKKKKKKK+j/wDgrnbeFbz/AIKK/Ez4m+BdZ1C90T4n6hZfErRjq2mJZ3Vra+KdPtvEcVpNFHNMglt01RbdmWRldoS42hto+cK9w/ZL+G3wa+Onw9+KXwZ8Q+CdQ/4WQPB914v+GnjGHXDDZadHoFhf6prOnXtt5b+fFd6ZDcNDImJI72xso8rBcXLp4fRRRRRX0f8ACP8A4KwfttfCTxV8O/EK/EfT/Etp8N/B914M0/QvF3h20vrXWvCN0+648MauxjWfVdIYFkjtLmV0tVb/AEX7Oyqy6H/BSaz/AOEa8Jfs3fDO68OeH9N1Dwj+z/8A2Vqw8Ia3/a2kXdz/AMJb4luDd2mpR3N1a6h5yzpLPJZ3EtvFdvdWyiB7aS1g5/8Abu/4qrw58A/jpqHyav47/Z/0n+17eHi2h/sHUdT8IWfkqcsu/T/DljLLuZt1xLcMvlxskMfgFfR/wx+F/hXQ/wBiXUNM8UfBvUPF/wAS/jv4w03S/gPo2kQp/aOnrp135d5q4iFs15dxXkt0+kWcFvL9lubiHVGmRrnSrPbgf8FFPCfhX4dftVah8KPDXhnT9Gu/BXg/wp4X8YaVplkkMdr4o0zw5pun6/GfLAjmlGr22oCS4QulxJvmWSVZBI3H/sxftIeO/wBk34uw/Gv4baP4fv8AV4PD+t6RHa+KdEi1KwaHVNJu9LnMtpMDDcbYbyVljmWSFmVRLHLHvjb6/wDj94/+FnwX/wCCn/xb+EHjnwV8QPH/AMEvBfw/0T4O/HSbwzpsGnarPpXh2y0Pw82twEtcxWXl6/pOm39sssqpO6WtpO4S6ljPzB+2F+zV4E/Z31jwPrnwh+N3/CwPBPxK+H9t4s8Ja/deGpdGv44WvLzTrqzvrJ5Jlt7m31DTr6A+TPcQyLFHLHKyyYXx+ivf/jP/AMVV/wAE4/gR4/179/q+jfEDx74J027+75OhWcfh/Wba02rhW2ah4j1mfzWBlb7ZsZzHFCkfgFFFFFFFFFFfX/7I3xq8CftVWNj+xj8cf2Q/g/rmoW/w/wDF8Pw48a6J4Tl0DxU2tx+F7htD09ZNFuLSHW7mbVLGwihXULe9ubie9kjDu9wFrn/BX/BRXR/HnwJh/Zm/b9+Bn/C4/DHh7w/p+l/DPxNpusWeg+MvBUNndTSxWdrrrafeSXWmmK6uoTp95FcQxhoGt/sxgXPAftn/ALNXgT9mbx34Y0v4Y/G7/hOfD/jH4f6R4s0m71Dw1Lomr6bDfRFxZ6ppskkv2O5G3zU8uaeG4tJ7S7hleK6jNc/+yr+0v8U/2N/2jvBf7UfwU1b7J4n8DeILfVdM3zzxw3Xlt+8tLjyJI5Htp4jJBNGrr5kM0iE4c15/RRRRXQfCf4W+O/jj8U/DXwU+Fuhf2p4n8YeILLRPDmmfaooPtd/dzpBbw+ZMyRx75ZEXc7Kq5yxABNfX/wAF/wBn/wD4Wv8A8MiftCfsCy+H/hj8TW8Qa9pPi7U/E179m0LStd8HfY9el8YT3eqXl2gthpOo2c9zD5McSS6XdeTbOs0cVeIft9/tbQftefGXS/EHhrw9p+keFPBvg/T/AAt4O03TPB2l+H4/stsHlub06fpcaW1nLfajcahqclujSrBJqLwLNKkSOfH9Z8WeKvEenaTo/iHxNqF/aaBp7WGhWt7evLHp1q1xNdNbwKxIhiNxc3ExRMKZJ5Xxudic+vt/9lX4peBPFXxs/ZY8TeCNd+2+IP2ef2f/ABl4su7F7WVIYfEnhzU/G3jPTbO43qvn20uzTDN5DgtDcSRpLFKC0fxBX0//AMFAfHGj654E+Flz4R+Dnw/0Pwl41+H+m+KPBDaH4Ls9L1fQkhlvtE1bTJ7mzRH1O2bVtLu3t5tTk1C++yW9i73a3FxqAmz/ANjLWfjL+yl4f8X/ALUviHwn4w0/4b+LPhf4l8Aajf6ZILePWpPEvh/xJp+lIYpZYvt1iNT0m4kkkQSRxSaQ/WeKKNs/45fFfx3YfsO/Cn9kj4w+BvED3PhrxBqvjb4ZeLW8bRXmkP4b162sUuLC2tUhkUbNQ0uR2eG6UQXbalbz24uVl8rwCivp/wCBcf7J2qfsbap8L/2nv22f7Egu/EEHizw34U8HfCK/8Ta7o1/A8mm3dms17eaZYWH2+3ubS9k+zzXK3MWh24nltprS2trngP2l9S/YF1b7X/wx14N+MHh/7D4gkhsf+FmeJtK1j+29Kbzdl1J9hsrP+y7lPLgzbD7ckv2qTFxF9lX7X4/RRRRRRRRXv/8AwSx/df8ABQT4XanpX73xPpviBtR+G2nP/qdV8ZW1vLceG9NuDwFtrvW49NtZmLxBYbiQme3AM8Z4W8f/ABT/AOCdnxFvPh14w8FfD/4i+H/Gnw/0LWfEPgLxjps+o6FqNtrPh6LUNPuGVWt7i01K0ttYYR3tpLDcW0r3CRTmKWUTH/BTr9nvWP2ef2yfFFt/wnniDxn4Y8c+T45+HXxE8TG8kvPGHhvWU+32Gqzz3dvbyXNzJFNsuZPLUC8huk6xmvIPH/wt8d/C7+xI/H+hf2ZP4g8P22t6bZTXURuRYXO42000KsZLbzolW4iWZUaW3nt7hA0NxDJJz9FFFFdh+z18a/FX7Nfx98D/ALRngXT9Pu9b8AeMNM8SaNa6tE8lrNdWN1HdRJMsbo7RF4lDBXRipIDKeR9vyeJtR/Zv+Hv7RP7GaW2n3n7MGgafr3ibw7resaTbnxF4uj8V2Gjy+B4k1AxxvDK76d4e8QSadCbOSS20jU2uYJ/sf2OP88KK+r/2FfgD8Zbr9m79pr4w+Gvh7qAu7D9nD+0fC9/boE1NtOn8X6Tp+qajp8WRczWI0621+yvby3VreKBrq3uZEWcxv84fDT4peO/g/wCI7nxZ8Otd/s7ULvw/q2iXFx9lim32Gp6dcabfQ7ZVZR5lpd3EW4DcnmbkKuqsOfr6f/bg0zWP2pPHfw/+OH7M3wt+y/Dvxz5fgj4RfC7wtb3lxN4Xv9Oishc+GYreWSaa7ufO1O3vWvIsrqU2stdlYLu4vLK1+oPG37WHiP4e+DvgX4X1b4u/D9/2RfjP+z/Z/C7Xbfw74R06b/hGdVt9HsYtcudXsYrFb+61LRvEd83iW337nl+3s1ldRjUrlq8//wCCi3gDw54S/ZA1j9nfTfGv22D9lz4waF4NtNHs9S1G4h0vXdX0XU7TxdGWv1wbafW/BJ1ayW1KRLDr05lRJpWtbLw//gjx4T8VeNP+Cr/7Nuj+DvDOoatdw/HDwxfzWumWTzyJa2up291dXBVASIobeGWaRz8qRxO7EKpI+cKKKKKKKKKKKK9Q/Yi+NfhX9mv9tD4Q/tGeOtP1C70TwB8UNA8Saza6TEkl1Na2OowXUqQrI6I0pSJgoZ0UsQCyjke3/wDBYv8AZv8AHf7L/wASfhL8OPjLrHh/VviBZ/B8aR431zwtrcV/YahNofiPXfDVgYnhISPytJ0TS7VoykUytat9pjW7NznP8E+H/FX7cv8AwTqvvAmgLp8/jL9k3T9S8SWWn2nhh5dT13wFqeoWxvkW4tLXiLRtTnlviLuVsweIL2RGhSxZZew/Zi+KXgT/AIKT/BOH9g39snXf7M8W/DT4f63qnwK+PU9rLczeHNI0fTLvVrvw1riQq9xfaJ9mtbp7V4kmu9Om+SCOe3ma2X4gooorQ0bwn4q8R6dq2seHvDOoX9poGnrf67dWVk8senWrXENqtxOygiGI3Fzbwh3wpkniTO51B9//AOCZH7L/AMM/2gPj7beMP2jH1D/hVvgnUNOu/FejaPot7fan41uprpI7HwfpEVo0bzavqrrLDDGJoWSCG9ut22zkrsP+ClXxF8d/Bb42eMfgffQeH9K+Inibw+dM/aGt/CuoxajpGnzPqdjqVn4O0llnnhs9N0OHS9Eslhh2zW93aahafaLi0itlX5Aor7v/AOCVXi7UfgZ8JV/am+JX7VOofDjwP4Z+OGk6B4d8R+GNOt9X1zwJ4i1PRNXnHiWCzF0s62ONKs7PULKSCS21mwmuYgstzpls1v2H/BTr/gmL/wAJD/wlH7SH7N/ww8P+GvFvhrw/D4p+Mfwc8BXn2zQpdCuOYPiD4JnGf7R8I3eQ8kKZl0iVmilAtwDB8IfAG5+AVr8ZfD0v7UujeML/AOHp1AJ4rg8Aana2msrasCpltHu4ZoGljJWQRSKFlCGPzId/nJ93+FdQ8Cf8E2dH8E6f8ctM/wCEg0j4Hft/2OvfDXxVpFjLb63rukWlnY3PiqCbT3vDDYXKQ23gtzYXwhu7W5u7m1dxJBex2/l/xT+BHir4vfGXwJ/wR4+FOl+D/DXiL4WeMPGS/EzxHrHiB7Pw7ba/aiOy1vWUv72ZpE0hNI8LWOpSGSNJVuZNTEMIha0tYtD/AIKW/GLw5ffB2Dwz+zfdeH/GHwb8X+IPC2k6d8V5tH1HTdd1fVfAPhCz8Nm1msbi5aGztmh1EapEEhd2i1u3SW5863ntLXz/AP4JV/Cf4p+JvjR4v+Ongr4aeINQ0j4X/B/x5rt/4x0vRp5bbwlqsXg3XbjRr+S7jQrYXKahbQy2kxZHW4t0aJhJGCM//gpb8Nv2R/gn8ffFXwJ/Z+8E+MNE8V+Avih4p8N+OV1LXIrzQLyOyuore0udIjaP7ZYxPLHqGbO8uL6SGJbQG+unMr0eE/2D/Cv7QvwC0z4g/sS/GrUPiP8AEi11CGx8Z/Aq88Ipp3ihGltRN9t0K2hvbt/EdjG8d2kzQLFdW6QJcTWkcEjSR/OFFFFFfT/jL/gnX5X/AATx8J/tv+APip4futX/AOEfk1z4gfDm51z/AImtloUviS90Gx8QW8clvAsls+oWrWE9rC91LbP9kuXk8vUBDZ/MFaHibwn4q8F6jHo/jHwzqGk3c2n2l/Da6nZPBI9rdW8d1a3AVwCYpreaKaNx8rxyo6kqwJz6KK9w/a4/be8Vftl6cmrfE/wPp8HiuT4oeMfFt5r9jcOY0tdeuLS9Gi20Uu+S3sbW+TVLqKMzSL5ms3LbVd5ZJs/9j39oX4Wfs+ax44b4t/CTxB4p0/xp8P7nwxHceEPGcHh/V9G+0XlnLPcWl9Np98sfn2kF1p86eT++tNSuomYJI6t1/wC178J/iF/wTL/banv/ANlr4w+MNI0S70+DxV8D/ido17f6VqOreEdYtDNp17Hc+RZy+a9ncNbXJjjRBcR3cOMIwr5worQ8M+E/FXjTUZNH8HeGdQ1a7h0+7v5rXTLJ55EtbW3kurq4KoCRFDbwyzSOflSOJ3YhVJH0/wDBT9iH4BftqfAK48O/sUeOPGGo/tEeENPfVtc+GPiu3tY1+IGmC1jnu28Mx2+5zfae4uVfT5ZJZ7+1iF5biKQS6fF4h8Av2kPHf7Ov/Ca2vhHR/D+qaf8AEH4f6l4P8U6T4m0SK+triwu/LkSVA43Q3Ntd29ne288bK0dxZQsdyB430P2dv2vPjL+zFBf2Hw1vdPNpf6gmqi2v7AO1nrMGl6tp2naxbTIVntr6wGs3lzayxyKIrpYJirtBHt8voor3D9mj9o34NeB/gF8W/wBmH9oX4Vahrvh34g6fa6x4b13w9qRt9T8N+LtJtdSXRrsK7eRc2Mh1K6tbuCRS/kXRmhdZrdFk7/4Af8FN/FX7PXwC+Dln4M1PxgvxS/Z6+OF74t+F+oT+IXfQH0DVbW2GraLc28bR3EMT3WnW7eXBMsVxFq2qLKqMytJ5B+xT+y/4q/bU/a4+HH7KHg59Qhu/H3jCx0ebUNM0V9Rk0y1llUXWoG3RlMkVtb+bcyZdFEcDszooLD7/ANN/a28K6l8TLf8Aax0zw9qGheMvCeofGj9o7xZpXirwclxa/D3U/F1lp2n+CY4PtsZ/tmUamnhy+ivEtFgVdXs5sBILiSH4A8KfHzwr4L/ZH8X/ALP3h74e6hB4r8b+MNKvNd8cx+IEWN9AsYrll0MWi2okMU19Nb3szPctE8ml6efs6vbLKfo/9tf9un9o79qv/gnboHiz4t+M/M0jx7+0BqsOleAdMVrXw34EsPCvh/SoNL0/w/pyN5Om2xh8UXUUy4dphYWLM/mJM8/H/wDBMvW/CvxD8P8AxV/ZB8f/ABY8YeAtK8S+D9R8cWnjDwDoyX2owXXhvw/rst3YzQyX1ms1jeaDqHiG1khEqNJcS2QZ1gFwkn0hqH/BWf8AZYT4p/GHw5qHxM+IEPhLUf2v/F3xN0G10/4eWPi3wb8SdC1eeAf2f4i8M6tfaZ5nlf2bY3FrO0rSwG7uCsdvcRwzr8IeLPEHhXWf20NT8VfsRNqHgDRLv4oTXfwhOreJ00q68OWraiX0rztRnuilnLboYN11Jc7YmjMjTYUyV6/8Sf8Agnx/wUu/aK+IWt+NPGMmofGX4kXvg+x8XGLw347j8e6z4l8O/b5dCbVLa80ua9ivYrS8tYrKWEXBuYg8bLC0EFxJB4h4A/Zv8d+NvinrfwN1vWPD/gjxhon2mGXQ/iZrcXhzff286xXGnyXOoGK1sbmNfPkK3s1up+yyRK7XDwQS9hc/sbz/ABL8VWXwn/Yb1rxh+0L4ystPub/xhB8MvhXqkumWlqrwLDcWLyquoXUWZ1jne50+yWGfCRm4R0mY8X/sWz+EPh74aaP4uafr3xP8dah4bPgf4OeGPDmqXWs6jpmrWElwt5KHtoxbSi4a0tYbQhp7wXH2uBXspLO7vfD6+/8A/gifYeHPj34c+JX7FfxX/aX+IFn4f8c/2TZeGPg5Z2Go3Hg3XfEN1qNqdP1DxJPaJI+l6adWsNA0ua6s1hv5DrNskdzBEk5r4g+KXiLwJ4q8d32s/DH4df8ACKeH28qLSdDfV5dQmhhiiSISXFzIF8+5l2edNJHHDC00shhgtovLgj+j/BGpeKv2xv8AgmjrvwV074Saf4l8cfs36hb+JPC2saHoLprOn/Dq6k1OTxCl1LCRHeWNpq95pN0glV7i2Gp30qMLZbjyflCvQPhP+zp4x+JXx28M/s/+I77/AIQrV/Ff2L+yJvE3h3WJ/N+3WqXOnbLXTbK7vp/tiTWwt/ItpfN+1QsP3beYOf8Aiz8LfHfwO+Kfib4KfFLQv7L8T+D/ABBe6J4j0z7VFP8AZL+0neC4h8yFnjk2Sxuu5GZWxlSQQa5+ivr/AMAaR/w3H/wTA1v4caZon2r4m/sofafE+hfYNL3XOrfDjUb1f7Wt2+y6czyf2Vq1zFqCvc3YVLfWtTYLtt+PkCivp/8AZ9+Iusfsw/8ABOP4wfEnw9B/Zfif44eILH4Y+HPEMOo3kdzJ4btI/wC1fFVrCLadI498snhOCU3SMJre/uIoQ4NyY/nDwn4s8VeAvFWmeOvAvibUNF1vRdQhv9G1nSb17a6sLqFxJFcQyxkPFKjqrq6kMrKCCCK9/wD+CkHj34NftM/EyP8Abw+EWpafpd38WtQnufiH8P8AaYbrRPF0dlp1xrd3BC97eSNpF7fX089nPLJG5Zby38iNbRXl+cKKKK0PCfibUfBfirTPGOj22nzXek6hDe2sOraTb39q8kTh1Wa1uo5ILmIlQGhlR43XKurKSD9H/wDBQv4dfs4/EP7N+33+xTP9h8BfEnxBdDxZ8L205Y7n4U+JJM3L6K7W8Edq+mzqZ5dKnRYzNb2lzC0SS2FxR/wSZ1L4WXv7R2ufCj4z+DfEF14Y8efD/U9I8TeLvCHiaDStX8EaFA0Oqa7rlpLLZXZm8vRNO1SCezjjEt5aXd1aoSZ/Lf2Dx94i+Lv7aP7OP7Qv7afgH4deH9A1f40/GDwn8Nvh58PtE1fSUv7nwnYqsr+F9H0iEQTX/wBhmj8AReZaWfnlY0IIje9B+AK9AtIP2jvH3wT8PfDbSvCPiDVfBOleIPE+t+HY7Hw40kIv00zTZtdmSeOLdL5Gn2OmzzqXZbaFFlIjWVnfQ/Zy/Y9+N/7VeneKtY+EC+DxaeCNPtr/AMUXXi34maD4cjsbWe4W1juC2r3tsJIvtEkMLOm5UkuLdHKtPEH6/wDY/wD+CdHx2/an+KZ8Oa7p3/CvvBOgf8I9qHxO+Jnjea10nSvB2havParaapcS6lcWsMvnQ3SXFtbrKJbxBmAOuWHgFfV//BPT4v6d4j8K69+zP+0PrHg8fB3QtP1fxhKPG/wXuPEWmadrM6adZwvfaporQ+INBsbm5t9KtnutOnYGcWkUttPFPKp6D476h+x7+zB+1BdfCL9rb/gmt4P1CXwZqGn39iv7Ovx81e00Dxjpl1DBfW9xPd6q2ty3Vjd2ctrLA9lJp06RXcvmEylBbZ/xi/br/ad8L/sbfDLwF8C/2d/EH7N3gLU/iBrvi3S9W+GnifxVZaF45v4X0SOK4jOp3101zc6Zd6RGwliuXWGWWPbFBKjSTdB8Pv2o/wBmf9kL4WaP+2h8GvHPh/4z/tR+J/EC6zqXiH4v6ZrT6r8O9Vkg1Bbm9tdPaKTSdXuVvGgvodXvNQuXLtbH+yreWOaWviCvUP2T/wBqnxV+yX8Qrvxnovw68H+NNK1fT4bDxN4J8f6Q97o2vWsN/aalBb3cUUsUjxJfafY3BRZUWU2wilEsEk0Mvn/izxZ4q8e+KtT8deOvE2oa1retahNf6zrOrXr3N1f3UzmSW4mlkJeWV3ZnZ2JZmYkkk0eGfFnirwXqMmseDvE2oaTdzafd2E11pl68Ej2t1byWt1blkIJimt5pYZEPyvHK6MCrEHPr7P8Agf8AtKfsj/HP4hfs7fFT9tPxJp+meJfg74w8K6D43s774bRT6F40+Hmm3+nRW4uTZJLLd6va2b3VvKtxbeTdaZp1snnfaoRFffMHxr/aF+Pv7Sniq38dftGfHHxh4/1u009LC11nxr4mutVuobVXkkW3SW6kd1iDyyuEB2hpHOMsc8fRXsH7BX7QngT9l/8Aax8KfFv4t+A/+Eo8E/6donxB8PIJfO1Dw3qthcaVq8NuYri2Zbk6fe3Xkt50YWby2Y7QQfH6K7DxX8a/FXir4NeEPgO+n6fZeHfB2oarqdpBZRP5l7qeom2W7v53kdz5rW9jp1sI4/LgWOwiYRCaS4mnPgf8FPFXx+8aXvgXwdqGn213YeD/ABD4kmk1OV0jNro2jXur3SAojnzWt7GVIwQFMjIGZFJdePoooooroPDvxS8d+FfAniP4Y6Nru3w/4r+xtrmk3FrFPDNNaymS2uUEqt5FzFvmjS5i2TLDdXUIfyrqeOT1D9h74t/Br4F6j8VPiZ8T5NQn1sfA/wATaD8OdIsrkwx6jrOuW66BKJ3FtNiK30zVNUvgpMIkksYo/OUyBXv/AAn8Zf8ADRH7LHhr/gnR4U+E/wDbHxN1D9oCy1H4S6pbXP2fzP7bsU0zVNNuJZrtLcedc2HhtoGaEeX5V2XnRWCtoftrfHf4BftO/wDBV/4j/H/xtqmoX/wn8V/HC+v7zUPAHh+10vUbzwu2psBcWlvLDDGt9JYgOHuUDy3DGS5LSPKzfUHwb/Z/8F3Pwa1/4H/sb/8ABRv4oa/4NGoapY/EnV/2ZPgDrMOnX2hXBYWmp+O9S1/VtFt7KKS1a6hW1eWbTLK3sbuUyq9ze3Fx4f8AFL9nWxl+Lt9+yL/wTn+I/nwePPD8V18QPBvinx94Xu5tK/sfSU1u9SXxdYSppGoaICJrtXS4tt02lL9ssYprCzlk0P2yNK8Vaz+xL+xt+zPfWuoDWdL0/XhpniDV7h9G8NC1127sNXtbMy6lfiCC+gOovLeXc1tpytaXulyhruw+w6jcaF//AMEs/wDhKv2WPhnrv7KuheIPiZ4g+NfxguPCfhT4heJNF/4Q7QobzSbGTz7HS7rUr1bfU7bV7m922dxeLYXjS+HLiBLQSzTQx+f/ALC3wN/4Km/A79o7Rv2o/wBkP9jT4wa14n+EXxANtqH9h/DvXLmG01WzZftmi6j9iRJI98UhgurQvG7Q3Do2BJXsHjzW/wBkS/8AjR8Q/wBoD/goj8C/+EC+Inhn4f6D4T+Hv7I+vWfivTrZLzTPBtnZ2upatfeSL6301ks4DaWSXLXk9xd2y3N1b2iTX8vYfCXwh+0X+3r/AME/vjR+0N4g/Z1+F+p+GtR8YeMNcs7ix8OeM1bwpdaH4WtLyK2efTb+HS9P0jTdIZ7PQ4dQ+2NFdXP2OG2Frc3k8P5oUVoeE/E2o+C/FWmeMdHttPmu9J1CG9tYdW0m3v7V5InDqs1rdRyQXMRKgNDKjxuuVdWUkH2D9uX9l+f4E/EKL4m/Dt9P1v4O/EjUNW1L4N+PfDei6pY6NrumW9/LbSw20Wqs95by2sqG3ltrqSWeMqjmW4imgup/D6K7D4EfAH4y/tO/Ey1+DPwA+HuoeK/Fd/p+oXun+H9JQPdXkdlZT31wsMZIM0ot7aZlhTMkrKI41d2VG6D9sL4B+Ff2a/jefhr4F+IWoeKdEu/B/hnxJo2t6t4fTSrqa11rQbDWIkmtI7q6SGWNL9YmCzyqWjJDYOB5fRRRRRX6X/8ABLL9mr4BfDD9l+b9oX9pyLT/ACvH+n6r4k8SXUOq2sep6F8JdAm+y6ylkya3ZzQX3ifWZbbwrADGJWgGpqjNFcOD8YfDT9p/wJ4d/bJuf2oPil+yh8P/ABV4Y1rxBq134j+EMFnLpuhNYaklxFcWNgIXMmm+RFdP9imQu1pLDbyqHMIDfR/x1/ZR+Gfw6/Yv+M/7Oeh/tNaf461v4J+MPDXxU+H10vha90y11PwF4n07SrWfUrVnBf7ddPqPg83FhepH9jWxY2s85luhXwhRRRRRXQfCf4peO/gd8U/DXxr+Fuu/2X4n8H+ILLW/Dmp/ZYp/sl/aTpPbzeXMrxybJY0ba6srYwwIJFfR/wC1R+xt8Pfil8Qvg38U/wDgnT4O1AeDf2ltQfTPBfw91nxTYXV74T8XR38dne+FpLo3G94onutPuLa7vEt3kstUtGkBdZZD9n/Fz9oT4i674EuvCn/BHq//AGf28aaD4g1Pw98bfgX8MfgD4evn8Y6rNLrYk8R+FV1NdVvPEeiGx1PUtO8uGRXtbFXl+w2ljevFB+cPxL/4b6/4bJtv+Fxf8Lg/4aD/AOEg0n7H/wAJN/av/CZf2rst/wCzNnn/AOnfadn2T7Pj58eT5fGyvt/4W/H39ljwN8U/i5+zL4K+CvxA/a9+Ill+0B461j4V+HtW8OWPjTSvH+J9NbTNZvdQWSS+GxNLv7+/TSbeD+20NrFeXRtIfKXoPDutfDr4a/sPeI/hh/wVj/ZS8P8AwRnvPiBZ+Ivhd4A134KeIfD6a9baPbGz+weXpmj2N5rflWOu6m0V1qHicXDX0GnrdSQw3F3d3Pl/jm8/aV8b+FfEnxB+NX7O2n6P4K8deD4NI0b9sz9sb4fatda5faTOltJFLaTxx3UF7fXZSRrR7a01TVbCwuGij1B7LTftkHoHgI+C9X+DVt+zv+y/+1Z4wtf2atK8YG11v4vfHvxNrOp+HY4/D5sNb1jWtL8D2US6Za2Ml/eWECadrov5NRudf0i3gEVy940Wh8YX8CWP7BPxT+OWnfA/4f8AwW8W+OP2f4PEfwr+GPgn4Vy2+r+Gfh83jDw/4asru+8TXTR3Fzc6hbXOuxyPBC8mqWmqTy31y1udNsrf8oKK7Dx38FPFXgL4Z+Bvi5eahp+oaJ490++m0+60qV5VsLqzvZbW4027YoEivkRbW7a3VmZbXU7CVsC4UVz9z4s8VXnhWy8C3nibUJdE07ULm/0/RpL12tbW6uUgjuLiOInYksqWtqjuoDOttCGJEa40PEXwn+KfhDwJ4c+KXiz4aeINL8MeMPtn/CJeI9R0aeCw1v7JKIbr7HcOgjufJlYRyeWzeWxCtgnFc/Wh4T8WeKvAXirTPHXgXxNqGi63ouoQ3+jazpN69tdWF1C4kiuIZYyHilR1V1dSGVlBBBFfp/qvxJ/ZH/aLn/Z1+KeieNtP/Zv+IVnqE2r/AAM+LWnaHFc+B9H1ldUv9Xv/AArr9m0jQ6FFYeJ7priwuIEuxDoWvaY2o25wJq8f/wCCiHwe8VfGj9tD4b6Z+1f4N0/4UfF/XtPuYP2qLbwr4Te/utOutP1G8bUPG8+laXJLD5U+jJHqMqW7QNctZXl+tvFa3tnd3fxh8Wfhb47+B3xT8TfBT4paF/Zfifwf4gvdE8R6Z9qin+yX9pO8FxD5kLPHJsljddyMytjKkgg1z9e4fFj9hr4hfBX9njwd8ZvHF1qB1vxx4Pg8bWHg6w8KX7SaL4Rk1K40uLWtWuZooorSK6vEtFsxD9oS4juxJJJbFrVLvw+vQP2XPgX/AMNH/HbQvhPe+Kf7A0i5+1ah4r8TfYftX9g6FY2st/quqfZw6NdfZdPtrq5+zxt5s3keVGGkdFP0/wD8FMf2udY8R/BPw7+zdqHhD7Dc+Kf+Ed8bnTNR1+81CbwD4TttMvIPBHguzkZxbT21roeqNqUl6sYnupteC3IS5tbgzfEFfV/w9/4KJfBrRv2PY/2fPiN+yhqGqeNdI+F+v+APDXxB0L4imytTo2o6udahTU9HurG8ttRltdRmvJIpFa3KrcxyJ5V7ZWV/b/KFFFFFFFewfsf/ALYvjv8AZG+Lvhr4saVZ/wBv/wDCD/29qXgbRNXkiuLDQ/El9pLWdtrsNtdQz25ubW5i028GYsytpdspZdiOnj9fT/7PH/BUH9o7w5o+lfs2ftLfH74geLfgTffZNI8SeFJNXa+v9D0QWdzpsp8PTXMgbSrmPT726ijjglhtrhSLW9jubN5bZ+A+Jf8AwUD/AG4vjB8LLb4EfEX9rP4gaj4CtPD+k6Jb+Af+EpuYdCSw0yC3gsYf7OidbU+WtpbtuMe55Y/OctKzOfX/APgnt+3l4E/YO/Zx+JfiC3sPD/iH4m614g0bVvg7pmq+DJdSTwj4k0lbmCHxJcyT3MNoPKstc1X7HCYNQJvreKeZLVbWE3Z4c+At9488R6B+2L/wUx/bP+H7av4v33kPg/4x+OvFF94m1+2h062bTb3VBoumalfWemzJNZmJbiSzuL2yic2ksMbwXi+4f8Nz/sq/D34NeBf2YPDHiL4H+LfGU+oa7qvib4k+ItB8RyfCfQ725OtyQaxH4Oi0G0S48QFNUSxWW40y/srS10rSUhXY0yWXYX0/gT47+O/ip4Q+JHi7/hbfi3xr8QNDXx58VfEHiOVZvE+pSxfaNH0a9m8Hy61bzaJcXL2dtbeFPDzXepXU2i3N7JfaPb6PbQW/wh+xF8FPhn8T/wDgpJ8If2c/HWoaf4z8G+IfjhoHhvWbrSZb21tdd0yfWILWV4WkS3u4opoXYqWSGdVcErG4wPp/9p/Rv2R/2kviZoPwO+MnizT/AAf8b/H/AIP8OeJpvjj4tji0rQJtZ8SWWj+KpJtbl0+IhYprjxH4mtZJ/sWLaLTfDEYlgt4NTml+f/gB8Tvg14J+HvxZ/Yj/AGyPD+n6pokun61qngLxfofiQ3sng/xvp9hc/ZZNOnsvtNpd2OrTQWunXmwGG4jFhci4QWEMg+cK9/8ABv8AxeX/AIJx+LPAEHz6v8E/iBH42sLS2/d7tC16Oz0bWbu4aT5ZfI1Cx8JwQRRFZR/ad27JNGpe18ArsNZ+APxl0L4NaT+0RffD3UH8Ca1qDadZ+L7JBc6dHqKmbOnTzxFktb7ZA84s5ilwbdorgRmGaKR+ftvFniqz8K3vgWz8TahFomo6hbX+oaNHeutrdXVsk8dvcSRA7HliS6ukR2BZFuZgpAkbP1//AME8/j3p37Q/x9+Bv7FnxG8Oaf4XW98H+Ifg14a+J/hXS7i81ywj8V3WoLDLPbXV+thcRR3WtXltLthjk+walebG+1xWVzbeIft6/FLwJ8d/2sfFfx+8B679v/4WF9h8WeJmS1lhhtfEmqWFvf67Z26SqrrbW+rXF/bw7jIfJgjPmz/66Tx+vt//AILP/EX9o678Y+DtG/aUg/4Rz4jfEfw+/wASfjl4KTUWlubHxJfaxrK6Tb30cs81za/Y/DbaRDZ6bcyZ0+3uXCRQyXl203iH7M37Anxl/aU+Hus/HabxR4P+Hnwt8OahJp2u/FT4m+IRpmjQ6ithcX66dbhVku9Tvnhtzts9Pt7q4BlhLRqsisfb/wBrK38OfsL/ALCfhD9nP4SWHh+TV/j34fXVvHvjHVPhTqOl674h8M2eqLcaXdWV3qGp3SjRL7UIJZIDHYaPe3EWhWU91bCOeIy/GHizxZ4q8e+KtT8deOvE2oa1retahNf6zrOrXr3N1f3UzmSW4mlkJeWV3ZnZ2JZmYkkk1n0UUUUUUUUUUUV9H/8ABOL9j/4Z/tKeKvG/xR/ac8U6h4X+C/wq8Hy6x8QvFto97brDdXTrYaLp63VrpWqeRLdancWwObWVhawXsqI5g2noP+Cp/wC09P8AtDz/AAc0m/8A2t9P+Mut+F/hf9l8feM9EsNUtbXVNf8A7UvoUu5f7TsbKe7vjodt4dtZ76WEyzrp8CySzGAMOA8M/wDBOT9sLxp+zxJ+1F4O+GWn6t4Uh8H3fiyaHTPGekT6ymgWupSaZdaudGS7OpCxhvIZY5Lk23lIIndmCKXHX/8ABN3/AIKWax/wTzuvFFzZfCf/AISn+186jojW/iy80WbTtbj0PXtEtrl7mzxcNbJbeI9Rd4raS0uTNHavFeW/lOJeg+Bvg/8AYT+KOjy/tkfEL4O79P8Ah94g1PVviz+zv8OfEOqWMJ8MpZ6NZaFdWt/qpupUtrrxDeG01Ei/mvYob1JbW2VI2ePyD9pz9uL47fth+HPD+mftASeH9Y1fw94g8SarD4utvDVrZaref23qJ1S6tLiW2SNZbaPUJb66gjKDyX1O7Cny2jjj8fr2D9gPQv2cfFH7ZPw98M/taaf9r8Baj4gS11e0n8UrodnNNIjpZpf6kUdtP003Ztxe3UaNNDZm4khVpUQHr/iz45+CHhr9i/Ufhr8KPiT4Pudb+InxQ0rxp4v8H+G7HXvsvh21t9O1KLS9KsZtTt1dpbJ9S1eK/M09ysiz6MbW5uSmoOnzhXoHwL/aq/aO/Zo/tS2+BXxo8QeG9P8AEHkL4p0Gxv2OleIoYvMCW2p2D7rXU7YrNMjW11HLC6Tyo6Mkjq3H+LPE2o+NPFWp+MdYttPhu9W1Ca9uodJ0m3sLVJJXLssNraxxwW0QLELDEiRouFRVUADoP2evjX4q/Zr+Pvgf9ozwLp+n3et+APGGmeJNGtdWieS1murG6juokmWN0doi8ShgroxUkBlPI9f/AGqfA37MHxR+AXh39sr9lP4bah8O4jqFp4W+Jfw1e+m1PTNN1/7LNKt7pV5JcXF3DY3UNs0wt9UaOUTm4js5tRitbxrH5wr0D/haWj/HH9qf/hdf7Yuu+INU0/xh8QP7b+Kmp+E7Wzg1W7hu77z9Tms42VLWO5dZJ2iUqsKuVBAQYr6/8H/tPf8ABVf4z/tT+Dv+Cg0/xE8P+FdP+E/w/wBQ+LXw38P33ioaN4N8N+E9Nvm0M6LpmnW1yrWtteXenQ6CunxbJ70yxCZmSZrk/EHxS+LHxT+OPju++KXxr+JfiDxh4n1Tyv7T8R+KdZn1C/u/LiSGPzbid3kk2RRxxruY7VRVGAAK5+iiiiiiiiiiiiiv0f8Ahb/wVc+EWt/snWMn7Xl1/wALc8W2fmxeNfh18TrvVtWh8epFfvbyX7XjApp+t3Ok+IBb2uuBnvtNh+HtvbrI9vqi2qfN/hP9rH9hvwT4q0zTIv8AglX4P8VeDbLUIXvj48+KfiiXxRqFrvD3ET6jpV7p+npKQZI4ZY9KVYk8rzI7h0eSXP0T41fssab/AMJ18FfEms/tAa18EoPiBN4j+GfgCx8f2Omfbf8AX2cUupxta3VpbakbKW2dtQggnx9iltBCUvVu7H2DX/2xf2Hfi3+w7H+xpFZ/ED4Q+CdE+IHhfUrTSbeS28aavqc0Nt44k1LXXCQ6JYy3LPqugac+94ZjaWVrhp1tBGnP67+0F8ItD+Cdx/wS5/Zf+P8A4f0P4U+NfEGl+L/iF8dfHfhXVtL1LXb+HTHmh0a/tNJjvZo9Ns5pVgSz2agv9pW8t9HdLBcKsPzB8Wfhb47+B3xT8TfBT4paF/Zfifwf4gvdE8R6Z9qin+yX9pO8FxD5kLPHJsljddyMytjKkgg1z9FFdh8a/gR8TP2ePFVv4F+Lml6fp2ty6el1daNbeILK9utLYvJG1pfxWs0j6dfRvG6TWN0IrqBhiWJCRnj6K7D41/AH4y/s5+KrfwT8b/h7qHhvVbrT0vYLPUEAZoy8kTrlSQJYbiG4tZ4SRJbXVrc20yxz280Se3/8E5/F2j+L/B3xx/Y0+IXh3+0vDHxD+D+veJ7OeFLNbnRPEnhPR9R1/TNShlntZpFzFbahp0scTwmS31i4y+VQV8wUV+j/AIE13R9O/wCCVA+B37ZuofbPD/hT4f3/AI50DRrfwtZwXdjf351bT/AuhvfxvZ3a3Mt74h8SeLHtbp71ZNItbW4s4/Knvkb84KKKKKKKKKKKKKKKKKKKK/R/xBp/7Dv7VvwJ/Zc+HH7Vep/8IL8XfHfwfisdP+N17fW2m+HoLDSbrx5oGiWuqpa2ZaPF3p/hS1uNRmS5Y2FmcyWf2eSa5z/21f2bP2G/HPx9l8K/E3xP4P8A2K/GWl/FDXU+L3wt8X+CvFGsano1rd3VvdQS6bcaNBPpOq2KQTz/AGGKC20ZVgWGNpL1Gj1F/L/+HWnw6+IXg7/he/7Pv/BQL4f3XwpT91qXjf4peEvEPhP+xryPR/7RudMut1hdWN1qSOPs6adpV7qV5ceZHPFC0Amkg9A/Y41D/gn34Y8R+A/2YP2d9M8QeNPj7r/xAvVs/jybG40T7HN/ZyQ6ZoPhaKe8nhiudQ1RDb2viTU7G3m0v7fDemzimt0e00PjF4i/Zg/aA/YC8feNtF8XeD0XwN8L/Cz+G/BVp4dm8vwl4ovdc0+NdK0fWp9HsbkxLpyeJJZ9Cnub5HkabVlvdau31G9sPgC28J+Krzwre+OrPwzqEuiadqFtYahrMdk7WtrdXKTyW9vJKBsSWVLW6dEYhnW2mKgiNsaHwn+KXjv4HfFPw18a/hbrv9l+J/B/iCy1vw5qf2WKf7Jf2k6T283lzK8cmyWNG2urK2MMCCRXQftCftL/ABT/AGm9Y0HW/ipq32ufw74f/sqxleee4mm8y8utQvLu4uLmSWe5ubvUb/UL6aSWRv317IsYihSGCLsP+Cdfizwr4Y/aq0/R/GPibT9DtPGfg/xX4Hh17Wr1LbTtJuvEPhzUtCtb6+ncgQWMFxqMU1zMNzR28crqkjKEbr/+CoXjDw58WfHfgT4x+IPjF4g134u33w/0/wAPfH3wz408Pajp+t+HvFWhRLozrcrdiRZfOtLOzdpvtU08tyl5LPDYeZHaR+Ifs9fEfwr8HPj74H+Lvjr4Y6f420Twr4w0zWNZ8GasUFrr9rbXUc0unzeZFKnlTojRNujkXbIco4+U/X//AAWk+MfxlttR8O/sv/FT9rbUPG/jLTNQm8RftF6FJfCWM/Eu6t4Gu7gtayz2MkVhp81j4dhjgmC20nh/UFS0s0nDXXwhRRRX1f8At6fGv4BeK/2UfgH8GPhRp+n6f4l0jT5/Enj3RPD0VrJpmk3V54d8LaPEgu7Z9l1fXaeGzrF2PLVrafWjazNJdW90V+UKKKKKKKKKKKKKKK/R/wDar8HfDr9s34L6L+2XZ/syfB/9n74d+MPD76WvxI8ReAPEOj6VoGu/8Jl4rubPRNIHhnTlttbuTodva29xfyafdRKmnqsk9rduqyc/+1f43/4J9+O/GPwettT/AGkPEHxB8MfDD4f2XgD4fS+MGuJI/FdpZ6xqMkmt+IXsXa/8NaIlxfypZ6PbR3mryaXpSof7NNzZXbe//tPfsI/AnU7H4j/BL9j3wv8AD/8AZu8QfD74geFfDusfFfxN4/utK8PeJP7S8Li28U+HZ9YvrzVrew1LS7nUrz7To9lrDfa7CW6je31KXTYZW8wPx6/4Jj/s0+NPit+0T+xF8edPt/jFH4P1PT/hpqlxbeIfD3h3wja6ho0Vmln4aTTtJa/1vV7S1OoWH9s63Joyy3M8F/Jb3EpmnXx//glN8Mf2JfiF8QvA/h343+INP13W/EvjC80vxv8ADDxB4bu7qPXPDq3/AIXa3j0q5svJu7PV2hl8R3UP2O4e5u5NGt9NS3lOpi2vfYP2A/8AgozPB8GvgH+ypoPiLxhP4i8GahrVnoNh8N9W1Sw12zgvjr0GqR2drdaxHo91q9xpvia6m0bUraJdSGp6XHpj2VxDc29xLofFP4Q/CyTwcP2SPghd/wDC/P8Aha3xA1W5+I37UfxR+E0HhjUdHudW0fQNe0bWm1K9Ooa3p2mwRWerajdXd3Db2+oadLrTW/meQ9/bfEHj/wDYp+Kfgf4E6J+0Rp+v+H/EXh/WfD9trskWgXU7XmnaVPdNp639zbzwxOlsurQX2kvMoZI7yzUMwiv9Lnv/AB+vf/2sv2hP2cf2pPhZ4Q+Kv/CB+IPDfx9tdul/FK9tAt1oXjqGKBRF4llmmuDdW2tzMu2+Ty5Yb2Ute+ZDNJNHLof8En/Fnwz+Ff7bXhz4/wDxb8TeD9I0r4a6fqPijTNQ8c3t6unQa/bWko0CSW300/2hfRJrcmlvLb2SSy/Z0nkeMwRTsngHizxZ4q8e+KtT8deOvE2oa1retahNf6zrOrXr3N1f3UzmSW4mlkJeWV3ZnZ2JZmYkkk1n0UUUUUUUUUUUUUUUUUUV9P8Awq/YF/Z/v/hF8Pvi3+1B/wAFH/h/8Jv+FjeTqujeHr7wT4m1m/Tw2mrarpV/qDnT9Oktxcpc6W3kWfnATq7NJPa7EEv1B8XYPjt/wSK+FnjDx/8AsdfAb/hUfh+++IHhPTPE938R/i3a33xc1HTr2C/1mw0i/Xw7LaXHhDTbq20yCe6sgLTUXlKoL25iQpbfCH7WH7VPir9rn4hWnxB8T/Drwf4SXT9PmsNM8OeANIfTNG061e/u71Le0sPNeCyiQ3joEt1jWQobiYTXc91dXHl9aHhPxZ4q8BeKtM8deBfE2oaLrei6hDf6NrOk3r211YXULiSK4hljIeKVHVXV1IZWUEEEV9P/AAJ/a2+AWs+PtT+Mnxk8Paf4L8dyfC/4geG7y88FeDrXT9A8RLqngrXdO0930/To44tMvkvLiytCbW3FrcxTpNMtrNa3NzqP1h8MfjB+yx+27+1P8Sfh74U8Q+H9e8QfH7w/4Q1Xw58PItQsfCWhX9npV9ok9v8ABo3M3huO4025ittPnsrbVbDULazv5bLSTIvmuY0+EP2ybr4y+DPjLrGuX/xr1DxHonxR8H6VqGl+I9MtBpdl4h8NSC1nsrA2dqxtIIrCaxgsZNNt2ltNPvdFe0hZhYow8PooooooooooooorQ8M+E/FXjTUZNH8HeGdQ1a7h0+7v5rXTLJ55EtbW3kurq4KoCRFDbwyzSOflSOJ3YhVJGfRRRX1f8K/2V/8Agnpr37KOq/G3xZ+2RqF34rs9Pvbi98IRwWejT6DIvh3UPsNtJBdyS3Gsy3niQafbodKS4jt9Nimur97B7pY7T5Qoor3/APYY+F/7G2s/8JT8bf25/jP/AGR4J8I/YbD/AIQTw5pb3/irxZc6l9oizpUP2u0hg+xww3F219czNbwTx2Uctterc/ZpPuDwt4d8CfsgfDbxx+138fPiL8QPAXxg8OfD+Dwd8J7PwHpEuh+H/hLNrnhzxdd2lhpMkhvLvUblb3SLvw/qBnitZrHU7/WZ5bq41CBtSj8v+Nn7fHwC+Fv7C2kfs+fCT4kfFDxh4i+JGn6v4q+JGuax4ztbs3+v+ItC0a31PU0u02XWmX1pquk6ppUlne2dxLf6Pq+plL+OHVopT+eFFFeofszfsh/GX9rHUdZsfhZZaekWi6fJJJeaxfi2jvtRa3uJbHRLMEF73V9Qe2kgstPgV7i5kVyqCKGeWLQuP2Lfi74H1j4Oar8cNH/4RzwT8avst14S8c2Or6Te2FzYNeLa3Tpcvfw2MVzauSJ7W7u7VrZtoumtVbePs/8AbxstOg/ZHvfAHx2+KHg/xBbabqFxqOreKPDGgXF/4ij+JccUVtDqMuovYwQ6jpHi3RhZatDeb7Nbu20n7YZNQ1HTL067+aFFFFFdh8d/gD8Zf2YviZdfBn4//D3UPCniuw0/T73UPD+rIEurOO9soL63WaMEmGU29zCzQviSJmMcio6si8fRRXYfs9az8GvDnx98D+If2jPCeoa/8PbDxhplx470LSZCl1qOjJdRte20LLLCVlktxKikSxkMw+dPvD6P/au+FH7J3x/8Oaz8Tf2NPHPh/wAP6f8AC77doWqaPP4Jv9A0LxEg1HWLzTrvRtRvZryZ7m70u1nu3sdfvY74ywPaWEl6i29jafMHwt+E/wAU/jj47sfhb8FPhp4g8YeJ9U83+zPDnhbRp9Qv7vy4nmk8q3gR5JNkUckjbVO1UZjgAmvf7P8A4JG/tY+F/wCzb79qPVPh/wDALT9R8P3ut7/jj8QLDQ9VhsLb7UvnHQN8muy+dNZywQLDp8jTOU2BkbeOw/aN/wCCX3wQ/Yd07wrL+2f+0x8UNIu/Fun3L2UHhL9l7Xo447q2uGWeIP4sl8PG4iFvNp8iy26ysJJ7iOWOFYrea85+z/aw/wCCen7PGo/ETUf2N/2Rvihea3r/AIP8QeEPB3i/4vfF2zvI9L07VreXTrnUW0rS9Is/9OfTLi6iSN72e3gkui5FwYkJ+UKKK6DwV8J/in8SvJ/4V18NPEGv/afEGn6Fb/2Jo0915uq33nfYbBfKRt1zcfZ7jyYR88vkSbFbY2Ofor3C4+Enwa8af8E9H/aJ8NR6hpHjvwB8UNO8IeLbCO2Mmna/p2sWeq6hp2oiWS5d4b6B9J1C1mjSJLd7c6eyhZkupLjw+ivQPil8Uv2jrjR774bfGTXfEC/8JH4gi8c65H4gtWS/16/v7NJrbVb2eVRcX++2uWntpJ3kVF1G5lg2/bp3m8/oor6P8Cax+x78T/2G/HPgW8/ZP1DRfil8O/B9jr+n/FvQvEWr3ra7dP4oisri11OyKS2NjYnT9WtUilUWzLdaVGGuJm1BbYaHw/8A28fhZ4W/Yd8Mfs8eO/2bPD/jHxp8P/iBrHiH4Za9qGkwWthoX2+2s47htUt03x+KPNlt4pUhvYo/szaXaRyzahYzS6bH9Ifsk/BXW/2ov2UdR+AP7SfxJ+F/iTx38WPGGs3/AMI5J/jL4a1TxRqOv+IPDsurvcXJfUJ5tOvp9Z8H+FNL33aW8pTxHqlrITNdRPa6H/BPT9rnx3+3/wCHLn9kz46eEPEHxEg0b9n+18A+Ifhr4R1+LS9R8Z+B9E1Ealp9zoVurxx3Xi7QpXkura3ljuI9T06K8hZYJo5ZNR/MCiiivq//AIJ5fB74Z/Df4e+Lf+Cm/wC1L4N0/XPh78LtQTRPBHgzxF4TvdQ07x/49u7C8m0rS5vKkggNjaGBdQv1kn5t4obfyZvtqrXzh8Wfil47+OPxT8TfGv4pa7/anifxh4gvdb8R6n9lig+1393O89xN5cKpHHvlkdtqKqrnCgAAVz9FFFeofs8ftoftP/sqaj9s+Bvxf1DS7R9P1ewu/D19BDqWjX1rqtvBbalb3OmXqS2d1FcxWtosqTQurmztmILQRFPs/wCD/wC0f+zF+0vo/j3wP+zP8Lvh/wDD3423+zxL8P8AT/FvwE8K69onjGaSzF7qngjT7O40y8fT7mPVp9U/sOVWkmvbaaz0u6ffb6d5XyBoX7ev7WPg7R7fRvhx8Vv+EO+wfEDVPGmjah4E0Kw0G/0bV9Ss0sr9rC80+CG40+2ntoooXsraSO0KwxDyf3aY8v8AFnizxV498Van468deJtQ1rW9a1Ca/wBZ1nVr17m6v7qZzJLcTSyEvLK7szs7EszMSSSaz6KK9A/Zo039ljUfinaf8Ni+MviBo3gmDy5r7/hWfhmx1LVb7bPFvtY/t17aw2u+Ez4uT5/lusebeVWbb9P/ABS/4K2fCzWfAl9ov7PX7KfiD4U6hpvlH4XaL4W+J0H/AAifgm8glSC38QRaSNJSbUPEg0sSWja9e3s14J7hryFrd4LKO0+IK7D4KfDTwX8VPFVx4e8dftC+D/hraQ6e9xHrvjWy1me1nkDxqLZF0jT76cSsHZwWiWPbE+XDFFf7f/Z3+BP7I/7KfiDQvgt8aPjhp/jHw1+0jp+jeDvEvxP8NtFP4IGjXviDQ9QvGttTe+srvQtX0WG2sb+X+07SY+deR291pcNrHHeaj+eFdB8J/H//AAqj4p+Gvil/whXh/wAS/wDCNeILLVf+Ec8Wab9s0rVfs86TfZL233L59tLs8uWPcN6My5Gc16h8ONNg/a3+Pvif9qP9sf4t6faeGpPGA8SfGTV7bXtL0/X9WW+upbi6TRdMYB7y+uHEscYgtntbaWeF7trW13zJ7/8A8FDf2Hv2YP2G/wBnjwl8Mfiv4S8YeG/jfZeD3tbu1OgTWdxrnig6lZ3WpXd+t7qEkf8Awj9nY3MmkabfaZbBNV1DTdTnMv2e3iM/whX0f+wl+294V/Yn+Gfxo1jwl4H1Cy+NHirwfZ6T8Hvi5pNwhuvBDSXqJrCwpJ/x7y3mmSXMK6hD/pVs0YSEoLmWWPoND/4LBftP/Bf4y6H+0N+xKdP+A3is+D7LS/iNbfDK0htPDvjTU7QXlvFq9xoBiOmwymzuY1aBIDAtyk13EkLzlU+cPhbqXws0jx3Y6h8a/BviDxB4Yj83+09I8LeJoNHv7jMTiPyryeyvY4dspjZt1vJuVWQbCwdf0f8A2Bvhj8F/jz+1/wDAX9rj9hT4Wf8ACJaN4Q8QeEvCX7RXhPw3q3jLQJtJvPEWtS6PJq+n6mmr3MkVs0Wq2ljAi6ul5czWVxO+mrZi5UfJ/wDwT9+AP7XCftoJffAD4e6fP8YvgVqA8baf8LvF6S22p65qOg6jbTXGkW1gTHPd30QSaeSxRo7hoLK6EeZUWNj9pv4GfBDQvCvinxP4w/tD4E/GjQdQ0xNV/Zj134Xa9YWsdrcIw83TNR1DUNQu3lEItL2WLU1s1K3sn2eSURxxv84UVoeE9G07xH4q0zw9rHizT9AtL/UIbe613Vo7h7XTo3cK1zMtrFNO0UYJdhFFJIVU7EdsKfYP20viT8Grufwj+zd+zP421DxL8PfhTp+o6dp/jG70M6MvjPUbrVLq6uPEDaYZJDaSy272FgGlke4ltdHsjL5W1bW38PrQ8J+E/FXj3xVpngXwL4Z1DWtb1rUIbDRtG0mye5ur+6mcRxW8MUYLyyu7KiooLMzAAEmvq/8A4J4fsuftT6Hj9pfUvA3w/wBJ+DfiX4f+Lv8AhJtb+O+p31n4Q13QtP8AsVre+fDp0q6jfeVqepaOln9iR5f7WW1MGZrOQw+oeLP2eP8Agnp/wTx8Van+2p4kGn/FHQdQ1CZf2XvgZ4h8XWfiBvEUlo5tLnX/ABVc6dDBbHSLTUYLu3Wztt8ep3VpLDBc3WnwtqF383/tifHT4E/tN/Cz4b/GrT/C39i/G2T+0dF+NP2S+up7bxR9jg07+zvFMv2hDs1K/wDOvkvis8vn3Fg12yQvdt5ngFegfAv9mL4u/tFf2pc/Dq08P2un6J5C6rr3jHxtpPhzSreafzDBbNf6tc21r9plWG4eO2EhmkS1uHRGSCVk+n/F3/BJP4WfD/8AZx079rnxj+1Z4gh8BW+1PEktn8MYJ9XvfMWzEV7oul/2sLqTTS2oabM15rq6Bm01jSZoo55dRt7VvlD413PwCl8VW9n+zno3jCDRLLT0trrUPGup2st1rF0jyBr9Le1hRNNilTymFiZr1oG3r9suBhhx9FFFFFFfR/7b3hPxVoP7N37Kd1rnhnULKKD4H31hPJd2TxrHdSeL/EGrpbsWAxK2mazpF+EPzG11WynA8q5hd/IPgD4r+DXgb4y+HvGP7Qfwh1Dx/wCDdM1AXGu+C9M8VHRJNZjUErbG9WCd4ImfYJDGnmNHvWN4XZZU0P2sfjp/w1B+1P8AEv8AaX/4Rb+w/wDhYnxA1nxP/Yn277T/AGf9vvprr7P52yPzfL83Zv2Ju252rnA+r/2HfG37F/xu/Z48b+DPjJofwv8Ahv8AEuz8H2vhd/iHqfhvTrmO68N3OpaP9u8QjT9SuIrUavpGlaZf28a6REdX1WTXkljjNzbXV7J8IUUUV0Hwn+Fvjv44/FPw18FPhboX9qeJ/GHiCy0Tw5pn2qKD7Xf3c6QW8PmTMkce+WRF3OyqucsQATX6Xx/Dz9mDwr8AtB0L9iL4xeD/AB3pPjHUNX8O6V4dg+Bs2m3XxV1PQbVxqujakNUv59Qll1Q3/hHULCCx1SzgjZbma00+DXrXTra4+L/+CgfgDw5+x9/wUE+LPwl/Zx8a/wBmaf4f8QapockPhbUtREOj/abd7bVfD8V1drFdX1tatPeaU11KifboYGlaNUuDGPcP+CqP7Neo+C/2dPhl8ffiT4b8Hx+NH0/w14D1DUfCHxJt5Ve30nwZostv9p0oPex30stjeaZLHrOkanJp72ptRcWVhe3LRH4Qoooor6//AOCX/wCz/wCHP2vN/wAE/h7L/wAK9+K3hT4gaL46t/j5bXuowf8ACJeDbPzY9duriYXkdjafYHk0/VIJ5RaFvst3CL3z5bG1m7D/AIKZ/tV6j4og+HPiHQPH+oM1lp/hXWNL0L4h+C7e98SePJLbSwz+MPGrXl7qIuZbi4nlTStOu5byNNInbZFZ2lxA2qZ/wX+D/wAXf+C0ej+NfG3xh+PX2b4reG/+ER8F/A+y1OLSdG8J6i7WerG18GW8MAgh0e5uIdOkk0/yYY7Fp7a4gnaKe/t5G+IKK/Q/9jD9pvwr8Jf+CY9/efAv4pahL8UvgnqHiL4rxaLrfhlJdM8Oa/c+Ifh54f0jVYre5aex1WVNPn1pYJriES2k91OyRRtHb3cuh+y1/wAN9fBD9uz4u/8ABKX4i/8ACQeJfib4v8QeJbe4+1f2rff8JRqsml3v26xuPN8m4l0TxNbfZ1u70vZOnlaNrL3cK6Qu75Q/4KBfsh6j+xx8fX8IWdlqEPhTxPp58Q/D5ddv7ebV4dGlurm3Sz1aOAKLTV7O4tbrT7+1ZEMN9Y3SKCgR38Pooooor0D9lX9njx3+1l+0d4L/AGcfht4W8Qazq/i/xBb2Edl4W0mK+v1hZszzxQzT28LeVCsszGaeCFViZpZoY1eRfX/+CoHx0+Fms/FNP2M/2VvC3h/Svgl8CvEGtaL8P7zRr6DUrnxZcvPFBfeKb/U40X+0LnUfsNrIpQLbwW8NtBAipEXk+YK0PDPhPxV401GTR/B3hnUNWu4dPu7+a10yyeeRLW1t5Lq6uCqAkRQ28Ms0jn5Ujid2IVSRn16B+yd4/wDhZ8KP2p/hp8Uvjp4K/wCEl8E+GviBo2q+MfDn9mwXn9q6Vb30M13afZ7hlhn82FJI/LlYI+7axCkmtD9snxN8GvF/7Q+sa98CbbTxokmn6VHfXei6SdP07UtZj021j1fULG0McX2SxutTS9ura38m3EVvPFGLa1Ci3i8voor3D9mz9vL4y/A34t6n4x8da1qHxA8KeOvGGi618avAnijURdWvxEj0/W7fWPJ1FrqOcPLJcQMDcsjyBbi4U70nmjkP2sP+CgXx9/bm0601X9rGfT/Gvjiw1CZrP4n6m10msxaZJcXd2dGEcU6WH2Fbq+uZox9k8+EMkEcyW0UVunp/7BPhTWP20vDnx0+Evx0/aH8P6Rp/i/8AsrxR4h8c/EfWrwf2L4kTUZLXT/E1/crC7T2z3eryaLdNLNmH/hLF1JoLlNOleD5w+P3wB+Mv7LXxl8Q/s+ftB/D3UPCvjLwrqBstd0LU0Akt5MBlYMpKSxOjJJHNGzRyxyJJGzo6sePr3D9nTwN8M9L/AGX/AI2ftGfFj4baf4pi0rT9H8F+B7W7vr2JtL8Ua1NcXVvqrLa3Fv5kUGmaLrYAkeVPtU1kHtp4jKY/D69g/YW/Zd0f9tH9o7Rv2X5PiV/wi3iDxlnTvA17dWtm1hc63Iyi2tr6a6vbX7LbPl8ywC7uSwjit7O6llSM/f8A+z/+0P8As4/Cz9jb4YfCe58U/wDCT+D9F8QeL/D/AIP8K6vqy6D8OPi/8QbR9H1cax4vhaC3uv7Ntm1HS7OxGoSyx3q2Fm16PDlul4JfgD9tb4S/8Kk+KenweI/2qfD/AMWvG3iTw/F4i+JeteGdd/tm20zXb6eeeWwfVlkkh1e5WFraa4uoHeIXFzNCJJWgaR+//Zo+E/xT+KH7AvxG8AfCb4aeIPH3iDxz8YPCeneGfBfhXRp9VuVubDSvEN7cal5FgjXEFzFbO8FutwRb3Vveau8cFzLprXGnH7VP7CHjHRvgTY/tt/CH4PeINJ8JS+INW8O/FrwSnh/WJP8AhUXirT7q1guNJvrm7g/dW0/26yls/PledPtD2U0k9xZyXNx8wV9n/C79mvTvGH7EvwL/AGcbLw3p9r8SP2p/jheDwlq8vxJuIY7eytLvS9D0a+1LS4HuIjYm8vPF9usj2kd75kTPDOYI5ra7z/2qf+Ck+sWXxs/au0P9klfD9n4f+P3xg8R32p/FWx0u8g8Sa14TutTuLiPREmnkH2LTbndFPPDHBDPcELFcSPEggHYeOdZ1H9v7/gm34k+L8vhPULzxX8O/GEGq+ONXtpLeOw0bUZNHtrS41i/ubqW3Ly+JrfSo5JpZJL64/tvwzsjVX8UxQxfCFFFFFfR/7HH7B/hX9of4S+Kv2gvjd8atQ+GfgTwnqE0Fx4nufCKXFrqjQaJqmpT2Nhc3l7ZWl3q5mttKtotJS4+1Trq/2hVENnOw9g8XfGf4GfDz/gnp8VfEP/BMTxP8UPAGiXXxQt/AXxBsviFp3hjUdZ8U+Gtbs7u8simu2Gm2uoadE58NzpeaMss9o4njxNIGnWT4Qor3/wD4JceK/wDhEv27PA0v9q/Zv7X/ALT0Lyv7P+1/b/7S0u70/wCwfZ/7A1/7R9q+1fZfJ/su7837Rs2xbvPi9Q/ab/4Jm/tP/Fb9vPxT8LPgt8F/B+lXOpahpj6do0evw+GLWK61ItHY6fJF4hh0d7PV7x4LiZNM+w2DXCpNcadp8WnfZ9vxhRX1f+z7+w7+yj8Xv2R/E3xn8W/tj6f4f8V6b4PvtasNNutX8O2sdtqenxa3LL4en0/UNXtdUvJb2ODQHtNQ0+2uoFk1G4tnid4JHi+UKKK0PCdt4VvPFWmWfjrWdQ07RJdQhTWdQ0nTEvbq1tS4EssNvJNAk8qpuZYmmiV2AUyIDuH6H+CfEHx2t/htcn/gk98H/EHxB129/wCEVufEi/D74B2viLSJNKs/DniLwzFc6nZ+bdrpGpX1pqOowalpF9ZXiXV3Fc6ja6jJa3Nur/GHxp/aN0743fBr4a+CfEPwq0+38ZeANPvNH1H4jQ6lcSXvifRgYTpVpexSsyGXT0FxawzoQTZGyttipYxFug8Lfsh6jqn7L/xx+IniKy1DSfiF8FPGHhu38Q+DNWv7ewurHRrqbUtP1O5msLkLdSS22q/2FaMIuYG1AiVPmDR9/wDto+Kfhn8HP2Ufhr+x94B8Aaf4d8Zatp+g+OfjJceHrW9bTNfW58O2d54XmE+oajdytfQ2et6s939nh0+18/UTEkEyWsM5+UKK9g+N37fn7ZP7Sfg7V/AHx6/aE8QeLNI13xBo2u6vaa3Mk32rVdL0f+xrO/Ziu77T/Z+2CaYHfdeXG9w00kaOvX/DPxNqPh7/AIJc/FK++Hltp+jXd78UPD3hX4j6jJpNveXXijRtSgutW02yjnmjMmlxWN94VmncWrKb5tShE526fCrn7EH7b3hX9mL4X/Ej4ReMfA+oX9p480/Unh1bTLhDJZ3TeCPGXh21iMD7Q8T3HimKWSUSBoo7R9sczOFUtf8Agrb/AMFC5fiF4K+J/ir9qPxhrWt+CNPl0q21yXxHeWGs6xo01+l/No+pa1p01tq19YtOuVilvCYAzfZ2gJyMDwn4f+N//BSP4+6ZoUq/C/wrLb6fDDrfilPDGg+BvC/hvTPtQjOparJp1ra2kESzXccRuJEaeV5be2j86V7eFvs/9rXxl8LPgt8RZP2HL/4lfED4x/FbSfiBc+JfhN8QvAHw3g0fUdP1XVfD2l/8I1c+F7rQ/Fl1YyabO+leFUt7IaYHt9OmlS0+yTxQQr4f+31/wTr+K0v/AAUL+M2l/DPQPhf4P8G6l4wu/FXw0bWvit4V8MaNrHhHVry7uNGvdEkv7+2t76xa1UAGzMiQFPKkETjYOg/4JZeHNR/Y/wDj7N4v+PXxu8H+CtK1jT9V8MfGHwHf+LbfR/GnhfQY7ry5dftvttnLHa6vpOr2FrqFrpsD/wBuyXOlwPBZGCVZ20NV/wCCNmsfFf42eC9Wj/ak8PxaR8RPEGs6b4suNK+Fd5Hq+leLNM1O5TXtC03wXokM+rH7LZxJqUXn2GlwJaXdolwunSSxwV8gftIah+zjceO7PRv2VtM8Qf8ACJaR4fsbQa54vsVtNX16/wDKEt7fXdtFeXVvbZuZZoYIbeTalpb2okMtx5883n9FFfX/AOy3+wR+zj4s/b68Dfs6/tAfGTxBd+AviX/wjMvwz1nwnZLZXni6HXdV0/T4o0naK9tbG5sVvL572M/aYUvNAvtNWfzStwmh+0z8RtR/ZJ/4J6aN/wAEx9U8IeMPhf8AFu58YR+Jvj94Zl8GW9nH4q066s7e/wDD8Wpaj/ak93JLYQzLKunG1tbeOTUGMsCXdk09z8YUUV+j/wDwTv8A2r/hFp37P9/4f0HUviB8O734O/s/6pqPir4keC/ifq3hqaxv7/xNf2U1zbafpEb/APCQ3Nx/bXgvbFdz6ask3hWzguLyKyiLN8QftY+P/hZ8V/2p/iX8UvgX4K/4RrwT4l+IGs6r4O8Of2bBZ/2VpVxfTTWlp9nt2aGDyoXjj8uJiibdqkqAa8/orQ8J+E/FXj3xVpngXwL4Z1DWtb1rUIbDRtG0mye5ur+6mcRxW8MUYLyyu7KiooLMzAAEms+iug+FvxS8d/Bfx3Y/En4ba7/Z+r6f5qxyPaxXEM8MsTwz21xBMrw3VtPDJLBNbTI8M8MskUqPHI6H9D/+Csfjb4NaZ8Avht8Sf2Pv2ufB+n3fhD44a94v0D4UeDPiMb3U/hdJ4gtdMnl07SprK1t7RbHTvEHh3xB5Ulg3lrBe6TdoXXUo5n+QPFn/AAUh/ba+JnhXU/B3xw+PmofE601LT5rKKb4u6faeL7rSI5kKTNpd1rUN1PpEsgKl5rF4JGaGBixaCIp9n6R48/bi/wCCh3/BOOx+BeheO/EE8/xJ+IFrrnxC1G7+IVzH4N8J+E/DcemaVda1qUH74Jc3ut+IH17XHaRp0NpbavPZpDcw3TfGH/BS/wCP2nftS/8ABQv42ftB+HviFqHirRPFXxQ1u98L67qb3BkuNG+2SrpyhbkCWKJLNbeOOF1UxRxpHtQIFHh9FaHhnwn4q8aajJo/g7wzqGrXcOn3d/Na6ZZPPIlra28l1dXBVASIobeGWaRz8qRxO7EKpI0PEn/C0/hr/b/wL8Xf8JBoH2bxAn/CU+DtS8+18rVbH7Tbp9qtH27bm3+0XkQ8xd8XnzqNu9wfUP2RNY8K/DDwr47+M/xv/ZP0/wCKfwtu9Pg8D+KFfxEmlanoWp6olzfaXfaVd7JntL5H0S4cTG2uIGgjuLaZNt0AfH9G8J+KvEenatrHh7wzqF/aaBp63+u3VlZPLHp1q1xDarcTsoIhiNxc28Id8KZJ4kzudQfQPhj+1h8Qvgr8GtQ+F3wg0nT/AAvrep+MNN127+J2g3l/aeJfLsD51ppiXMd0IorFLxYb/YkKyPd2lpM8rG0txF9f/s7L408cfsv/AA9/b2b4j/C+L4n/AAD+KHib4kat4s8aaho0d14kuHm07VdC0vXLtbu31LUr6+vNB8YG3gJu9Q3Lbh0trK9gvYz9qv8AZy+Bnw11Hwb+0D8Zfir4w8Pal4g8YX2hfCjxR4x03wx4p06w0bwvb6RZ+HrLXtG0tZobixl0a50O8fWIpLo3duZDFo1/b3FrqF97/J+zR+2FpX7bX7RPx4/ZZ/a11Arr/jDXtV+Lvww+E2laR4+vfG+galaaPJp+vWXhFr8wa9pGqnxdeXMNvd+bFpVlFKst9dXaIJ+Q+AHiHw54r/Zn/aS+Hn7IXhnxB8NvhSPECanoPx28HaFqOheGbTxloOtaanhWdda1PV4760ttUS+ijk0vVbm/GjXtzb6xG8EBuvsP5wftCftVftHftZaxoPib9pn40eIPHer+GvD/APYmk634pv2vL9bAXl1eCGW5kzNcbZry4KtK7sqssYIjjjRef+Fvwt8d/Gjx3Y/Db4baF/aGr6h5rRxvdRW8MEMUTzT3NxPMyQ2ttBDHLPNczOkMEMUksrpHG7j2/wAJ/wDBN/UfH/irTPB3gr9t39nC5uxqENl40m1b4u2+iWvhGR3CM011qsdrBq8UZE5abQ31SPbbllZ1mtjOeE/B3/BNv4aeKtM1y6/bT+KGp634f1CGeSfSf2YdH1nQLu6gcMWhTV/Eds99Ys65Vb2xgaaIgT2sZZ4V/Q/wp8Ff2Bf+Ectf2sn0bxBe/BL4feH7jV/hb8RLrwBpXiPSvh/4N8Z6j4k0bT9D8SeGtauhPfXPh/xZ/aV5HeWh1Y3qLIJBsNoYfgD9qr/gnn8RfC/jvxp46+CmjeH7jwfafaNZ0zw0njTw9D4gh0oRfapLi38PweIdW1KXTYoPMuYb1ZrtJtMjj1EztbyGYfMFFFe//tV/tCfs4+I/gn8OfgD+x54D8QeGPD9p4f0zW/iwuvhVm1zxwumQWF3NG8dxL9o02L7PNcWSzgSW82t6uEEUVysKeAUUV9f/APBLD4W6x8NrrxT/AMFGvjDoXh+H4JfDvw/rvh3xOvjC6vLaHx3f6vod7Yf8Ifpb2bLcNqV5bXkmbiHcumwsb6cMkaQz/IFFFaHhPwn4q8e+KtM8C+BfDOoa1retahDYaNo2k2T3N1f3UziOK3hijBeWV3ZUVFBZmYAAk19X/Hr4W/s4/wDBMrR3+BvibQvD/wAWv2jb7w/rGlfFC21G6W+8J/C976za1XT7MWzL/aXiSz3ySSXhmexsZyIo4Lm4g+0wfQH7I13o/wAO9H8C/sVfDH4P+INaudS+D+s+PdJ/aOtns7iw8Ba34ls/CrjxPG0mnTromm6BqGg/2NqGqxztc2rDVLmGazuYI7RPiD9oX9k3/hnf4WeEvHOt/F7w/q+r+LfEGtRWfhzS5NtzHoVtBpk2ma9JbztHfWltqiX08tpHe2lrLJb2yXCq8dwhXf8A+CgP7NHws/Z81j4WeMvgppPxA0fwx8W/g/pvjjTPDPxOgg/tfRvOvL6wkha4gjhjv7aWXT5Lu1u1t7fzrS8t2MSnLN4BXqH7Ifx3/af+APxlg1j9jnVNQsviF4l0+fwvoV14f8Pw32shtRAtWj0tmhkntL6UOYY7iz8u6AlZI5F8xg30/d+OYP2vf+C+/wAHtf8Ajl8SdP8Ai/d+LPih8L9M+JeqanY6Xc6dq+prBolnrNgEsLeOwu7GK6S7s45IUkguLeFHEtysnny+ofDv/gnJ8bNV/ZY+Ivwn/av8TeINL+KHxf8AiBpGteNvFfxcg1PRvBvwhv7SxbVrbV/FviWeykWTW9StNdks4NNWVliOubr0i9NtBb/P/wC1N8Qv2WPi3/wr7/gnv+wr4w/sbwT4L+122p/FLx7LY6BZ/FPXV+0zWur3sUVik1j++urywsX1S8nis7O6g82TTlbUJpD9g39gj4RfFfR/iyv7Zfxk8P8AwhufDPiCw+HtlH8SbLVtOfSvFmp2euTae0s9vFKun+TqGhR214L+3MCWN3qD+Zb3MFs9egfsffD347fsY+BNQ8K/Enwf/wAIF8RpfjB4F+Kv7PuqfEiK1sfA/wAQbnwrLqa3VpH4huL61sGtmt9divoryG5e3uY7byophJd2hk9A/bI/ah1j4g/HbwD8Sv2c/wBqnxB8IfiN8af+EX8N/G3SfGvxAvL7wD4kh0+1j8MjUZLqaC7s9a0S3vtJ1lLuW9vtYhubW9tpBLPJLqlpY9h4L+E2o/Av9of4oeKfhL4o1Dw3+0R8I9Qk8e/FzwT8XPhbb+INZ1HQvD+mm5vNftPEGp6LrkXh7xBfXlndat5izXGmSDxPoyW9/cyWpif0/wAB+Gfgn4U/ad0LwJrHjHw/dfGf4YftP+Hr/XNLj+LWmeIofEGpS+KvO1PT/Dlrq1rYavFqV9rWnSWNxqOqPdalBDp3h6KbUJtD1C61S0/LH/goPqX7aHif9odfHX7e3wk8YeEfiFq3g/QYbmPxzoOo2Go6ta6fptvpEOpSjUSZ55ZxpxeW4JKyXHnkbfuLz/7M37S2nfsz6jrPiWH9mn4X+PdbvtPkt9C1X4m6BcavH4eke3uIGubfT2uV0+6lxOJFGoWt3GklvC6opVt3r/gD/gqZ8b9d+IXgOL4ifDv9nC/Wy1C1h8X+KviZ+zroOtSeJ2a/eafUvEF9/Ztxql5K8cojuLi1YXU0cHmDzLt5J5fEP2qvgX/wzR+0d40+BVt4p/4SDT/DfiC4ttB8UpY/Z4fEWlFt9hq9ugeRTbXto8F3C6SSI8NxG6SSIyu33/8A8E9fiv4j+Gl18O/BPjrUvh/f+J/H3h/T4/gD4e8H/DjTtBTxx9o0PxTp1lBqmsaVp9hq32mz8aaZ4ethPc38Gy+thqcc0gtrbVIe/tfGvxT+Lf7LHiG11m93WWkfD/Wfiv8AtWfCfR9fnvbzU7bxvY2+maLrOn6J5TJrv/CP6TaeHvE817qV/JcG81EyXV/BetNMn5g/tY/Av/hl/wDan+Jf7NH/AAlP9uf8K7+IGs+GP7b+w/Zv7Q+wX01r9o8nfJ5XmeVv2b327sbmxk+f0UUV2HwB+BHxM/ad+Mvh74AfBnS9Pv8AxX4r1AWHh/T9T8QWWlx3l0wJjtxcX00MCyyEbI0Zw0sjJGgZ3RW9v+HX/BJL9qfxfrD6b40ufD/hOC3+z22qXJe+8TzaJqtzeW9laaLq1h4VtdVv9D1K4uJzDFaalbWryTW88A/fRNFX0B4//wCCbvxi+H3wJ0T/AIJ2NbfGC98W+L/EFt4y0Uv4W8X2nhWW8s7ptO1CSx0PVNN03UL+5Gm6ra3N41hpeqXlnBoSPE81vqN4mk/GH7Yf7KfxM/Yw+PuvfAX4reH9Q0rUtK1C6S3sNc+xRamtql1NBBLeWtnd3SWUsyQidIvOkV4JoJ4ZJ7eeC4l8vor3/wDYkvP2yfgf4c8dft6/sdeI/wCw734N/wBiSeIvEcOiJPc6RbX+opDDPDcXFtJbxeZcxQWksAlS4ure9uIhDcWR1IR9h/wUu+HHhX4BeFfhf+zR8Rvidp/jP4/+BdPvrH4w6logSe18N2oSyi0fwlLqEcrJqt9paQ3kc86qy263MGnJPNFpsSQfQH7Hvib4e/tHf8E4PCX7KnxTttQ8WRX2oah4I8HaP4Z0mwt9ZPi678W+HNT0DQTdSRtb2EU9rP4uNjruoyF4RrHieCK0liszFqPy/wD8Fc/E2o+NP+CivxM8Yi20+Hw7q2oWV78NIdJ0m3sLVPBEun2z+F1htbeONbaIaC2lhYWRJkXCzKswkA8g+OHxr8VfH7xpZeOvGOn6fbXdh4P8PeG4Y9MidIza6No1lpFq5Du581rexieQghTIzlVRSEXj6/Q//gjZ8HNR+E/hXWP2wPHX7JPjCfxXquoWWh/sd/EiSxtzpmo/Eu+TVNL0vTY7bVIvsF9El1I2pvfM6rp8/hqFS++5S3n9A/Z//Y0+DX7Mv7EvjyG//aK+F9pL490/SfC37Qf7Q+u58S+EfA+nX13ZX6eDPC1tYR3KeKvFJSGDUbq6tw9vpqWUaQ3FvLm+Hx/+1Z+294V8Sz6h8Cf2I/A+ofDv4G23g/8A4RLT/DWsXCXmp+IrX+1LLVLjWtXkO6JdXvbzTdOlmktBGscGn2VkjPb2q7/MP2XP2b/Hf7W/x20L4A/DrWPD+l6hrX2qa41vxZrcWm6VpFhaWst5fahe3Mp2w21taW9xcSsAzbIWCI7lUb7f/b2+Fn7LH7S3hL4kftN/B79l74wX/j3xz/wkXxiT4gWfiexk0i3ttZ8W30lpol1YiF4rj7N4e03UL+RtNvbi4truHV47pPK0m9Gnef2fj3WP+Chv7IGqeI/j1pP/AAivgn9nX/hDoNd1z4b/AA5vNWv7Wwm0UeGjqsj32tWti9zcvo3hGyls/MRpFt/tdnFCttqn2r2Dx/8Atg/F3/gmr+31ongD9sf9oPxB8efBdh9ml1fwVe+JNJvP+EYmk1VtM8Tx6r4fsdR1HRJtbvdKTxHZ3Ect1LNN/wAJIdQuZ476WVU8P+Gn7dfwCt/GnxCXxDpWoHQdc/Ywg+GOhaf4l021njv9fg0bTC0moXDW19dSRRarZ3F1psqFZYZLTRLTztP0+BltfqD9lf4nfD2+8VfCf4p+N/D+oeNPDv7a2n6f4U+MnhqPxJYTWuk6z4TeyS61iSzb7VJ4h8Uz31vp/iNLS9sGF2utTackGszaw8kPxf8AsN+Dfin/AMFMf2sfh3+x18a/ix4g1DwxqnxA8Q+NvFV8ltPqGtzedYQX3iK7t3htLu8v9SubHQ4xDE0c/mXKRgIDNKzaHj39g/4BJ+zJc/Hj4YfGrxhJd2HwPHxEs7DXvCNqkeuWp+Jd/wCDyHaK9Y6VKtuNLufIH29Xka7X7QirFu8A/Z6+Cnir9pT4++B/2c/Auoafaa34/wDGGmeG9GutWleO1hur66jtYnmaNHdYg8qliqOwUEhWPB9A/a8+J/xM0bUZ/wBkHxf4r0/xNafDfUINJbxHrPwmstH8RG60+3NlJZSX9xarrUljbN5trbW99KjLbWtoHtLNoUtbf0/4i/EXx3+zr4c/ZA/bf0GDw/4l8YeCPLB8QnUYryzuL/QtRtdV03RdRFvO011c2el6joyyTrPGsdndWOlLFbXGjXRf6Q/aR+B/wz/YV/Z48Svb/GXULnRtO0/4iaH8BfG134EvdT1m30jWdSm02z0d5XNvp9zpGuaIL3VdN1uKQ2KC58Xm2s7m/EM1t5f+2L+yN4E+Pn7OMP7YPhnxf4gsfitfeH28W3PhLxboEp1Txp4bCwPcXE91bp5N34k06GaPUr6URWw1PQL7TPEEkUM89/5nwBRXqHwU/Y2/aH+P3hW4+IfgXwdp9h4UttQfTpPG/jXxTpvhrQDqKpHKdOTVdXuLazkvvKkWYWazG4MQeURlEdl8vor3D4Lft5fGX4M6d8StUsNa1C88ZfEfULPUNU8eXOoifUb2SO4mkvbDVPtUc6azpGoJdTm+024Hl3dxb2EszOls8Fx9P/s0/BX9uT9knTviX8Jrj4k+D/jH+zOmn6g/x68G/Br4y+F/Gkdx4Xe4tbS88Waboaag89vfWoSyvLXUpbWF7SS2tmudkCzRH5v/AG2/jd8U/GnhzwL8BfF3i3/hO/BPwy/tvTfgj8XNX8Gz6XqvirwaNRe1sk8y4/fS6bBNY3htbeQubJ7m9tg+2NYovAKK+7/+CrPj/wCDWs/s6fDqD4E/Hfwf4ptPEnjCa41eDwZqpCiy0jwZ4O0bTLaazuEi1KGx0+8i8SWWlnVohetamecvO15NdXHwhXqH7PWm+Ff2lP20PA+j/tW/FvULTRPH/wAUNMh+JPjvVteSO6htb7UY11DUpr28DosoSWaZrifeoYF33DOc/wDadbwJ/wALdmh+GP7QniD4oeH4PD+iQ6T4t8U6FLpl/wCTHpNog0+W1kubnyfsO3+z1WOeWHbZKYXMRjrz+tDwn4T8VePfFWmeBfAvhnUNa1vWtQhsNG0bSbJ7m6v7qZxHFbwxRgvLK7sqKigszMAASa/R/Q/2BPh6vw90P4WQeKNQi/Z38K+D7L4j/tkfFnwL4hsPEVlB4u06wvBbeFtJ1yZbTSbi+MGqW1vbWdm9y8d74mnWefU47KFofkD9t79t7xV+2L4q0PR9H8D6f4A+FvgDT5NJ+Efwj8PXDyaZ4S0xn3uod8PeX1w4E13qEv7+7nJdyqrFFHx/wL/Z18R/Hf8AtTULD4j/AA/8LaRoHkSa/q/jrx9p2k/ZbaTzC08FnNL9u1Ty0ikZoNOt7u44REheSWJJPo/wR+yh40/YBn/aI+I3xY+J/wAL38RfD7wf4t8AeF9J0/4qaNcXWs6zeaovg/VE/sb7Smr+Uul32t3kEkltAN1rbTvuhJil+r/+Caf/AAgmq/ssfAz4xXf7FXxg0KD4W/EC9vpLvwL8FZdf8M/Fiw12xk0LxJpM8niLUjYSXN5b6Jpunq8F1C017rr2Flo0s0aTyeQfAvTPh1+x38LNU8CftJQeH/gD8TfEfh+C7j+D/wC05+z14h1zwzf6jp8Eml6f4yjZoZri2uZLbWNd8mzmstU043theyyJbq+mwWnP/F74G/CL/goz478QWv7LF14f8H+H/DPiDTdK+GPi/wCJHibVkGpeH4IrKDWtPjvpdK/4m2m+HvtlvexXl61pqdj4dXddwXEVvFFpnH/A3/giX8ffjf8AD2w1yH4r+D9E8V32n2GtxeAI2uvFOsy6BqNhbXun6oNM8Iw6xqlrE0c4MzX9jZRQi508LNO92Y4PAP2V/jX4V+Gnx9+FGsfH/T9Q8VfC3wT8UNP8SeIfAkkSX1rd2v2qybU0jsrl1t5Jbq1soYXD7VmWGFJG2oNvQfthftCz+L/2wj8ePhF8cfGGt63o+n+GVX4mX/ibVJ9T1LX9M0iwtrvWba8vpPtyRS6haz3NqZfJligeBfJtiggiz/GH7fn7ZPjz4WeMfgj4p/aE8QT+EviF4g0/XfHWgRTJDba/qtnAsMd/drEq+fcy7IprmZ8ve3EENzdNPcRRyr5/4/8AhP8AFP4Uf2J/wtL4aeIPDX/CS+H7bXfDn9v6NPZ/2rpVxu+z39t5yL59tLsfZMmUfa21jg1z9fZ/wX8M+C/j9/wTbj/Y3+Btz8L5/jF4r+KGneKrzSrPVtZ0vUzo2g6P4xnv73XdQ1ySLw/axW1tdRPCbKaMmBnNwGlQ7fpD4zfCf4p+Dvin8PP2J/iX8NPjB4L8W/tI/B/Q/hz8fPhDb6NPrtzo1t4OnsNN0nx3pEOkpL/atsf+EeuLk2bQNcG3tNWWCdbfU7LUB83n/goh44/4J+fEzS/hB+yn+zd4P+HWt/Cj4oeHdW8T+JbbUfFh1Pxdr/huyv8AS7lr+PUrq2e1sb19R1czaellYyrBe/ZZRmNt3zB8a/Ffwa8aeKrfxD8FfhDqHgi0n09H1nQrnxUdVtU1FnkaU2DSQRz21iA0aRW9zLeXCLH+8u7hm3DP+E/h3wJ4v+Kfhrwn8UviL/wh/hjVPEFlaeI/Fv8AZEuof2JYSTolxffZYSJLnyYmeXyUIaTZtUgkV9f+C/2v/wBgXUfjZ+y18HNd8C+IE+AXw3/tSXxza+KdA0pb+w13XNTunudblltbW6XxB/ZtoNBRRd2vlagvh9Yn0+CG4e3rn/25P2df2e/h9o/xE+JHjb4j/D/T/Ht34g8PWXw40D4EePtB8V+G/FHk2c8PibWZl02VG8P21xdpbX9pbPDB5Qv2s4bIxQyS2XgH7SH7QmsftN+O7P4neLPAfh/SPEH/AAj9jY+JNW0MXnneKL+3iEcut6ibm4m83UrrAkupo/KWebfM0fmyyySH7Lmn/s46n8dtCtv2udT8QWnw5X7VL4pl8J3y2+qtDHayyJHZu9ndxm5eVY0ijljWGR3VJZ7SN3u4ew/ag/Z58VfsU/ExdY+Cv7Qen+N/AnibT72DwN8XPh/qLw2uv6ZdWSpd2Nwiv5un3ws7+OG/0m5xPAt4EkV4Z4pZuv8A2JPGHxT+NPwJ8df8E2fC3xi8Pxf8LS8QaJceBPh/448PT3VnqHiZbpI4ZdHvohJ/Y2tz/uNOWWZIrK4s727W7u7f7PbFvEPix8CPiZ8E9O8Hax8Q9L0+G08feD4PFHhS60zxBZajHeaZLcXFqJC1pNKIZVuLS5hkt5dk8MkDpJGjDFcfRRRRXoHwL/Zp+Iv7RH9qf8IB4j+H+n/2P5H2v/hOvix4e8L+Z5vmbfI/tm+tftOPKbd5O/y8pv2+Ym7n/il8LfHfwX8d33w2+JOhf2fq+n+U0kaXUVxDPDLEk0Fzbzws8N1bTwyRTw3MLvDPDLHLE7xyI5+n/hnP+0d/wUj+BPj7TvjH4u8QfEb4jXXxA+Hvh34YeOfHXiNtW1W51e8utZtbTwfBc30pksba9ivdR1NrhpUtI38PJHKPMu4HT5AroPhP4/8A+FUfFPw18Uv+EK8P+Jf+Ea8QWWq/8I54s037ZpWq/Z50m+yXtvuXz7aXZ5cse4b0ZlyM5r2/9sf/AIKYfGX9u/4SeFfh3+0Domnm78A6hCfA03hoDTtM0nTjoml6Vd2MemKjQW8Uh0XT7uOOz+y28E8+pEQOt1EtrwH7L/xx+K3wr8VN4O+FGi/C+6u/F2oWVkZvih8PfCus2sEm9kiYXXiO0mg02LMxMs2+GPaFaZtsSlPs/wDaO/4KQ/sbfB3wd4s+EP7L3g7w/wCNNX1bw/rng3QfF3gTwQ/hXwr4O8M3mjpp/n6HYasL2+udb1REtxrWramGvWgt5NPtLkxtDqSfGH7OX7ZP7Q/7KWneKvD3wZ8Y6fFonjnT7ay8Y+F/EnhbTde0bWo7a4W5tmudO1S3uLSWWGZN8UzRGSItJsZRI4bQ/bc/Zc/aY/ZV+Nlx4d/as8DeH/D/AIn8SfbNZax8LanotxYLjU72xuY4k0SV7O08m+sr22a0jEf2drZo/KjCha8for9L/iDov7Bnw2/ZH8A/shfGX4l6f8GbT4r6hp3jSG3tPA4+K3irwbod9FaTWuoaxqz6np1no0uoRNBcvbaFpUV/Jp2n6al4ZmIjl+EPiLefFP4gWqeCrXxH/wAJz4Y+DPh+40rSdf8ADmiTrYWWhPrlxMLstJbQzpbTajrDskl5Gkoa/hhYITHEvn9Ffpf+yP8AtJ/DP9rbTn/aA8S+GNP0/wCPH7NXwP8AB2nfDCK78a3s8dvpHhm4u7nU/F+j6ReTw2t9q+l6Va6fOmgvfW9jdyJqV80M5aS3HyB+3Xo3wa1T4mWvxp/Z78WeD7/wp4w0+2c2PhuM6fdWOrQWVoNRN7pDxRDSpbi4kN59nshPpUDXclnYXd0ljIY/D6K9Qtv2T/iFP+zBe/tT3GrafZaVZahbRjRdVs7+zuryyuJp7aDULS4ntUsL2J7qzvrdbe3upL0tpt/J9m8iyuZ4vL6K9Q+En7F/7T/xs05fEngf4QahD4dGnxX9z418STw6J4ds7WW4urWG4udY1F4LC1ilurK7tInmnRZrm3kt4y8w8uvq/wCBfwkuv+CbPwJ1TxR+2B+2R4f0bwx8cfI0x/gh8PNI0P4o23xA8P2V1I82qX/2PXLWz0+2hvoGs7a9t75NTS4F99la2NvLNWh4s/YO/Zqmg1PxL+zz+z5p/wAcPEXifwfMfC3g74L/ALUGk6na2mo3mlmSPUtP0CS1Hi28itJrzzDo91axXFiuhu93fajDcTG2+b/jp+0h47/aO/ZY0vWf2hdH8QXfiew+IE6+DvGtjokVnpWvpJYxt4gbU5Igkeoa2JRoEzX/AJbX1wl3KdQubgJpyw8B44/Zc+O3ww8d+Dfh18TvA3/CM6h8QPD+i674QuPEep2thYajpWrRRy2N+L6eVLWO2dZMPNJKqQNHMkzRvDKqfR+s/wDBJ74Z6V8ZdJ+DNv8At8eD7/Vdc09td8O6fpHhq91G48U6QwmMNlodxY+fper+IPMs72zfT4tQFidQFtY22qXk73K2nyh8WfCOj/D/AOKfibwF4d8Rf2vp+ieIL2wsdW32bfbYYZ3jSfNjdXdqd6qGzb3NxCd37uaVNsjc/RX1f+zv8Nv+Cen7SWifBT9njw54J+KD/Hjxl4w0HwhrMceuWejeF5pLzxLfCXUZL6SPU7lpZNOutKsUjisYI7Z7aa6YXpPkS9B/wW++O/wC/aU/aL8H/F39nfVPB93ol34P1awtW8IeH7XSlh0yx8Z+JLHQLe5tLeGFreWLw7baFFGk8aTi1jtdwxtJ6D9kL9qH4NfAH9hb4T+MfFX7QOoWviX4V/tH+MPiN4f+FGnobi38Q6zaaF4YTw/cX0aTjyok1NcEypGJdPXXVt7uG6jhguviDxZ4m1Hxp4q1PxjrFtp8N3q2oTXt1DpOk29hapJK5dlhtbWOOC2iBYhYYkSNFwqKqgAZ9FFFfof+z94i1vwz+zx8K/Fv7Ln7I/7CAu9Q0+yvviLqHxZ+KPhrU9Z1u603UtUtGsr3TfGWrKdEiu7cW88y6ZFE0weKaK7hV1tLXy/9p34dfA39qD4uzfFvWf8AgpN+zB4X/wCKf0TRNP8AD3hbw38TvsGn2GlaTaaVZwxG98O3Nw2Layh3NLNIzNuYnnA4++/4JpfELxHB4Ivv2c/2gPhf8V7Tx3qHimysdR8N6xf6Ha6dJ4d0uz1bVGvZ/E1lpUdvFFY3sU/nFjGVSQbgy7Tn/GL4X/sbfs+/AmXwjpvxn/4Wh8bda+xx6zF4e0tx4V8Bxx3V2byC31RLtf7b1I/Z7CMTwwS6WILu8MM145trqHzD4sfGvxV8ZdO8HWvjHT9PN34O8HweG4dZhif7bqtrBcXElq97K7sZ5YLeaKwhI2rHZWFlAqhYBn6v/wCCb/7V37J3wG/Z71jw/wDtVeGPh/410Z/EGt3F18JdU0+/ivPGKT6CYIhfX6aTdR2H2eVP+JTqVnOt9Y3l3qEDxR2esXGoWPxh4T0bTvEfirTPD2seLNP0C0v9Qht7rXdWjuHtdOjdwrXMy2sU07RRgl2EUUkhVTsR2wp9g/aI/YL+JnwB+Hv/AAu3Sfit8L/iN8PX1DSLCHxt8MviHZalGLrUrCe+tbe4052i1TTpTHaXiMl7Z27CSzmTBwC2f+wt8Rf2cfg1+0do3xr/AGm4PiBeaR4Lzrug6H8N9RXTr/WNbtWWWwtJNTE8c2kWzTKrS31ss1zEqYhjEjrNF1/7RX7Rn/BPT4qad4z8Q/CX9gfxh4Q8ZeKNPs49N1G9+MdndaNol6lxZy3eoQaVY6BYIJblILpDbrKllAdQl+z20KRW8UOfpnhz/gll4o8CeFtQ1n4yftAeBvE6eH44fGukWvw00PxVYTaqksokurG8bWdJkitpYvJYW0tu7wsZENxcAK50PE37Bnw98c6jHqP7F/7bXwv+IWiPp9pcXsPj/wATWHw61nRpJreN2tru18Q3cFpPKs32iInTL3UI1FuHkeITwh8/9qaf9tP4HfAn4ffsZftD+LvD+qeArf7X40+GMGj+I9A8T21pDd3VzY3bafq+my3TQW0t3Y3ImsorlYWuLcyyQ+aBJXYeBv8Ago38TP2mPFXhv4Rf8FIvibp/j3wIdPn0XUPGHjXwZZan4osLV3ubm32eJBaS65bRQ3tx5okSS7WBC+dP1GFW025P2sP2Wf2DPD+nWmufs8ftU6f4Yu4PB82rXXhfxr4tHi2PxExuLv7E2jap4f0pTBLPbwwmTT9esdGurOSaIShlkc258Xf+CgHwa+Lv7Evwk/Zf8Y/ALUNS1L4Q+D9Z0zwXDZeIDpvh3R73VLuR73UZ7Ui51DVr6UiK9Ew1GxsornyoV0029vKL/wCcPil8UvHfxo8d33xJ+JOu/wBoavqHlLJIlrFbwwQxRJDBbW8EKpDa20EMcUENtCiQwQxRxRIkcaIPo/8A4JFfBnW/iH8fdR8fy/Dn4X674X8Kafbr4x1T4ofEXw1oNr4Wtb66is49ZCeIYL20uIo5pI4JTJpmpKi3irHDHeTWM8f0B8a/+CnX7MHgfxVb3vwu+PHxw+IkWmaenhTxp4msfHE2ia58b2tnkuG17xYNVsdS0+70hBdzabpuj3NneXUlh5yahcQxQW1pP83/ABguP+G3dY8BfDT4A/tZfGD4jeJ/EHxAew8N/CT4yy5m0vVfEN4ZpTp+qfbZbO+8y+wt5fTxaS9xNPb3H2ZhJcC09g8P/HH4E/sN6x4E+AEn7SXw/wDiv4n+EHiC5+IHhn4teH9DutR0jw14m0S8v7vTPB1lcSWFvf6jomoXETvcvBcRWX2vXLa8tzGLG9k1X4w+P3iv4NeOfjL4h8Y/s+fCHUPAHg3U9QNxoXgvU/FR1uTRo2ALWwvWggeeJX3iMyJ5ix7FkeZ1aV//2Q==\\n\", \"height\": 256, \"channels\": 1, \"width\": 256, \"type\": \"image\", \"id\": 4637876496}], \"selected_variable\": {\"name\": [\"<SArray>\"], \"dtype\": \"Image\", \"view_component\": \"Images\", \"view_file\": \"sarray\", \"descriptives\": {\"rows\": 1}, \"type\": \"SArray\", \"view_components\": [\"Images\"]}}, e);\n",
       "                });\n",
       "            })();\n",
       "        "
      ]
     },
     "metadata": {},
     "output_type": "display_data"
    },
    {
     "data": {
      "text/plain": [
       "(None, None)"
      ]
     },
     "execution_count": 13,
     "metadata": {},
     "output_type": "execute_result"
    }
   ],
   "source": [
    "gl.canvas.set_target('ipynb')\n",
    "edge_sf[edge_sf['id']==1887]['image'].show(), sobel_sf[sobel_sf['id']==1887]['image'].show()"
   ]
  },
  {
   "cell_type": "code",
   "execution_count": 15,
   "metadata": {
    "collapsed": false
   },
   "outputs": [],
   "source": [
    "sample = edge_sf.sample(0.05, seed=0) # sample 5% of the data"
   ]
  },
  {
   "cell_type": "markdown",
   "metadata": {},
   "source": [
    "To train our neural network, we'll perform the same random splitting method, but take only 20% of the dataset to train our neural network classifier.  This deep convolutional neural network model is based on the imagenet challenge."
   ]
  },
  {
   "cell_type": "code",
   "execution_count": 138,
   "metadata": {
    "collapsed": true
   },
   "outputs": [],
   "source": [
    "train_sf, valid_sf = edge_sf.random_split(.2, seed=0) # this time we take only 20% of the dataset to train"
   ]
  },
  {
   "cell_type": "markdown",
   "metadata": {},
   "source": [
    "First, we can make an example showing SIFT keypoints on a sample image"
   ]
  },
  {
   "cell_type": "code",
   "execution_count": 29,
   "metadata": {
    "collapsed": true
   },
   "outputs": [
    {
     "ename": "error",
     "evalue": "/Users/jenkins/miniconda/1/x64/conda-bld/conda_1486588158526/work/opencv-3.1.0/modules/features2d/src/draw.cpp:113: error: (-215) !outImage.empty() in function drawKeypoints\n",
     "output_type": "error",
     "traceback": [
      "\u001b[0;31m---------------------------------------------------------------------------\u001b[0m",
      "\u001b[0;31merror\u001b[0m                                     Traceback (most recent call last)",
      "\u001b[0;32m<ipython-input-29-56511466ade8>\u001b[0m in \u001b[0;36m<module>\u001b[0;34m()\u001b[0m\n\u001b[1;32m      5\u001b[0m \u001b[0msift\u001b[0m \u001b[0;34m=\u001b[0m \u001b[0mcv2\u001b[0m\u001b[0;34m.\u001b[0m\u001b[0mxfeatures2d\u001b[0m\u001b[0;34m.\u001b[0m\u001b[0mSIFT_create\u001b[0m\u001b[0;34m(\u001b[0m\u001b[0;34m)\u001b[0m\u001b[0;34m\u001b[0m\u001b[0m\n\u001b[1;32m      6\u001b[0m \u001b[0mkp\u001b[0m \u001b[0;34m=\u001b[0m \u001b[0msift\u001b[0m\u001b[0;34m.\u001b[0m\u001b[0mdetect\u001b[0m\u001b[0;34m(\u001b[0m\u001b[0mgray\u001b[0m\u001b[0;34m,\u001b[0m \u001b[0mNone\u001b[0m\u001b[0;34m)\u001b[0m\u001b[0;34m\u001b[0m\u001b[0m\n\u001b[0;32m----> 7\u001b[0;31m \u001b[0mimg\u001b[0m \u001b[0;34m=\u001b[0m \u001b[0mcv2\u001b[0m\u001b[0;34m.\u001b[0m\u001b[0mdrawKeypoints\u001b[0m\u001b[0;34m(\u001b[0m\u001b[0mgray\u001b[0m\u001b[0;34m,\u001b[0m\u001b[0mkp\u001b[0m\u001b[0;34m,\u001b[0m\u001b[0mimg\u001b[0m\u001b[0;34m)\u001b[0m\u001b[0;34m\u001b[0m\u001b[0m\n\u001b[0m\u001b[1;32m      8\u001b[0m \u001b[0mcv2\u001b[0m\u001b[0;34m.\u001b[0m\u001b[0mimwrite\u001b[0m\u001b[0;34m(\u001b[0m\u001b[0mjoin\u001b[0m\u001b[0;34m(\u001b[0m\u001b[0mfigure_dir\u001b[0m\u001b[0;34m,\u001b[0m\u001b[0;34m'sift_keypoints.jpy'\u001b[0m\u001b[0;34m)\u001b[0m\u001b[0;34m,\u001b[0m \u001b[0mimg\u001b[0m\u001b[0;34m)\u001b[0m\u001b[0;34m\u001b[0m\u001b[0m\n",
      "\u001b[0;31merror\u001b[0m: /Users/jenkins/miniconda/1/x64/conda-bld/conda_1486588158526/work/opencv-3.1.0/modules/features2d/src/draw.cpp:113: error: (-215) !outImage.empty() in function drawKeypoints\n"
     ]
    }
   ],
   "source": [
    "example_img = join(img_dir,'image_1234.jpg')\n",
    "img = cv2.imread(example_img, 0)\n",
    "gray = cv2.cvtColor(img, cv2.COLOR_GRAY2BGR)\n",
    "\n",
    "sift = cv2.xfeatures2d.SIFT_create()\n",
    "kp = sift.detect(gray, None)\n",
    "img = cv2.drawKeypoints(gray,kp,img)\n",
    "cv2.imwrite(join(figure_dir,'sift_keypoints.jpy'), img)"
   ]
  },
  {
   "cell_type": "code",
   "execution_count": null,
   "metadata": {
    "collapsed": true
   },
   "outputs": [],
   "source": [
    "gl.Image(join(figure_dir,'sift_keypoints.jpg')).show()"
   ]
  },
  {
   "cell_type": "code",
   "execution_count": 26,
   "metadata": {
    "collapsed": true
   },
   "outputs": [
    {
     "ename": "error",
     "evalue": "/Users/jenkins/miniconda/1/x64/conda-bld/conda_1486588158526/work/opencv-3.1.0/build/opencv_contrib/modules/xfeatures2d/src/sift.cpp:770: error: (-5) image is empty or has incorrect depth (!=CV_8U) in function detectAndCompute\n",
     "output_type": "error",
     "traceback": [
      "\u001b[0;31m---------------------------------------------------------------------------\u001b[0m",
      "\u001b[0;31merror\u001b[0m                                     Traceback (most recent call last)",
      "\u001b[0;32m<ipython-input-26-7a10e661a30d>\u001b[0m in \u001b[0;36m<module>\u001b[0;34m()\u001b[0m\n\u001b[1;32m      8\u001b[0m \u001b[0;31m# perform sift keypoint detection\u001b[0m\u001b[0;34m\u001b[0m\u001b[0;34m\u001b[0m\u001b[0m\n\u001b[1;32m      9\u001b[0m \u001b[0msift\u001b[0m \u001b[0;34m=\u001b[0m \u001b[0mcv2\u001b[0m\u001b[0;34m.\u001b[0m\u001b[0mxfeatures2d\u001b[0m\u001b[0;34m.\u001b[0m\u001b[0mSIFT_create\u001b[0m\u001b[0;34m(\u001b[0m\u001b[0;34m)\u001b[0m\u001b[0;34m\u001b[0m\u001b[0m\n\u001b[0;32m---> 10\u001b[0;31m \u001b[0;34m(\u001b[0m\u001b[0mkp_edge\u001b[0m\u001b[0;34m,\u001b[0m \u001b[0mdes_edge\u001b[0m\u001b[0;34m)\u001b[0m \u001b[0;34m=\u001b[0m \u001b[0msift\u001b[0m\u001b[0;34m.\u001b[0m\u001b[0mdetectAndCompute\u001b[0m\u001b[0;34m(\u001b[0m\u001b[0mex_edge\u001b[0m\u001b[0;34m,\u001b[0m \u001b[0mNone\u001b[0m\u001b[0;34m)\u001b[0m\u001b[0;34m\u001b[0m\u001b[0m\n\u001b[0m\u001b[1;32m     11\u001b[0m \u001b[0;34m(\u001b[0m\u001b[0mkp_sobel\u001b[0m\u001b[0;34m,\u001b[0m \u001b[0mdes_sobel\u001b[0m\u001b[0;34m)\u001b[0m \u001b[0;34m=\u001b[0m \u001b[0msift\u001b[0m\u001b[0;34m.\u001b[0m\u001b[0mdetectAndCompute\u001b[0m\u001b[0;34m(\u001b[0m\u001b[0mex_sobel\u001b[0m\u001b[0;34m,\u001b[0m \u001b[0mNone\u001b[0m\u001b[0;34m)\u001b[0m\u001b[0;34m\u001b[0m\u001b[0m\n\u001b[1;32m     12\u001b[0m \u001b[0;34m\u001b[0m\u001b[0m\n",
      "\u001b[0;31merror\u001b[0m: /Users/jenkins/miniconda/1/x64/conda-bld/conda_1486588158526/work/opencv-3.1.0/build/opencv_contrib/modules/xfeatures2d/src/sift.cpp:770: error: (-5) image is empty or has incorrect depth (!=CV_8U) in function detectAndCompute\n"
     ]
    }
   ],
   "source": [
    "example_img = join(img_dir,'image_1234.jpg')\n",
    "img = cv2.imread(example_img, 0)\n",
    "\n",
    "# transform images\n",
    "ex_edge = cv2.Canny(img,100,200)\n",
    "ex_sobel = cv2.Sobel(img, cv2.CV_8U, 0, 1, ksize=5)\n",
    "\n",
    "# perform sift keypoint detection\n",
    "sift = cv2.xfeatures2d.SIFT_create()\n",
    "(kp_edge, des_edge) = sift.detectAndCompute(ex_edge, None)\n",
    "(kp_sobel, des_sobel) = sift.detectAndCompute(ex_sobel, None)\n",
    "\n",
    "img_edge = cv2.drawKeypoints(ex_edge, kp_edge, img)\n",
    "img_sobel = cv2.drawKeypoints(ex_sobel, kp_sobel, img)"
   ]
  },
  {
   "cell_type": "code",
   "execution_count": 52,
   "metadata": {
    "collapsed": true
   },
   "outputs": [
    {
     "data": {
      "text/html": [
       "<pre>Unsupported image format. Supported formats are JPG and PNG\t file: /Users/galen/Desktop/image_classification/data/img_sobel/.DS_Store</pre>"
      ],
      "text/plain": [
       "Unsupported image format. Supported formats are JPG and PNG\t file: /Users/galen/Desktop/image_classification/data/img_sobel/.DS_Store"
      ]
     },
     "metadata": {},
     "output_type": "display_data"
    },
    {
     "data": {
      "text/html": [
       "<div style=\"max-height:1000px;max-width:1500px;overflow:auto;\"><table frame=\"box\" rules=\"cols\">\n",
       "    <tr>\n",
       "        <th style=\"padding-left: 1em; padding-right: 1em; text-align: center\">path</th>\n",
       "        <th style=\"padding-left: 1em; padding-right: 1em; text-align: center\">sobel_img</th>\n",
       "    </tr>\n",
       "    <tr>\n",
       "        <td style=\"padding-left: 1em; padding-right: 1em; text-align: center; vertical-align: top\">/Users/galen/Desktop/imag<br>e_classification/data ...</td>\n",
       "        <td style=\"padding-left: 1em; padding-right: 1em; text-align: center; vertical-align: top\">Height: 256 Width: 256</td>\n",
       "    </tr>\n",
       "    <tr>\n",
       "        <td style=\"padding-left: 1em; padding-right: 1em; text-align: center; vertical-align: top\">/Users/galen/Desktop/imag<br>e_classification/data ...</td>\n",
       "        <td style=\"padding-left: 1em; padding-right: 1em; text-align: center; vertical-align: top\">Height: 256 Width: 256</td>\n",
       "    </tr>\n",
       "    <tr>\n",
       "        <td style=\"padding-left: 1em; padding-right: 1em; text-align: center; vertical-align: top\">/Users/galen/Desktop/imag<br>e_classification/data ...</td>\n",
       "        <td style=\"padding-left: 1em; padding-right: 1em; text-align: center; vertical-align: top\">Height: 256 Width: 256</td>\n",
       "    </tr>\n",
       "    <tr>\n",
       "        <td style=\"padding-left: 1em; padding-right: 1em; text-align: center; vertical-align: top\">/Users/galen/Desktop/imag<br>e_classification/data ...</td>\n",
       "        <td style=\"padding-left: 1em; padding-right: 1em; text-align: center; vertical-align: top\">Height: 256 Width: 256</td>\n",
       "    </tr>\n",
       "    <tr>\n",
       "        <td style=\"padding-left: 1em; padding-right: 1em; text-align: center; vertical-align: top\">/Users/galen/Desktop/imag<br>e_classification/data ...</td>\n",
       "        <td style=\"padding-left: 1em; padding-right: 1em; text-align: center; vertical-align: top\">Height: 256 Width: 256</td>\n",
       "    </tr>\n",
       "    <tr>\n",
       "        <td style=\"padding-left: 1em; padding-right: 1em; text-align: center; vertical-align: top\">/Users/galen/Desktop/imag<br>e_classification/data ...</td>\n",
       "        <td style=\"padding-left: 1em; padding-right: 1em; text-align: center; vertical-align: top\">Height: 256 Width: 256</td>\n",
       "    </tr>\n",
       "    <tr>\n",
       "        <td style=\"padding-left: 1em; padding-right: 1em; text-align: center; vertical-align: top\">/Users/galen/Desktop/imag<br>e_classification/data ...</td>\n",
       "        <td style=\"padding-left: 1em; padding-right: 1em; text-align: center; vertical-align: top\">Height: 256 Width: 256</td>\n",
       "    </tr>\n",
       "    <tr>\n",
       "        <td style=\"padding-left: 1em; padding-right: 1em; text-align: center; vertical-align: top\">/Users/galen/Desktop/imag<br>e_classification/data ...</td>\n",
       "        <td style=\"padding-left: 1em; padding-right: 1em; text-align: center; vertical-align: top\">Height: 256 Width: 256</td>\n",
       "    </tr>\n",
       "    <tr>\n",
       "        <td style=\"padding-left: 1em; padding-right: 1em; text-align: center; vertical-align: top\">/Users/galen/Desktop/imag<br>e_classification/data ...</td>\n",
       "        <td style=\"padding-left: 1em; padding-right: 1em; text-align: center; vertical-align: top\">Height: 256 Width: 256</td>\n",
       "    </tr>\n",
       "    <tr>\n",
       "        <td style=\"padding-left: 1em; padding-right: 1em; text-align: center; vertical-align: top\">/Users/galen/Desktop/imag<br>e_classification/data ...</td>\n",
       "        <td style=\"padding-left: 1em; padding-right: 1em; text-align: center; vertical-align: top\">Height: 256 Width: 256</td>\n",
       "    </tr>\n",
       "</table>\n",
       "[2000 rows x 2 columns]<br/>Note: Only the head of the SFrame is printed.<br/>You can use print_rows(num_rows=m, num_columns=n) to print more rows and columns.\n",
       "</div>"
      ],
      "text/plain": [
       "Columns:\n",
       "\tpath\tstr\n",
       "\tsobel_img\tImage\n",
       "\n",
       "Rows: 2000\n",
       "\n",
       "Data:\n",
       "+-------------------------------+------------------------+\n",
       "|              path             |       sobel_img        |\n",
       "+-------------------------------+------------------------+\n",
       "| /Users/galen/Desktop/image... | Height: 256 Width: 256 |\n",
       "| /Users/galen/Desktop/image... | Height: 256 Width: 256 |\n",
       "| /Users/galen/Desktop/image... | Height: 256 Width: 256 |\n",
       "| /Users/galen/Desktop/image... | Height: 256 Width: 256 |\n",
       "| /Users/galen/Desktop/image... | Height: 256 Width: 256 |\n",
       "| /Users/galen/Desktop/image... | Height: 256 Width: 256 |\n",
       "| /Users/galen/Desktop/image... | Height: 256 Width: 256 |\n",
       "| /Users/galen/Desktop/image... | Height: 256 Width: 256 |\n",
       "| /Users/galen/Desktop/image... | Height: 256 Width: 256 |\n",
       "| /Users/galen/Desktop/image... | Height: 256 Width: 256 |\n",
       "+-------------------------------+------------------------+\n",
       "[2000 rows x 2 columns]\n",
       "Note: Only the head of the SFrame is printed.\n",
       "You can use print_rows(num_rows=m, num_columns=n) to print more rows and columns."
      ]
     },
     "execution_count": 52,
     "metadata": {},
     "output_type": "execute_result"
    }
   ],
   "source": [
    "edge_img = gl.image_analysis.load_images(join(img_dir,'img_edge'))\n",
    "edge_img.rename({'image':'edge_img'})\n",
    "sobel_img = gl.image_analysis.load_images(join(img_dir,'img_sobel'))\n",
    "sobel_img.rename({'image':'sobel_img'})"
   ]
  },
  {
   "cell_type": "markdown",
   "metadata": {},
   "source": [
    "# Section III: Supplemental Models/Feature Extraction Implemented in `sklearn` and `opencv`"
   ]
  },
  {
   "cell_type": "markdown",
   "metadata": {},
   "source": [
    "## Hog Features"
   ]
  },
  {
   "cell_type": "code",
   "execution_count": null,
   "metadata": {
    "collapsed": true
   },
   "outputs": [],
   "source": [
    "def compute_hog_features():\n",
    "    import cv2\n",
    "    import pandas as pd\n",
    "    from os import os.listdir\n",
    "    \n",
    "    winSize = (256, 256)\n",
    "    block_size= (64, 64)\n",
    "    block_stride= (32, 32)\n",
    "    cell_size= (32, 32)\n",
    "    nbins = 9\n",
    "    padding = (32,32)\n",
    "\n",
    "    # Create hog feature extraction\n",
    "    hog = cv2.HOGDescriptor(winSize, block_size, block_stride, cell_size, nbins)\n",
    "\n",
    "    # Reading the images and calculating the features\n",
    "    hog_dict = {}\n",
    "    for pic in os.listdir(img_dir):\n",
    "        if pic.split('.')[1] == 'jpg':\n",
    "            pic_name = pic.split('.')[0]\n",
    "            pic_n = pic_name.split('_')[1]\n",
    "            img_read = cv2.imread(os.path.join(pic_path,pic))\n",
    "            img_read = cv2.resize(img_read, (128,128)) # to get the same number of features\n",
    "            hog_dict[pic_n] = hog.compute(img_read, padding)\n",
    "\n",
    "    my_dictionary = {k: v.tolist() for k, v in hog_dict.items()}\n",
    "    hog_feature = {k: [i[0] for i in v] for k, v in my_dictionary.items()}\n",
    "    hog_feature = pd.DataFrame.from_dict(hog_feature, orient='index')\n",
    "    \n",
    "    # sort the dateframe\n",
    "    hog_feature_sort=hog_feature.sort_values(by=[0])\n",
    "    # Saving the contents into a file\n",
    "    hog_feature.to_csv(join(feature_dir,'hog_features.csv'))"
   ]
  },
  {
   "cell_type": "markdown",
   "metadata": {},
   "source": [
    "## Dimension Reduction PCA SVM"
   ]
  },
  {
   "cell_type": "markdown",
   "metadata": {},
   "source": [
    "Import necessary models from `sklearn`"
   ]
  },
  {
   "cell_type": "code",
   "execution_count": 175,
   "metadata": {
    "collapsed": true
   },
   "outputs": [],
   "source": [
    "def compute_pca_features():\n",
    "    from sklearn.model_selection import train_test_split\n",
    "    from sklearn.svm import SVC\n",
    "    from sklearn.svm import LinearSVC\n",
    "    from sklearn.grid_search import GridSearchCV\n",
    "    from sklearn.decomposition import PCA\n",
    "    \n",
    "    sift_feature= pd.read_csv(sift_file)\n",
    "    sift_t = sift_feature.T\n",
    "    label = pd.read_csv(label_file)\n",
    "\n",
    "    dat = pd.concat([label.reset_index(drop=True), sift_t.reset_index(drop=True)],axis=1)\n",
    "    dat=dat.rename(columns = {'V1':'y'})\n",
    "\n",
    "    # Split data into trainset and test set\n",
    "    X_train, X_test, y_train, y_test = train_test_split(dat.drop('y',axis=1), dat['y'],\n",
    "    random_state=0)\n",
    "\n",
    "    # First, use linear SVM with grid search over a few choice of c to get a baseline\n",
    "    grid = GridSearchCV(LinearSVC(), {'C': [1.0, 2.0, 4.0, 8.0]})\n",
    "    grid.fit(X_train, y_train)\n",
    "    print(\"accuracy on training set: %f\" % grid.score(X_train, y_train))\n",
    "    print(\"accuracy on test set: %f\" % grid.score(X_test, y_test))\n",
    "\n",
    "\n",
    "    # Fit principal component analysis model to the data\n",
    "    pca = PCA()\n",
    "    pca.fit(X_train)\n",
    "    X_train_pca = pd.DataFrame(pca.transform(X_train))\n",
    "    X_test_pca = pd.DataFrame(pca.transform(X_test))\n",
    "\n",
    "    # Saving the contents into a file\n",
    "    np.savetxt(join(feature_dir,\"X_train_pca.csv\"),X_train_pca,delimiter=\",\")\n",
    "    np.savetxt(join(feature_dir,\"X_test_pca.csv\"),X_test_pca,delimiter=\",\")\n",
    "    \n",
    "    return(X_train, y_train, X_test, y_test)"
   ]
  },
  {
   "cell_type": "code",
   "execution_count": 176,
   "metadata": {
    "collapsed": true
   },
   "outputs": [],
   "source": [
    "def svc_sel(Xtrain, ytrain, Xtest, ytest, nfolds):\n",
    "    from sklearn.grid_search import GridSearchCV\n",
    "\n",
    "    Cs = [5,10, 50,100,150]\n",
    "    gammas = [40,50,100,150]\n",
    "    param_grid = {'C': Cs, 'gamma' : gammas}\n",
    "    grid_search = GridSearchCV(SVC(kernel='rbf'), param_grid, cv=nfolds)\n",
    "    grid_search.fit(Xtrain, ytrain)\n",
    "    grid_search.best_params_\n",
    "    grid_search.score(Xtrain,ytrain)\n",
    "    grid_search.score(Xtest,ytest)\n",
    "    return {'Best parameter': grid_search.best_params_, \n",
    "            'Training accurate rate': grid_search.score(Xtrain,ytrain),\n",
    "            'Test accurate rate': grid_search.score(Xtest,ytest),\n",
    "            'Best model': grid_search}"
   ]
  },
  {
   "cell_type": "code",
   "execution_count": 177,
   "metadata": {
    "collapsed": true
   },
   "outputs": [
    {
     "name": "stdout",
     "output_type": "stream",
     "text": [
      "accuracy on training set: 0.776667\n",
      "accuracy on test set: 0.730000\n"
     ]
    },
    {
     "ename": "KeyboardInterrupt",
     "evalue": "",
     "output_type": "error",
     "traceback": [
      "\u001b[0;31m---------------------------------------------------------------------------\u001b[0m",
      "\u001b[0;31mKeyboardInterrupt\u001b[0m                         Traceback (most recent call last)",
      "\u001b[0;32m<ipython-input-177-494572f93dce>\u001b[0m in \u001b[0;36m<module>\u001b[0;34m()\u001b[0m\n\u001b[1;32m      1\u001b[0m \u001b[0;32mfrom\u001b[0m \u001b[0msklearn\u001b[0m\u001b[0;34m.\u001b[0m\u001b[0msvm\u001b[0m \u001b[0;32mimport\u001b[0m \u001b[0mSVC\u001b[0m\u001b[0;34m\u001b[0m\u001b[0m\n\u001b[1;32m      2\u001b[0m \u001b[0mxtrain\u001b[0m\u001b[0;34m,\u001b[0m \u001b[0mytrain\u001b[0m\u001b[0;34m,\u001b[0m \u001b[0mxtest\u001b[0m\u001b[0;34m,\u001b[0m \u001b[0mytest\u001b[0m \u001b[0;34m=\u001b[0m \u001b[0mcompute_pca_features\u001b[0m\u001b[0;34m(\u001b[0m\u001b[0;34m)\u001b[0m\u001b[0;34m\u001b[0m\u001b[0m\n\u001b[0;32m----> 3\u001b[0;31m \u001b[0mresult\u001b[0m \u001b[0;34m=\u001b[0m \u001b[0msvc_sel\u001b[0m\u001b[0;34m(\u001b[0m\u001b[0mxtrain\u001b[0m\u001b[0;34m,\u001b[0m \u001b[0mytrain\u001b[0m\u001b[0;34m,\u001b[0m \u001b[0mxtest\u001b[0m\u001b[0;34m,\u001b[0m \u001b[0mytest\u001b[0m\u001b[0;34m,\u001b[0m \u001b[0;36m6\u001b[0m\u001b[0;34m)\u001b[0m\u001b[0;34m\u001b[0m\u001b[0m\n\u001b[0m\u001b[1;32m      4\u001b[0m \u001b[0mresult\u001b[0m\u001b[0;34m\u001b[0m\u001b[0m\n",
      "\u001b[0;32m<ipython-input-176-fbc8997da7a2>\u001b[0m in \u001b[0;36msvc_sel\u001b[0;34m(Xtrain, ytrain, Xtest, ytest, nfolds)\u001b[0m\n\u001b[1;32m      6\u001b[0m     \u001b[0mparam_grid\u001b[0m \u001b[0;34m=\u001b[0m \u001b[0;34m{\u001b[0m\u001b[0;34m'C'\u001b[0m\u001b[0;34m:\u001b[0m \u001b[0mCs\u001b[0m\u001b[0;34m,\u001b[0m \u001b[0;34m'gamma'\u001b[0m \u001b[0;34m:\u001b[0m \u001b[0mgammas\u001b[0m\u001b[0;34m}\u001b[0m\u001b[0;34m\u001b[0m\u001b[0m\n\u001b[1;32m      7\u001b[0m     \u001b[0mgrid_search\u001b[0m \u001b[0;34m=\u001b[0m \u001b[0mGridSearchCV\u001b[0m\u001b[0;34m(\u001b[0m\u001b[0mSVC\u001b[0m\u001b[0;34m(\u001b[0m\u001b[0mkernel\u001b[0m\u001b[0;34m=\u001b[0m\u001b[0;34m'rbf'\u001b[0m\u001b[0;34m)\u001b[0m\u001b[0;34m,\u001b[0m \u001b[0mparam_grid\u001b[0m\u001b[0;34m,\u001b[0m \u001b[0mcv\u001b[0m\u001b[0;34m=\u001b[0m\u001b[0mnfolds\u001b[0m\u001b[0;34m)\u001b[0m\u001b[0;34m\u001b[0m\u001b[0m\n\u001b[0;32m----> 8\u001b[0;31m     \u001b[0mgrid_search\u001b[0m\u001b[0;34m.\u001b[0m\u001b[0mfit\u001b[0m\u001b[0;34m(\u001b[0m\u001b[0mXtrain\u001b[0m\u001b[0;34m,\u001b[0m \u001b[0mytrain\u001b[0m\u001b[0;34m)\u001b[0m\u001b[0;34m\u001b[0m\u001b[0m\n\u001b[0m\u001b[1;32m      9\u001b[0m     \u001b[0mgrid_search\u001b[0m\u001b[0;34m.\u001b[0m\u001b[0mbest_params_\u001b[0m\u001b[0;34m\u001b[0m\u001b[0m\n\u001b[1;32m     10\u001b[0m     \u001b[0mgrid_search\u001b[0m\u001b[0;34m.\u001b[0m\u001b[0mscore\u001b[0m\u001b[0;34m(\u001b[0m\u001b[0mXtrain\u001b[0m\u001b[0;34m,\u001b[0m\u001b[0mytrain\u001b[0m\u001b[0;34m)\u001b[0m\u001b[0;34m\u001b[0m\u001b[0m\n",
      "\u001b[0;32m/Users/galen/anaconda/envs/gl-env/lib/python2.7/site-packages/sklearn/grid_search.pyc\u001b[0m in \u001b[0;36mfit\u001b[0;34m(self, X, y)\u001b[0m\n\u001b[1;32m    827\u001b[0m \u001b[0;34m\u001b[0m\u001b[0m\n\u001b[1;32m    828\u001b[0m         \"\"\"\n\u001b[0;32m--> 829\u001b[0;31m         \u001b[0;32mreturn\u001b[0m \u001b[0mself\u001b[0m\u001b[0;34m.\u001b[0m\u001b[0m_fit\u001b[0m\u001b[0;34m(\u001b[0m\u001b[0mX\u001b[0m\u001b[0;34m,\u001b[0m \u001b[0my\u001b[0m\u001b[0;34m,\u001b[0m \u001b[0mParameterGrid\u001b[0m\u001b[0;34m(\u001b[0m\u001b[0mself\u001b[0m\u001b[0;34m.\u001b[0m\u001b[0mparam_grid\u001b[0m\u001b[0;34m)\u001b[0m\u001b[0;34m)\u001b[0m\u001b[0;34m\u001b[0m\u001b[0m\n\u001b[0m\u001b[1;32m    830\u001b[0m \u001b[0;34m\u001b[0m\u001b[0m\n\u001b[1;32m    831\u001b[0m \u001b[0;34m\u001b[0m\u001b[0m\n",
      "\u001b[0;32m/Users/galen/anaconda/envs/gl-env/lib/python2.7/site-packages/sklearn/grid_search.pyc\u001b[0m in \u001b[0;36m_fit\u001b[0;34m(self, X, y, parameter_iterable)\u001b[0m\n\u001b[1;32m    571\u001b[0m                                     \u001b[0mself\u001b[0m\u001b[0;34m.\u001b[0m\u001b[0mfit_params\u001b[0m\u001b[0;34m,\u001b[0m \u001b[0mreturn_parameters\u001b[0m\u001b[0;34m=\u001b[0m\u001b[0mTrue\u001b[0m\u001b[0;34m,\u001b[0m\u001b[0;34m\u001b[0m\u001b[0m\n\u001b[1;32m    572\u001b[0m                                     error_score=self.error_score)\n\u001b[0;32m--> 573\u001b[0;31m                 \u001b[0;32mfor\u001b[0m \u001b[0mparameters\u001b[0m \u001b[0;32min\u001b[0m \u001b[0mparameter_iterable\u001b[0m\u001b[0;34m\u001b[0m\u001b[0m\n\u001b[0m\u001b[1;32m    574\u001b[0m                 for train, test in cv)\n\u001b[1;32m    575\u001b[0m \u001b[0;34m\u001b[0m\u001b[0m\n",
      "\u001b[0;32m/Users/galen/anaconda/envs/gl-env/lib/python2.7/site-packages/sklearn/externals/joblib/parallel.pyc\u001b[0m in \u001b[0;36m__call__\u001b[0;34m(self, iterable)\u001b[0m\n\u001b[1;32m    756\u001b[0m             \u001b[0;31m# was dispatched. In particular this covers the edge\u001b[0m\u001b[0;34m\u001b[0m\u001b[0;34m\u001b[0m\u001b[0m\n\u001b[1;32m    757\u001b[0m             \u001b[0;31m# case of Parallel used with an exhausted iterator.\u001b[0m\u001b[0;34m\u001b[0m\u001b[0;34m\u001b[0m\u001b[0m\n\u001b[0;32m--> 758\u001b[0;31m             \u001b[0;32mwhile\u001b[0m \u001b[0mself\u001b[0m\u001b[0;34m.\u001b[0m\u001b[0mdispatch_one_batch\u001b[0m\u001b[0;34m(\u001b[0m\u001b[0miterator\u001b[0m\u001b[0;34m)\u001b[0m\u001b[0;34m:\u001b[0m\u001b[0;34m\u001b[0m\u001b[0m\n\u001b[0m\u001b[1;32m    759\u001b[0m                 \u001b[0mself\u001b[0m\u001b[0;34m.\u001b[0m\u001b[0m_iterating\u001b[0m \u001b[0;34m=\u001b[0m \u001b[0mTrue\u001b[0m\u001b[0;34m\u001b[0m\u001b[0m\n\u001b[1;32m    760\u001b[0m             \u001b[0;32melse\u001b[0m\u001b[0;34m:\u001b[0m\u001b[0;34m\u001b[0m\u001b[0m\n",
      "\u001b[0;32m/Users/galen/anaconda/envs/gl-env/lib/python2.7/site-packages/sklearn/externals/joblib/parallel.pyc\u001b[0m in \u001b[0;36mdispatch_one_batch\u001b[0;34m(self, iterator)\u001b[0m\n\u001b[1;32m    606\u001b[0m                 \u001b[0;32mreturn\u001b[0m \u001b[0mFalse\u001b[0m\u001b[0;34m\u001b[0m\u001b[0m\n\u001b[1;32m    607\u001b[0m             \u001b[0;32melse\u001b[0m\u001b[0;34m:\u001b[0m\u001b[0;34m\u001b[0m\u001b[0m\n\u001b[0;32m--> 608\u001b[0;31m                 \u001b[0mself\u001b[0m\u001b[0;34m.\u001b[0m\u001b[0m_dispatch\u001b[0m\u001b[0;34m(\u001b[0m\u001b[0mtasks\u001b[0m\u001b[0;34m)\u001b[0m\u001b[0;34m\u001b[0m\u001b[0m\n\u001b[0m\u001b[1;32m    609\u001b[0m                 \u001b[0;32mreturn\u001b[0m \u001b[0mTrue\u001b[0m\u001b[0;34m\u001b[0m\u001b[0m\n\u001b[1;32m    610\u001b[0m \u001b[0;34m\u001b[0m\u001b[0m\n",
      "\u001b[0;32m/Users/galen/anaconda/envs/gl-env/lib/python2.7/site-packages/sklearn/externals/joblib/parallel.pyc\u001b[0m in \u001b[0;36m_dispatch\u001b[0;34m(self, batch)\u001b[0m\n\u001b[1;32m    569\u001b[0m         \u001b[0mdispatch_timestamp\u001b[0m \u001b[0;34m=\u001b[0m \u001b[0mtime\u001b[0m\u001b[0;34m.\u001b[0m\u001b[0mtime\u001b[0m\u001b[0;34m(\u001b[0m\u001b[0;34m)\u001b[0m\u001b[0;34m\u001b[0m\u001b[0m\n\u001b[1;32m    570\u001b[0m         \u001b[0mcb\u001b[0m \u001b[0;34m=\u001b[0m \u001b[0mBatchCompletionCallBack\u001b[0m\u001b[0;34m(\u001b[0m\u001b[0mdispatch_timestamp\u001b[0m\u001b[0;34m,\u001b[0m \u001b[0mlen\u001b[0m\u001b[0;34m(\u001b[0m\u001b[0mbatch\u001b[0m\u001b[0;34m)\u001b[0m\u001b[0;34m,\u001b[0m \u001b[0mself\u001b[0m\u001b[0;34m)\u001b[0m\u001b[0;34m\u001b[0m\u001b[0m\n\u001b[0;32m--> 571\u001b[0;31m         \u001b[0mjob\u001b[0m \u001b[0;34m=\u001b[0m \u001b[0mself\u001b[0m\u001b[0;34m.\u001b[0m\u001b[0m_backend\u001b[0m\u001b[0;34m.\u001b[0m\u001b[0mapply_async\u001b[0m\u001b[0;34m(\u001b[0m\u001b[0mbatch\u001b[0m\u001b[0;34m,\u001b[0m \u001b[0mcallback\u001b[0m\u001b[0;34m=\u001b[0m\u001b[0mcb\u001b[0m\u001b[0;34m)\u001b[0m\u001b[0;34m\u001b[0m\u001b[0m\n\u001b[0m\u001b[1;32m    572\u001b[0m         \u001b[0mself\u001b[0m\u001b[0;34m.\u001b[0m\u001b[0m_jobs\u001b[0m\u001b[0;34m.\u001b[0m\u001b[0mappend\u001b[0m\u001b[0;34m(\u001b[0m\u001b[0mjob\u001b[0m\u001b[0;34m)\u001b[0m\u001b[0;34m\u001b[0m\u001b[0m\n\u001b[1;32m    573\u001b[0m \u001b[0;34m\u001b[0m\u001b[0m\n",
      "\u001b[0;32m/Users/galen/anaconda/envs/gl-env/lib/python2.7/site-packages/sklearn/externals/joblib/_parallel_backends.pyc\u001b[0m in \u001b[0;36mapply_async\u001b[0;34m(self, func, callback)\u001b[0m\n\u001b[1;32m    107\u001b[0m     \u001b[0;32mdef\u001b[0m \u001b[0mapply_async\u001b[0m\u001b[0;34m(\u001b[0m\u001b[0mself\u001b[0m\u001b[0;34m,\u001b[0m \u001b[0mfunc\u001b[0m\u001b[0;34m,\u001b[0m \u001b[0mcallback\u001b[0m\u001b[0;34m=\u001b[0m\u001b[0mNone\u001b[0m\u001b[0;34m)\u001b[0m\u001b[0;34m:\u001b[0m\u001b[0;34m\u001b[0m\u001b[0m\n\u001b[1;32m    108\u001b[0m         \u001b[0;34m\"\"\"Schedule a func to be run\"\"\"\u001b[0m\u001b[0;34m\u001b[0m\u001b[0m\n\u001b[0;32m--> 109\u001b[0;31m         \u001b[0mresult\u001b[0m \u001b[0;34m=\u001b[0m \u001b[0mImmediateResult\u001b[0m\u001b[0;34m(\u001b[0m\u001b[0mfunc\u001b[0m\u001b[0;34m)\u001b[0m\u001b[0;34m\u001b[0m\u001b[0m\n\u001b[0m\u001b[1;32m    110\u001b[0m         \u001b[0;32mif\u001b[0m \u001b[0mcallback\u001b[0m\u001b[0;34m:\u001b[0m\u001b[0;34m\u001b[0m\u001b[0m\n\u001b[1;32m    111\u001b[0m             \u001b[0mcallback\u001b[0m\u001b[0;34m(\u001b[0m\u001b[0mresult\u001b[0m\u001b[0;34m)\u001b[0m\u001b[0;34m\u001b[0m\u001b[0m\n",
      "\u001b[0;32m/Users/galen/anaconda/envs/gl-env/lib/python2.7/site-packages/sklearn/externals/joblib/_parallel_backends.pyc\u001b[0m in \u001b[0;36m__init__\u001b[0;34m(self, batch)\u001b[0m\n\u001b[1;32m    324\u001b[0m         \u001b[0;31m# Don't delay the application, to avoid keeping the input\u001b[0m\u001b[0;34m\u001b[0m\u001b[0;34m\u001b[0m\u001b[0m\n\u001b[1;32m    325\u001b[0m         \u001b[0;31m# arguments in memory\u001b[0m\u001b[0;34m\u001b[0m\u001b[0;34m\u001b[0m\u001b[0m\n\u001b[0;32m--> 326\u001b[0;31m         \u001b[0mself\u001b[0m\u001b[0;34m.\u001b[0m\u001b[0mresults\u001b[0m \u001b[0;34m=\u001b[0m \u001b[0mbatch\u001b[0m\u001b[0;34m(\u001b[0m\u001b[0;34m)\u001b[0m\u001b[0;34m\u001b[0m\u001b[0m\n\u001b[0m\u001b[1;32m    327\u001b[0m \u001b[0;34m\u001b[0m\u001b[0m\n\u001b[1;32m    328\u001b[0m     \u001b[0;32mdef\u001b[0m \u001b[0mget\u001b[0m\u001b[0;34m(\u001b[0m\u001b[0mself\u001b[0m\u001b[0;34m)\u001b[0m\u001b[0;34m:\u001b[0m\u001b[0;34m\u001b[0m\u001b[0m\n",
      "\u001b[0;32m/Users/galen/anaconda/envs/gl-env/lib/python2.7/site-packages/sklearn/externals/joblib/parallel.pyc\u001b[0m in \u001b[0;36m__call__\u001b[0;34m(self)\u001b[0m\n\u001b[1;32m    129\u001b[0m \u001b[0;34m\u001b[0m\u001b[0m\n\u001b[1;32m    130\u001b[0m     \u001b[0;32mdef\u001b[0m \u001b[0m__call__\u001b[0m\u001b[0;34m(\u001b[0m\u001b[0mself\u001b[0m\u001b[0;34m)\u001b[0m\u001b[0;34m:\u001b[0m\u001b[0;34m\u001b[0m\u001b[0m\n\u001b[0;32m--> 131\u001b[0;31m         \u001b[0;32mreturn\u001b[0m \u001b[0;34m[\u001b[0m\u001b[0mfunc\u001b[0m\u001b[0;34m(\u001b[0m\u001b[0;34m*\u001b[0m\u001b[0margs\u001b[0m\u001b[0;34m,\u001b[0m \u001b[0;34m**\u001b[0m\u001b[0mkwargs\u001b[0m\u001b[0;34m)\u001b[0m \u001b[0;32mfor\u001b[0m \u001b[0mfunc\u001b[0m\u001b[0;34m,\u001b[0m \u001b[0margs\u001b[0m\u001b[0;34m,\u001b[0m \u001b[0mkwargs\u001b[0m \u001b[0;32min\u001b[0m \u001b[0mself\u001b[0m\u001b[0;34m.\u001b[0m\u001b[0mitems\u001b[0m\u001b[0;34m]\u001b[0m\u001b[0;34m\u001b[0m\u001b[0m\n\u001b[0m\u001b[1;32m    132\u001b[0m \u001b[0;34m\u001b[0m\u001b[0m\n\u001b[1;32m    133\u001b[0m     \u001b[0;32mdef\u001b[0m \u001b[0m__len__\u001b[0m\u001b[0;34m(\u001b[0m\u001b[0mself\u001b[0m\u001b[0;34m)\u001b[0m\u001b[0;34m:\u001b[0m\u001b[0;34m\u001b[0m\u001b[0m\n",
      "\u001b[0;32m/Users/galen/anaconda/envs/gl-env/lib/python2.7/site-packages/sklearn/cross_validation.pyc\u001b[0m in \u001b[0;36m_fit_and_score\u001b[0;34m(estimator, X, y, scorer, train, test, verbose, parameters, fit_params, return_train_score, return_parameters, error_score)\u001b[0m\n\u001b[1;32m   1663\u001b[0m             \u001b[0mestimator\u001b[0m\u001b[0;34m.\u001b[0m\u001b[0mfit\u001b[0m\u001b[0;34m(\u001b[0m\u001b[0mX_train\u001b[0m\u001b[0;34m,\u001b[0m \u001b[0;34m**\u001b[0m\u001b[0mfit_params\u001b[0m\u001b[0;34m)\u001b[0m\u001b[0;34m\u001b[0m\u001b[0m\n\u001b[1;32m   1664\u001b[0m         \u001b[0;32melse\u001b[0m\u001b[0;34m:\u001b[0m\u001b[0;34m\u001b[0m\u001b[0m\n\u001b[0;32m-> 1665\u001b[0;31m             \u001b[0mestimator\u001b[0m\u001b[0;34m.\u001b[0m\u001b[0mfit\u001b[0m\u001b[0;34m(\u001b[0m\u001b[0mX_train\u001b[0m\u001b[0;34m,\u001b[0m \u001b[0my_train\u001b[0m\u001b[0;34m,\u001b[0m \u001b[0;34m**\u001b[0m\u001b[0mfit_params\u001b[0m\u001b[0;34m)\u001b[0m\u001b[0;34m\u001b[0m\u001b[0m\n\u001b[0m\u001b[1;32m   1666\u001b[0m \u001b[0;34m\u001b[0m\u001b[0m\n\u001b[1;32m   1667\u001b[0m     \u001b[0;32mexcept\u001b[0m \u001b[0mException\u001b[0m \u001b[0;32mas\u001b[0m \u001b[0me\u001b[0m\u001b[0;34m:\u001b[0m\u001b[0;34m\u001b[0m\u001b[0m\n",
      "\u001b[0;32m/Users/galen/anaconda/envs/gl-env/lib/python2.7/site-packages/sklearn/svm/base.pyc\u001b[0m in \u001b[0;36mfit\u001b[0;34m(self, X, y, sample_weight)\u001b[0m\n\u001b[1;32m    187\u001b[0m \u001b[0;34m\u001b[0m\u001b[0m\n\u001b[1;32m    188\u001b[0m         \u001b[0mseed\u001b[0m \u001b[0;34m=\u001b[0m \u001b[0mrnd\u001b[0m\u001b[0;34m.\u001b[0m\u001b[0mrandint\u001b[0m\u001b[0;34m(\u001b[0m\u001b[0mnp\u001b[0m\u001b[0;34m.\u001b[0m\u001b[0miinfo\u001b[0m\u001b[0;34m(\u001b[0m\u001b[0;34m'i'\u001b[0m\u001b[0;34m)\u001b[0m\u001b[0;34m.\u001b[0m\u001b[0mmax\u001b[0m\u001b[0;34m)\u001b[0m\u001b[0;34m\u001b[0m\u001b[0m\n\u001b[0;32m--> 189\u001b[0;31m         \u001b[0mfit\u001b[0m\u001b[0;34m(\u001b[0m\u001b[0mX\u001b[0m\u001b[0;34m,\u001b[0m \u001b[0my\u001b[0m\u001b[0;34m,\u001b[0m \u001b[0msample_weight\u001b[0m\u001b[0;34m,\u001b[0m \u001b[0msolver_type\u001b[0m\u001b[0;34m,\u001b[0m \u001b[0mkernel\u001b[0m\u001b[0;34m,\u001b[0m \u001b[0mrandom_seed\u001b[0m\u001b[0;34m=\u001b[0m\u001b[0mseed\u001b[0m\u001b[0;34m)\u001b[0m\u001b[0;34m\u001b[0m\u001b[0m\n\u001b[0m\u001b[1;32m    190\u001b[0m         \u001b[0;31m# see comment on the other call to np.iinfo in this file\u001b[0m\u001b[0;34m\u001b[0m\u001b[0;34m\u001b[0m\u001b[0m\n\u001b[1;32m    191\u001b[0m \u001b[0;34m\u001b[0m\u001b[0m\n",
      "\u001b[0;32m/Users/galen/anaconda/envs/gl-env/lib/python2.7/site-packages/sklearn/svm/base.pyc\u001b[0m in \u001b[0;36m_dense_fit\u001b[0;34m(self, X, y, sample_weight, solver_type, kernel, random_seed)\u001b[0m\n\u001b[1;32m    254\u001b[0m                 \u001b[0mcache_size\u001b[0m\u001b[0;34m=\u001b[0m\u001b[0mself\u001b[0m\u001b[0;34m.\u001b[0m\u001b[0mcache_size\u001b[0m\u001b[0;34m,\u001b[0m \u001b[0mcoef0\u001b[0m\u001b[0;34m=\u001b[0m\u001b[0mself\u001b[0m\u001b[0;34m.\u001b[0m\u001b[0mcoef0\u001b[0m\u001b[0;34m,\u001b[0m\u001b[0;34m\u001b[0m\u001b[0m\n\u001b[1;32m    255\u001b[0m                 \u001b[0mgamma\u001b[0m\u001b[0;34m=\u001b[0m\u001b[0mself\u001b[0m\u001b[0;34m.\u001b[0m\u001b[0m_gamma\u001b[0m\u001b[0;34m,\u001b[0m \u001b[0mepsilon\u001b[0m\u001b[0;34m=\u001b[0m\u001b[0mself\u001b[0m\u001b[0;34m.\u001b[0m\u001b[0mepsilon\u001b[0m\u001b[0;34m,\u001b[0m\u001b[0;34m\u001b[0m\u001b[0m\n\u001b[0;32m--> 256\u001b[0;31m                 max_iter=self.max_iter, random_seed=random_seed)\n\u001b[0m\u001b[1;32m    257\u001b[0m \u001b[0;34m\u001b[0m\u001b[0m\n\u001b[1;32m    258\u001b[0m         \u001b[0mself\u001b[0m\u001b[0;34m.\u001b[0m\u001b[0m_warn_from_fit_status\u001b[0m\u001b[0;34m(\u001b[0m\u001b[0;34m)\u001b[0m\u001b[0;34m\u001b[0m\u001b[0m\n",
      "\u001b[0;31mKeyboardInterrupt\u001b[0m: "
     ]
    }
   ],
   "source": [
    "from sklearn.svm import SVC\n",
    "xtrain, ytrain, xtest, ytest = compute_pca_features()\n",
    "result = svc_sel(xtrain, ytrain, xtest, ytest, 6)"
   ]
  },
  {
   "cell_type": "markdown",
   "metadata": {},
   "source": [
    "## Gradient Boosting Classifier: Baseline Model\n",
    "### Implemented in `sklearn`"
   ]
  },
  {
   "cell_type": "code",
   "execution_count": 183,
   "metadata": {
    "collapsed": true
   },
   "outputs": [],
   "source": [
    "def compute_gbm():\n",
    "    from sklearn.ensemble import GradientBoostingClassifier\n",
    "    from sklearn.model_selection import train_test_split\n",
    "    import pandas as pd\n",
    "    \n",
    "    sift_feature= pd.read_csv(sift_file)\n",
    "    sift_t = sift_feature.T\n",
    "    label = pd.read_csv(label_file)\n",
    "\n",
    "    dat = pd.concat([label.reset_index(drop=True), sift_t.reset_index(drop=True)],axis=1)\n",
    "    dat=dat.rename(columns = {'V1':'y'})\n",
    "\n",
    "    # Split data into trainset and test set\n",
    "    trainX, testX, trainY, testY = train_test_split(dat.drop('y',axis=1), dat['y'],\n",
    "    random_state=0)\n",
    "    \n",
    "    seed = 0\n",
    "    model = GradientBoostingClassifier(n_estimators = 500,\n",
    "                                       max_depth = 5,\n",
    "                                       subsample = 0.5,\n",
    "                                       max_features='log2',\n",
    "                                       random_state=seed)\n",
    "    model.fit(trainX, trainY)\n",
    "    \n",
    "    trainX = pd.DataFrame(model.transform(trainX))\n",
    "    testX = pd.DataFrame(model.transform(testX))\n",
    "    \n",
    "    # Saving the contents into a file\n",
    "    np.savetxt(join(feature_dir,\"trainX_gbm.csv\"),trainX,delimiter=\",\")\n",
    "    np.savetxt(join(feature_dir,\"testX_gbm.csv\"),testX,delimiter=\",\")\n",
    "    \n",
    "    return(model, trainX, trainY, testX, testY)"
   ]
  },
  {
   "cell_type": "code",
   "execution_count": 184,
   "metadata": {
    "collapsed": true
   },
   "outputs": [
    {
     "name": "stderr",
     "output_type": "stream",
     "text": [
      "/Users/galen/anaconda/envs/gl-env/lib/python2.7/site-packages/sklearn/utils/deprecation.py:70: DeprecationWarning: Function transform is deprecated; Support to use estimators as feature selectors will be removed in version 0.19. Use SelectFromModel instead.\n",
      "  warnings.warn(msg, category=DeprecationWarning)\n",
      "/Users/galen/anaconda/envs/gl-env/lib/python2.7/site-packages/sklearn/utils/deprecation.py:70: DeprecationWarning: Function transform is deprecated; Support to use estimators as feature selectors will be removed in version 0.19. Use SelectFromModel instead.\n",
      "  warnings.warn(msg, category=DeprecationWarning)\n"
     ]
    }
   ],
   "source": [
    "model, trainX, trainY, testX, testY = compute_gbm()"
   ]
  },
  {
   "cell_type": "code",
   "execution_count": 182,
   "metadata": {
    "collapsed": false
   },
   "outputs": [
    {
     "data": {
      "text/plain": [
       "<bound method GradientBoostingClassifier.get_params of GradientBoostingClassifier(criterion='friedman_mse', init=None,\n",
       "              learning_rate=0.1, loss='deviance', max_depth=5,\n",
       "              max_features='log2', max_leaf_nodes=None,\n",
       "              min_impurity_split=1e-07, min_samples_leaf=1,\n",
       "              min_samples_split=2, min_weight_fraction_leaf=0.0,\n",
       "              n_estimators=500, presort='auto', random_state=0,\n",
       "              subsample=0.5, verbose=0, warm_start=False)>"
      ]
     },
     "execution_count": 182,
     "metadata": {},
     "output_type": "execute_result"
    }
   ],
   "source": [
    "model.get_params"
   ]
  },
  {
   "cell_type": "markdown",
   "metadata": {},
   "source": [
    "## Surf Feature Extraction using OpenCV"
   ]
  },
  {
   "cell_type": "code",
   "execution_count": null,
   "metadata": {
    "collapsed": true
   },
   "outputs": [],
   "source": [
    "def compute_surf_features(image_dir, feature_name):\n",
    "    import scipy.cluster.vq\n",
    "    import os\n",
    "    from sklearn.preprocessing import StandardScaler\n",
    "    from sklearn import preprocessing\n",
    "    \n",
    "    image_paths = []\n",
    "    for files in os.listdir(image_dir):\n",
    "        dir = os.path.join(image_dir, files)\n",
    "        image_paths.append(dir)\n",
    "\n",
    "    # Create surf feature(Speeded-up Robust Features) extraction and keypoint detector objects\n",
    "    # Reading the image and calculating the features and corresponding descriptors\n",
    "    des_list = []\n",
    "    for  image_path in image_paths:\n",
    "        img = cv2.imread(image_path)\n",
    "        img = cv2.resize(img, (128,128))\n",
    "        gray= cv2.cvtColor(img,cv2.COLOR_BGR2GRAY)\n",
    "        surf = cv2.xfeatures2d.SURF_create()\n",
    "        (kps, descs) = surf.detectAndCompute(gray, None)\n",
    "        des_list.append((image_path, descs))  \n",
    "\n",
    "    # Stack all the descriptors vertically in a numpy array\n",
    "    descriptors = des_list[0][1]\n",
    "    for image_path, descriptor in des_list[1:]:\n",
    "        descriptors = np.vstack((descriptors, descriptor))\n",
    "    # Perform k-means clustering\n",
    "    k = 5000 # Number of clusters\n",
    "    voc, variance = kmeans(descriptors, k, 1)  # Perform Kmeans with default values\n",
    "\n",
    "    # Calculate the histogram of features\n",
    "    im_features = np.zeros((len(image_paths), k), \"float32\") \n",
    "    for i in range(len(image_paths)):\n",
    "        words, distance = vq(des_list[i][1],voc)\n",
    "        for w in words:\n",
    "            im_features[i][w] += 1\n",
    "\n",
    "\n",
    "    # Perform Tf-Idf vectorization\n",
    "    nbr_occurences = np.sum( (im_features > 0) * 1, axis = 0)\n",
    "    # Calculating the number of occurrences\n",
    "    idf = np.array(np.log((1.0*len(image_paths)+1) / (1.0*nbr_occurences + 1)), 'float32')\n",
    "    # Giving weight to one that occurs more frequently\n",
    "\n",
    "    # Scaling the words\n",
    "    stdSlr = StandardScaler().fit(im_features)\n",
    "    im_features = stdSlr.transform(im_features)\n",
    "\n",
    "    # Saving the contents into a file\n",
    "    np.savetxt(join(feature_dir,feature_name),im_features,delimiter=\",\")"
   ]
  },
  {
   "cell_type": "markdown",
   "metadata": {},
   "source": [
    "Let's compute surf features on our edge images"
   ]
  },
  {
   "cell_type": "code",
   "execution_count": 92,
   "metadata": {
    "collapsed": true
   },
   "outputs": [
    {
     "ename": "ValueError",
     "evalue": "all the input array dimensions except for the concatenation axis must match exactly",
     "output_type": "error",
     "traceback": [
      "\u001b[0;31m---------------------------------------------------------------------------\u001b[0m",
      "\u001b[0;31mValueError\u001b[0m                                Traceback (most recent call last)",
      "\u001b[0;32m<ipython-input-92-bcd4aa5b7713>\u001b[0m in \u001b[0;36m<module>\u001b[0;34m()\u001b[0m\n\u001b[0;32m----> 1\u001b[0;31m \u001b[0mcompute_surf_features\u001b[0m\u001b[0;34m(\u001b[0m\u001b[0mjoin\u001b[0m\u001b[0;34m(\u001b[0m\u001b[0mimg_dir\u001b[0m\u001b[0;34m,\u001b[0m\u001b[0;34m'img_edge'\u001b[0m\u001b[0;34m)\u001b[0m\u001b[0;34m,\u001b[0m \u001b[0;34m'surf_features_edge'\u001b[0m\u001b[0;34m)\u001b[0m\u001b[0;34m\u001b[0m\u001b[0m\n\u001b[0m",
      "\u001b[0;32m<ipython-input-91-cd3a50222df9>\u001b[0m in \u001b[0;36mcompute_surf_features\u001b[0;34m(image_dir, feature_name)\u001b[0m\n\u001b[1;32m     19\u001b[0m     \u001b[0mdescriptors\u001b[0m \u001b[0;34m=\u001b[0m \u001b[0mdes_list\u001b[0m\u001b[0;34m[\u001b[0m\u001b[0;36m0\u001b[0m\u001b[0;34m]\u001b[0m\u001b[0;34m[\u001b[0m\u001b[0;36m1\u001b[0m\u001b[0;34m]\u001b[0m\u001b[0;34m\u001b[0m\u001b[0m\n\u001b[1;32m     20\u001b[0m     \u001b[0;32mfor\u001b[0m \u001b[0mimage_path\u001b[0m\u001b[0;34m,\u001b[0m \u001b[0mdescriptor\u001b[0m \u001b[0;32min\u001b[0m \u001b[0mdes_list\u001b[0m\u001b[0;34m[\u001b[0m\u001b[0;36m1\u001b[0m\u001b[0;34m:\u001b[0m\u001b[0;34m]\u001b[0m\u001b[0;34m:\u001b[0m\u001b[0;34m\u001b[0m\u001b[0m\n\u001b[0;32m---> 21\u001b[0;31m         \u001b[0mdescriptors\u001b[0m \u001b[0;34m=\u001b[0m \u001b[0mnp\u001b[0m\u001b[0;34m.\u001b[0m\u001b[0mvstack\u001b[0m\u001b[0;34m(\u001b[0m\u001b[0;34m(\u001b[0m\u001b[0mdescriptors\u001b[0m\u001b[0;34m,\u001b[0m \u001b[0mdescriptor\u001b[0m\u001b[0;34m)\u001b[0m\u001b[0;34m)\u001b[0m\u001b[0;34m\u001b[0m\u001b[0m\n\u001b[0m\u001b[1;32m     22\u001b[0m     \u001b[0;31m# Perform k-means clustering\u001b[0m\u001b[0;34m\u001b[0m\u001b[0;34m\u001b[0m\u001b[0m\n\u001b[1;32m     23\u001b[0m     \u001b[0mk\u001b[0m \u001b[0;34m=\u001b[0m \u001b[0;36m5000\u001b[0m \u001b[0;31m# Number of clusters\u001b[0m\u001b[0;34m\u001b[0m\u001b[0m\n",
      "\u001b[0;32m/Users/galen/anaconda/envs/gl-env/lib/python2.7/site-packages/numpy/core/shape_base.pyc\u001b[0m in \u001b[0;36mvstack\u001b[0;34m(tup)\u001b[0m\n\u001b[1;32m    228\u001b[0m \u001b[0;34m\u001b[0m\u001b[0m\n\u001b[1;32m    229\u001b[0m     \"\"\"\n\u001b[0;32m--> 230\u001b[0;31m     \u001b[0;32mreturn\u001b[0m \u001b[0m_nx\u001b[0m\u001b[0;34m.\u001b[0m\u001b[0mconcatenate\u001b[0m\u001b[0;34m(\u001b[0m\u001b[0;34m[\u001b[0m\u001b[0matleast_2d\u001b[0m\u001b[0;34m(\u001b[0m\u001b[0m_m\u001b[0m\u001b[0;34m)\u001b[0m \u001b[0;32mfor\u001b[0m \u001b[0m_m\u001b[0m \u001b[0;32min\u001b[0m \u001b[0mtup\u001b[0m\u001b[0;34m]\u001b[0m\u001b[0;34m,\u001b[0m \u001b[0;36m0\u001b[0m\u001b[0;34m)\u001b[0m\u001b[0;34m\u001b[0m\u001b[0m\n\u001b[0m\u001b[1;32m    231\u001b[0m \u001b[0;34m\u001b[0m\u001b[0m\n\u001b[1;32m    232\u001b[0m \u001b[0;32mdef\u001b[0m \u001b[0mhstack\u001b[0m\u001b[0;34m(\u001b[0m\u001b[0mtup\u001b[0m\u001b[0;34m)\u001b[0m\u001b[0;34m:\u001b[0m\u001b[0;34m\u001b[0m\u001b[0m\n",
      "\u001b[0;31mValueError\u001b[0m: all the input array dimensions except for the concatenation axis must match exactly"
     ]
    }
   ],
   "source": [
    "compute_surf_features(join(img_dir,'img_edge'), 'surf_features_edge')"
   ]
  }
 ],
 "metadata": {
  "kernelspec": {
   "display_name": "Python 2",
   "language": "python",
   "name": "python2"
  },
  "language_info": {
   "codemirror_mode": {
    "name": "ipython",
    "version": 2
   },
   "file_extension": ".py",
   "mimetype": "text/x-python",
   "name": "python",
   "nbconvert_exporter": "python",
   "pygments_lexer": "ipython2",
   "version": "2.7.13"
  }
 },
 "nbformat": 4,
 "nbformat_minor": 2
}
